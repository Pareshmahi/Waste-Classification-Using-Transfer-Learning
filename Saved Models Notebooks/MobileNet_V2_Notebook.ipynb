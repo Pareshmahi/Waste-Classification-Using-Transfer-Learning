{
  "nbformat": 4,
  "nbformat_minor": 0,
  "metadata": {
    "colab": {
      "provenance": [],
      "gpuType": "T4"
    },
    "kernelspec": {
      "name": "python3",
      "display_name": "Python 3"
    },
    "language_info": {
      "name": "python"
    },
    "accelerator": "GPU"
  },
  "cells": [
    {
      "cell_type": "code",
      "execution_count": null,
      "metadata": {
        "colab": {
          "base_uri": "https://localhost:8080/"
        },
        "id": "PPH8BVT0Q9b9",
        "outputId": "285660e7-c414-4512-8d76-0c14d62b02d9"
      },
      "outputs": [
        {
          "output_type": "stream",
          "name": "stdout",
          "text": [
            "Drive already mounted at /content/drive; to attempt to forcibly remount, call drive.mount(\"/content/drive\", force_remount=True).\n"
          ]
        }
      ],
      "source": [
        "from google.colab import drive\n",
        "drive.mount('/content/drive')"
      ]
    },
    {
      "cell_type": "code",
      "source": [
        "!pip install torch torchvision torchaudio\n",
        "!pip install tqdm matplotlib scikit-learn"
      ],
      "metadata": {
        "colab": {
          "base_uri": "https://localhost:8080/"
        },
        "id": "AQcus6fZSR4y",
        "outputId": "c2ca59c2-0301-495c-fb11-de3529ca20a3"
      },
      "execution_count": null,
      "outputs": [
        {
          "output_type": "stream",
          "name": "stdout",
          "text": [
            "Requirement already satisfied: torch in /usr/local/lib/python3.11/dist-packages (2.6.0+cu124)\n",
            "Requirement already satisfied: torchvision in /usr/local/lib/python3.11/dist-packages (0.21.0+cu124)\n",
            "Requirement already satisfied: torchaudio in /usr/local/lib/python3.11/dist-packages (2.6.0+cu124)\n",
            "Requirement already satisfied: filelock in /usr/local/lib/python3.11/dist-packages (from torch) (3.18.0)\n",
            "Requirement already satisfied: typing-extensions>=4.10.0 in /usr/local/lib/python3.11/dist-packages (from torch) (4.13.0)\n",
            "Requirement already satisfied: networkx in /usr/local/lib/python3.11/dist-packages (from torch) (3.4.2)\n",
            "Requirement already satisfied: jinja2 in /usr/local/lib/python3.11/dist-packages (from torch) (3.1.6)\n",
            "Requirement already satisfied: fsspec in /usr/local/lib/python3.11/dist-packages (from torch) (2025.3.0)\n",
            "Requirement already satisfied: nvidia-cuda-nvrtc-cu12==12.4.127 in /usr/local/lib/python3.11/dist-packages (from torch) (12.4.127)\n",
            "Requirement already satisfied: nvidia-cuda-runtime-cu12==12.4.127 in /usr/local/lib/python3.11/dist-packages (from torch) (12.4.127)\n",
            "Requirement already satisfied: nvidia-cuda-cupti-cu12==12.4.127 in /usr/local/lib/python3.11/dist-packages (from torch) (12.4.127)\n",
            "Requirement already satisfied: nvidia-cudnn-cu12==9.1.0.70 in /usr/local/lib/python3.11/dist-packages (from torch) (9.1.0.70)\n",
            "Requirement already satisfied: nvidia-cublas-cu12==12.4.5.8 in /usr/local/lib/python3.11/dist-packages (from torch) (12.4.5.8)\n",
            "Requirement already satisfied: nvidia-cufft-cu12==11.2.1.3 in /usr/local/lib/python3.11/dist-packages (from torch) (11.2.1.3)\n",
            "Requirement already satisfied: nvidia-curand-cu12==10.3.5.147 in /usr/local/lib/python3.11/dist-packages (from torch) (10.3.5.147)\n",
            "Requirement already satisfied: nvidia-cusolver-cu12==11.6.1.9 in /usr/local/lib/python3.11/dist-packages (from torch) (11.6.1.9)\n",
            "Requirement already satisfied: nvidia-cusparse-cu12==12.3.1.170 in /usr/local/lib/python3.11/dist-packages (from torch) (12.3.1.170)\n",
            "Requirement already satisfied: nvidia-cusparselt-cu12==0.6.2 in /usr/local/lib/python3.11/dist-packages (from torch) (0.6.2)\n",
            "Requirement already satisfied: nvidia-nccl-cu12==2.21.5 in /usr/local/lib/python3.11/dist-packages (from torch) (2.21.5)\n",
            "Requirement already satisfied: nvidia-nvtx-cu12==12.4.127 in /usr/local/lib/python3.11/dist-packages (from torch) (12.4.127)\n",
            "Requirement already satisfied: nvidia-nvjitlink-cu12==12.4.127 in /usr/local/lib/python3.11/dist-packages (from torch) (12.4.127)\n",
            "Requirement already satisfied: triton==3.2.0 in /usr/local/lib/python3.11/dist-packages (from torch) (3.2.0)\n",
            "Requirement already satisfied: sympy==1.13.1 in /usr/local/lib/python3.11/dist-packages (from torch) (1.13.1)\n",
            "Requirement already satisfied: mpmath<1.4,>=1.1.0 in /usr/local/lib/python3.11/dist-packages (from sympy==1.13.1->torch) (1.3.0)\n",
            "Requirement already satisfied: numpy in /usr/local/lib/python3.11/dist-packages (from torchvision) (2.0.2)\n",
            "Requirement already satisfied: pillow!=8.3.*,>=5.3.0 in /usr/local/lib/python3.11/dist-packages (from torchvision) (11.1.0)\n",
            "Requirement already satisfied: MarkupSafe>=2.0 in /usr/local/lib/python3.11/dist-packages (from jinja2->torch) (3.0.2)\n",
            "Requirement already satisfied: tqdm in /usr/local/lib/python3.11/dist-packages (4.67.1)\n",
            "Requirement already satisfied: matplotlib in /usr/local/lib/python3.11/dist-packages (3.10.0)\n",
            "Requirement already satisfied: scikit-learn in /usr/local/lib/python3.11/dist-packages (1.6.1)\n",
            "Requirement already satisfied: contourpy>=1.0.1 in /usr/local/lib/python3.11/dist-packages (from matplotlib) (1.3.1)\n",
            "Requirement already satisfied: cycler>=0.10 in /usr/local/lib/python3.11/dist-packages (from matplotlib) (0.12.1)\n",
            "Requirement already satisfied: fonttools>=4.22.0 in /usr/local/lib/python3.11/dist-packages (from matplotlib) (4.56.0)\n",
            "Requirement already satisfied: kiwisolver>=1.3.1 in /usr/local/lib/python3.11/dist-packages (from matplotlib) (1.4.8)\n",
            "Requirement already satisfied: numpy>=1.23 in /usr/local/lib/python3.11/dist-packages (from matplotlib) (2.0.2)\n",
            "Requirement already satisfied: packaging>=20.0 in /usr/local/lib/python3.11/dist-packages (from matplotlib) (24.2)\n",
            "Requirement already satisfied: pillow>=8 in /usr/local/lib/python3.11/dist-packages (from matplotlib) (11.1.0)\n",
            "Requirement already satisfied: pyparsing>=2.3.1 in /usr/local/lib/python3.11/dist-packages (from matplotlib) (3.2.3)\n",
            "Requirement already satisfied: python-dateutil>=2.7 in /usr/local/lib/python3.11/dist-packages (from matplotlib) (2.8.2)\n",
            "Requirement already satisfied: scipy>=1.6.0 in /usr/local/lib/python3.11/dist-packages (from scikit-learn) (1.14.1)\n",
            "Requirement already satisfied: joblib>=1.2.0 in /usr/local/lib/python3.11/dist-packages (from scikit-learn) (1.4.2)\n",
            "Requirement already satisfied: threadpoolctl>=3.1.0 in /usr/local/lib/python3.11/dist-packages (from scikit-learn) (3.6.0)\n",
            "Requirement already satisfied: six>=1.5 in /usr/local/lib/python3.11/dist-packages (from python-dateutil>=2.7->matplotlib) (1.17.0)\n"
          ]
        }
      ]
    },
    {
      "cell_type": "code",
      "source": [
        "import torch\n",
        "import torchvision\n",
        "import torch.nn as nn\n",
        "import torch.optim as optim\n",
        "import torchvision.transforms as transforms\n",
        "import torchvision.models as models\n",
        "import matplotlib.pyplot as plt\n",
        "import numpy as np\n",
        "import time\n",
        "import os\n",
        "from torch.utils.data import DataLoader, Dataset\n",
        "from torchvision.datasets import ImageFolder\n",
        "from sklearn.metrics import accuracy_score, precision_score, recall_score, f1_score\n",
        "from tqdm import tqdm\n",
        "from PIL import Image"
      ],
      "metadata": {
        "id": "8PujdC_ZSv7J"
      },
      "execution_count": null,
      "outputs": []
    },
    {
      "cell_type": "code",
      "source": [
        "# Check if CUDA (GPU support) is available\n",
        "if torch.cuda.is_available():\n",
        "    # Get the number of available GPUs\n",
        "    num_gpus = torch.cuda.device_count()\n",
        "    print(f\"Number of GPUs available: {num_gpus}\")\n",
        "\n",
        "    # Get the name of the current GPU\n",
        "    gpu_name = torch.cuda.get_device_name(torch.cuda.current_device())\n",
        "    print(f\"Current GPU: {gpu_name}\")\n",
        "\n",
        "    # Get GPU device properties\n",
        "    device = torch.device('cuda')\n",
        "    print(f\"Device type: {device.type}\")\n",
        "else:\n",
        "    print(\"CUDA is not available. PyTorch will run on the CPU.\")"
      ],
      "metadata": {
        "colab": {
          "base_uri": "https://localhost:8080/"
        },
        "id": "VB_vXA04TOyn",
        "outputId": "d286e1e5-1d5e-4851-9cad-aa110417ddc6"
      },
      "execution_count": null,
      "outputs": [
        {
          "output_type": "stream",
          "name": "stdout",
          "text": [
            "Number of GPUs available: 1\n",
            "Current GPU: Tesla T4\n",
            "Device type: cuda\n"
          ]
        }
      ]
    },
    {
      "cell_type": "code",
      "source": [
        "# Standard image size for CNNs\n",
        "image_size = 224\n",
        "\n",
        "# Custom dataset class to handle corrupt images\n",
        "class CustomImageFolder(ImageFolder):\n",
        "    def __getitem__(self, index):\n",
        "        try:\n",
        "            return super().__getitem__(index)\n",
        "        except Exception as e:\n",
        "            print(f\"Skipping corrupted image: {self.imgs[index][0]} - {e}\")\n",
        "            return self.__getitem__((index + 1) % len(self.imgs))  # Get next valid image\n",
        "\n",
        "# Optimized Transformations (SAME FOR ALL MODELS)\n",
        "train_transforms = transforms.Compose([\n",
        "    transforms.Resize((image_size, image_size)),\n",
        "    transforms.Lambda(lambda img: img.convert('RGB')),  # Ensures all images are RGB\n",
        "    transforms.RandomHorizontalFlip(p=0.5),  # Flip 50% of the time\n",
        "    transforms.RandomRotation(10),  # Rotate within ±10 degrees\n",
        "    transforms.RandomResizedCrop(image_size, scale=(0.8, 1.0)),  # Random cropping\n",
        "    transforms.ColorJitter(brightness=0.1, contrast=0.1, saturation=0.1, hue=0.05),  # Color variation\n",
        "    transforms.ToTensor(),\n",
        "    transforms.Normalize([0.485, 0.456, 0.406], [0.229, 0.224, 0.225])  # Standard normalization\n",
        "])\n",
        "\n",
        "val_transforms = transforms.Compose([\n",
        "    transforms.Resize((image_size, image_size)),\n",
        "    transforms.Lambda(lambda img: img.convert('RGB')),\n",
        "    transforms.ToTensor(),\n",
        "    transforms.Normalize([0.485, 0.456, 0.406], [0.229, 0.224, 0.225])\n",
        "])\n",
        "\n",
        "# Paths\n",
        "dataset_path = \"/content/drive/MyDrive/Waste Classification using Transfer Learning/Dataset\"\n",
        "validation_path = \"/content/drive/MyDrive/Waste Classification using Transfer Learning/Data Validation\"\n",
        "\n",
        "# Hyperparameters (Optimized for Performance)\n",
        "batch_size = 32  # Changed from 64 to 32\n",
        "num_workers = 4  # Parallel data loading\n",
        "\n",
        "# Load dataset with corrupt image handling\n",
        "train_dataset = CustomImageFolder(root=dataset_path, transform=train_transforms)\n",
        "val_dataset = CustomImageFolder(root=validation_path, transform=val_transforms)\n",
        "\n",
        "train_loader = DataLoader(train_dataset, batch_size=batch_size, shuffle=True, num_workers=num_workers)\n",
        "val_loader = DataLoader(val_dataset, batch_size=batch_size, shuffle=False, num_workers=num_workers)\n",
        "\n",
        "# Print class names to verify\n",
        "print(\"Classes:\", train_dataset.classes)\n",
        "\n",
        "# Function to check for corrupt images before training\n",
        "def check_corrupt_images(dataset_path):\n",
        "    print(\"Checking dataset for corrupt images...\")\n",
        "    for folder in os.listdir(dataset_path):\n",
        "        folder_path = os.path.join(dataset_path, folder)\n",
        "        if os.path.isdir(folder_path):\n",
        "            for file in os.listdir(folder_path):\n",
        "                file_path = os.path.join(folder_path, file)\n",
        "                try:\n",
        "                    with Image.open(file_path) as img:\n",
        "                        img.verify()  # Verify image integrity\n",
        "                except:\n",
        "                    print(f\"Corrupt or non-image file found: {file_path}\")\n",
        "\n",
        "# Run dataset check\n",
        "check_corrupt_images(dataset_path)\n",
        "check_corrupt_images(validation_path)\n",
        "\n",
        "print(\"Dataset loaded successfully!\")"
      ],
      "metadata": {
        "colab": {
          "base_uri": "https://localhost:8080/"
        },
        "id": "3TKp-8q4UN4Y",
        "outputId": "c60c8c07-46be-46e3-f2c8-8f0c71d491ed"
      },
      "execution_count": null,
      "outputs": [
        {
          "output_type": "stream",
          "name": "stderr",
          "text": [
            "/usr/local/lib/python3.11/dist-packages/torch/utils/data/dataloader.py:624: UserWarning: This DataLoader will create 4 worker processes in total. Our suggested max number of worker in current system is 2, which is smaller than what this DataLoader is going to create. Please be aware that excessive worker creation might get DataLoader running slow or even freeze, lower the worker number to avoid potential slowness/freeze if necessary.\n",
            "  warnings.warn(\n"
          ]
        },
        {
          "output_type": "stream",
          "name": "stdout",
          "text": [
            "Classes: ['cardboard', 'e-waste', 'glass', 'medical', 'metal', 'paper', 'plastic']\n",
            "Checking dataset for corrupt images...\n",
            "Corrupt or non-image file found: /content/drive/MyDrive/Waste Classification using Transfer Learning/Dataset/paper/paper 2273.jpg\n",
            "Corrupt or non-image file found: /content/drive/MyDrive/Waste Classification using Transfer Learning/Dataset/cardboard/cardboard 1075.jpg\n",
            "Corrupt or non-image file found: /content/drive/MyDrive/Waste Classification using Transfer Learning/Dataset/e-waste/e-waste 1719.jpg\n",
            "Checking dataset for corrupt images...\n",
            "Dataset loaded successfully!\n"
          ]
        }
      ]
    },
    {
      "cell_type": "code",
      "source": [
        "def train_model(model, model_name, criterion, optimizer, train_loader, val_loader, device, num_epochs=25, patience=5, scheduler=None):\n",
        "    train_losses, val_losses, train_accs, val_accs = [], [], [], []\n",
        "    best_val_acc = 0  # Track best validation accuracy\n",
        "    best_val_loss = float('inf')  # Track best validation loss\n",
        "    patience_counter = 0\n",
        "\n",
        "    # Create directory for saving models\n",
        "    save_dir = os.path.join(\"/content/drive/MyDrive/Waste Classification using Transfer Learning/Saved Models\", model_name)\n",
        "    os.makedirs(save_dir, exist_ok=True)\n",
        "\n",
        "    print(\"Starting training...\")\n",
        "\n",
        "    for epoch in range(1, num_epochs + 1):\n",
        "        print(f\"\\nEpoch {epoch}/{num_epochs} started...\")\n",
        "        model.train()\n",
        "        running_loss, correct, total = 0.0, 0, 0\n",
        "\n",
        "        for batch_idx, (inputs, labels) in enumerate(train_loader):\n",
        "            inputs, labels = inputs.to(device), labels.to(device)\n",
        "            optimizer.zero_grad()\n",
        "\n",
        "            outputs = model(inputs)\n",
        "            loss = criterion(outputs, labels)\n",
        "            loss.backward()\n",
        "            optimizer.step()\n",
        "\n",
        "            running_loss += loss.item()\n",
        "            _, predicted = torch.max(outputs, 1)\n",
        "            total += labels.size(0)\n",
        "            correct += (predicted == labels).sum().item()\n",
        "\n",
        "            if batch_idx % 10 == 0:\n",
        "                print(f\"Batch {batch_idx}/{len(train_loader)}: Loss = {loss.item():.4f}\")\n",
        "\n",
        "        train_loss = running_loss / len(train_loader)\n",
        "        train_acc = (correct / total) * 100\n",
        "\n",
        "        print(\"Training phase completed. Starting validation...\")\n",
        "\n",
        "        # Validation Phase\n",
        "        model.eval()\n",
        "        val_loss, val_correct, val_total = 0.0, 0, 0\n",
        "        all_preds, all_labels = [], []\n",
        "\n",
        "        with torch.no_grad():\n",
        "            for batch_idx, (inputs, labels) in enumerate(val_loader):\n",
        "                inputs, labels = inputs.to(device), labels.to(device)\n",
        "                outputs = model(inputs)\n",
        "                loss = criterion(outputs, labels)\n",
        "\n",
        "                val_loss += loss.item()\n",
        "                _, predicted = torch.max(outputs, 1)\n",
        "                val_total += labels.size(0)\n",
        "                val_correct += (predicted == labels).sum().item()\n",
        "\n",
        "                all_preds.extend(predicted.cpu().numpy())\n",
        "                all_labels.extend(labels.cpu().numpy())\n",
        "\n",
        "        val_loss /= len(val_loader)\n",
        "        val_acc = (val_correct / val_total) * 100\n",
        "\n",
        "        # Compute Precision, Recall, and F1-score\n",
        "        precision = precision_score(all_labels, all_preds, average='macro') * 100\n",
        "        recall = recall_score(all_labels, all_preds, average='macro') * 100\n",
        "        f1 = f1_score(all_labels, all_preds, average='macro') * 100\n",
        "\n",
        "        # Store metrics\n",
        "        train_losses.append(train_loss)\n",
        "        val_losses.append(val_loss)\n",
        "        train_accs.append(train_acc)\n",
        "        val_accs.append(val_acc)\n",
        "\n",
        "        # Print Metrics for Each Epoch\n",
        "        print(f\"Epoch [{epoch}/{num_epochs}] completed.\")\n",
        "        print(f\"Train Loss: {train_loss:.4f} | Train Acc: {train_acc:.2f}%\")\n",
        "        print(f\"Val Loss: {val_loss:.4f} | Val Acc: {val_acc:.2f}%\")\n",
        "        print(f\"Precision: {precision:.2f}% | Recall: {recall:.2f}% | F1-score: {f1:.2f}%\")\n",
        "\n",
        "        # Save checkpoint every 5 epochs\n",
        "        if epoch % 5 == 0:\n",
        "            checkpoint_path = os.path.join(save_dir, f'checkpoint_epoch_{epoch}.pth')\n",
        "            checkpoint = {\n",
        "                'epoch': epoch,\n",
        "                'model_state_dict': model.state_dict(),\n",
        "                'optimizer_state_dict': optimizer.state_dict(),\n",
        "                'train_loss': train_loss,\n",
        "                'val_loss': val_loss,\n",
        "                'val_acc': val_acc\n",
        "            }\n",
        "            torch.save(checkpoint, checkpoint_path)\n",
        "            print(f\"Checkpoint saved at {checkpoint_path}!\")\n",
        "\n",
        "        # Save best model (based on validation accuracy or loss)\n",
        "        if val_loss < best_val_loss or val_acc > best_val_acc:\n",
        "            best_val_loss = min(best_val_loss, val_loss)\n",
        "            best_val_acc = max(best_val_acc, val_acc)\n",
        "            patience_counter = 0  # Reset patience counter\n",
        "\n",
        "            best_model_path = os.path.join(save_dir, 'Model_MobileNetV2.pth')\n",
        "            torch.save({\n",
        "                'epoch': epoch,\n",
        "                'model_state_dict': model.state_dict(),\n",
        "                'optimizer_state_dict': optimizer.state_dict(),\n",
        "                'train_loss': train_loss,\n",
        "                'val_loss': val_loss,\n",
        "                'val_acc': val_acc\n",
        "            }, best_model_path)\n",
        "\n",
        "            print(f\"New best model saved at {best_model_path}!\")\n",
        "        else:\n",
        "            patience_counter += 1  # Increment counter if no improvement\n",
        "\n",
        "        # Early Stopping Condition\n",
        "        if patience_counter >= patience:\n",
        "            print(f\"Early stopping at epoch {epoch} due to no improvement in validation loss or accuracy.\")\n",
        "            break\n",
        "\n",
        "    print(\"Training complete!\")\n",
        "    return train_losses, val_losses, train_accs, val_accs"
      ],
      "metadata": {
        "id": "qtg9Ou58UVGs"
      },
      "execution_count": null,
      "outputs": []
    },
    {
      "cell_type": "code",
      "source": [
        "import torch\n",
        "import torch.nn as nn\n",
        "import torch.optim as optim\n",
        "from torchvision.models import (\n",
        "    resnet50, ResNet50_Weights,\n",
        "    resnet34, ResNet34_Weights,\n",
        "    efficientnet_b0, EfficientNet_B0_Weights,\n",
        "    efficientnet_b3, EfficientNet_B3_Weights,\n",
        "    vgg16, VGG16_Weights,\n",
        "    densenet121, DenseNet121_Weights,\n",
        "    mobilenet_v2, MobileNet_V2_Weights,\n",
        "    inception_v3, Inception_V3_Weights\n",
        ")\n",
        "\n",
        "# Set device\n",
        "device = torch.device(\"cuda\" if torch.cuda.is_available() else \"cpu\")\n",
        "\n",
        "# Select the model\n",
        "selected_model_name = \"MobileNet-V2\"  # Change this to train other models\n",
        "\n",
        "# Define models\n",
        "models_list = {\n",
        "    \"ResNet-50\": resnet50(weights=ResNet50_Weights.IMAGENET1K_V1),\n",
        "    \"ResNet-34\": resnet34(weights=ResNet34_Weights.IMAGENET1K_V1),\n",
        "    \"EfficientNet-B0\": efficientnet_b0(weights=EfficientNet_B0_Weights.IMAGENET1K_V1),\n",
        "    \"EfficientNet-B3\": efficientnet_b3(weights=EfficientNet_B3_Weights.IMAGENET1K_V1),\n",
        "    \"VGG16\": vgg16(weights=VGG16_Weights.IMAGENET1K_V1),\n",
        "    \"DenseNet-121\": densenet121(weights=DenseNet121_Weights.IMAGENET1K_V1),\n",
        "    \"MobileNet-V2\": mobilenet_v2(weights=MobileNet_V2_Weights.IMAGENET1K_V1),\n",
        "    \"Inception-V3\": inception_v3(weights=Inception_V3_Weights.IMAGENET1K_V1)\n",
        "}\n",
        "\n",
        "# Get the selected model\n",
        "model = models_list[selected_model_name]\n",
        "print(f\"\\nTraining {selected_model_name}...\\n\")\n",
        "\n",
        "# Adjust the final layer for 7 classes based on the model type\n",
        "if \"resnet\" in selected_model_name.lower():\n",
        "    num_features = model.fc.in_features\n",
        "    model.fc = nn.Linear(num_features, 7)\n",
        "elif \"efficientnet\" in selected_model_name.lower():\n",
        "    num_features = model.classifier[1].in_features if hasattr(model.classifier, \"__getitem__\") else model.classifier.in_features\n",
        "    model.classifier = nn.Linear(num_features, 7)\n",
        "elif \"densenet\" in selected_model_name.lower():\n",
        "    num_features = model.classifier.in_features\n",
        "    model.classifier = nn.Linear(num_features, 7)\n",
        "elif \"vgg\" in selected_model_name.lower():\n",
        "    num_features = model.classifier[6].in_features\n",
        "    model.classifier[6] = nn.Linear(num_features, 7)\n",
        "elif \"mobilenet\" in selected_model_name.lower():\n",
        "    num_features = model.classifier[1].in_features if hasattr(model.classifier, \"__getitem__\") else model.classifier.in_features\n",
        "    model.classifier = nn.Linear(num_features, 7)\n",
        "elif \"inception\" in selected_model_name.lower():\n",
        "    num_features = model.fc.in_features\n",
        "    model.fc = nn.Linear(num_features, 7)\n",
        "    if model.aux_logits:  # Inception has an auxiliary classifier\n",
        "        num_features_aux = model.AuxLogits.fc.in_features\n",
        "        model.AuxLogits.fc = nn.Linear(num_features_aux, 7)\n",
        "\n",
        "# Move model to the device (CPU/GPU)\n",
        "model = model.to(device)\n",
        "model.train()  # Ensure the model is in training mode\n",
        "\n",
        "# Define Loss Function and Optimizer\n",
        "criterion = nn.CrossEntropyLoss()\n",
        "optimizer = optim.Adam(model.parameters(), lr=0.0001, weight_decay=1e-4)\n",
        "\n",
        "# Learning rate scheduler\n",
        "scheduler = optim.lr_scheduler.ReduceLROnPlateau(optimizer, mode='min', factor=0.1, patience=3, verbose=True)\n",
        "\n",
        "# Train the model\n",
        "train_losses, val_losses, train_accs, val_accs = train_model(\n",
        "    model=model,\n",
        "    model_name=selected_model_name,\n",
        "    criterion=criterion,\n",
        "    optimizer=optimizer,\n",
        "    train_loader=train_loader,\n",
        "    val_loader=val_loader,\n",
        "    device=device,\n",
        "    num_epochs=25,\n",
        "    patience=5,\n",
        "    scheduler=scheduler\n",
        ")"
      ],
      "metadata": {
        "colab": {
          "base_uri": "https://localhost:8080/"
        },
        "id": "ZBiHdRnAVDlU",
        "outputId": "eec12683-d253-4878-9f7e-3c358a6eb016"
      },
      "execution_count": null,
      "outputs": [
        {
          "output_type": "stream",
          "name": "stdout",
          "text": [
            "\n",
            "Training MobileNet-V2...\n",
            "\n",
            "Starting training...\n",
            "\n",
            "Epoch 1/25 started...\n"
          ]
        },
        {
          "output_type": "stream",
          "name": "stderr",
          "text": [
            "/usr/local/lib/python3.11/dist-packages/torch/optim/lr_scheduler.py:62: UserWarning: The verbose parameter is deprecated. Please use get_last_lr() to access the learning rate.\n",
            "  warnings.warn(\n"
          ]
        },
        {
          "output_type": "stream",
          "name": "stdout",
          "text": [
            "Batch 0/455: Loss = 1.9737\n",
            "Batch 10/455: Loss = 1.5207\n"
          ]
        },
        {
          "output_type": "stream",
          "name": "stderr",
          "text": [
            "/usr/local/lib/python3.11/dist-packages/PIL/Image.py:1045: UserWarning: Palette images with Transparency expressed in bytes should be converted to RGBA images\n",
            "  warnings.warn(\n"
          ]
        },
        {
          "output_type": "stream",
          "name": "stdout",
          "text": [
            "Batch 20/455: Loss = 1.3587\n",
            "Batch 30/455: Loss = 1.0523\n"
          ]
        },
        {
          "output_type": "stream",
          "name": "stderr",
          "text": [
            "/usr/local/lib/python3.11/dist-packages/PIL/Image.py:1045: UserWarning: Palette images with Transparency expressed in bytes should be converted to RGBA images\n",
            "  warnings.warn(\n"
          ]
        },
        {
          "output_type": "stream",
          "name": "stdout",
          "text": [
            "Batch 40/455: Loss = 0.9380\n",
            "Batch 50/455: Loss = 0.7069\n",
            "Batch 60/455: Loss = 0.8128\n",
            "Skipping corrupted image: /content/drive/MyDrive/Waste Classification using Transfer Learning/Dataset/e-waste/e-waste 1719.jpg - cannot identify image file <_io.BufferedReader name='/content/drive/MyDrive/Waste Classification using Transfer Learning/Dataset/e-waste/e-waste 1719.jpg'>\n",
            "Batch 70/455: Loss = 0.7498\n",
            "Batch 80/455: Loss = 0.8812\n",
            "Batch 90/455: Loss = 0.6428\n",
            "Batch 100/455: Loss = 0.6724\n",
            "Batch 110/455: Loss = 0.9940\n"
          ]
        },
        {
          "output_type": "stream",
          "name": "stderr",
          "text": [
            "/usr/local/lib/python3.11/dist-packages/PIL/Image.py:1045: UserWarning: Palette images with Transparency expressed in bytes should be converted to RGBA images\n",
            "  warnings.warn(\n",
            "/usr/local/lib/python3.11/dist-packages/PIL/Image.py:1045: UserWarning: Palette images with Transparency expressed in bytes should be converted to RGBA images\n",
            "  warnings.warn(\n"
          ]
        },
        {
          "output_type": "stream",
          "name": "stdout",
          "text": [
            "Batch 120/455: Loss = 0.7362\n",
            "Batch 130/455: Loss = 0.8690\n",
            "Batch 140/455: Loss = 0.5141\n",
            "Batch 150/455: Loss = 0.4802\n",
            "Batch 160/455: Loss = 0.6278\n",
            "Batch 170/455: Loss = 0.8330\n",
            "Batch 180/455: Loss = 0.5832\n",
            "Batch 190/455: Loss = 0.5152\n",
            "Skipping corrupted image: /content/drive/MyDrive/Waste Classification using Transfer Learning/Dataset/paper/paper 2273.jpg - cannot identify image file <_io.BufferedReader name='/content/drive/MyDrive/Waste Classification using Transfer Learning/Dataset/paper/paper 2273.jpg'>\n",
            "Batch 200/455: Loss = 0.6541\n",
            "Batch 210/455: Loss = 0.5302\n",
            "Batch 220/455: Loss = 0.6233\n",
            "Batch 230/455: Loss = 0.5757\n",
            "Batch 240/455: Loss = 0.6665\n",
            "Skipping corrupted image: /content/drive/MyDrive/Waste Classification using Transfer Learning/Dataset/cardboard/cardboard 1075.jpg - cannot identify image file <_io.BufferedReader name='/content/drive/MyDrive/Waste Classification using Transfer Learning/Dataset/cardboard/cardboard 1075.jpg'>\n",
            "Batch 250/455: Loss = 0.5193\n",
            "Batch 260/455: Loss = 0.8093\n",
            "Batch 270/455: Loss = 0.6392\n",
            "Batch 280/455: Loss = 0.4463\n",
            "Batch 290/455: Loss = 0.6315\n",
            "Batch 300/455: Loss = 0.7303\n",
            "Batch 310/455: Loss = 0.4267\n",
            "Batch 320/455: Loss = 0.5799\n",
            "Batch 330/455: Loss = 0.4233\n",
            "Batch 340/455: Loss = 0.5466\n",
            "Batch 350/455: Loss = 0.7504\n",
            "Batch 360/455: Loss = 0.4866\n",
            "Batch 370/455: Loss = 0.8208\n",
            "Batch 380/455: Loss = 0.6609\n",
            "Batch 390/455: Loss = 0.4819\n",
            "Batch 400/455: Loss = 0.2905\n",
            "Batch 410/455: Loss = 0.5005\n",
            "Batch 420/455: Loss = 0.4893\n",
            "Batch 430/455: Loss = 0.5218\n",
            "Batch 440/455: Loss = 0.3954\n",
            "Batch 450/455: Loss = 0.5749\n",
            "Training phase completed. Starting validation...\n"
          ]
        },
        {
          "output_type": "stream",
          "name": "stderr",
          "text": [
            "/usr/local/lib/python3.11/dist-packages/PIL/Image.py:1045: UserWarning: Palette images with Transparency expressed in bytes should be converted to RGBA images\n",
            "  warnings.warn(\n",
            "/usr/local/lib/python3.11/dist-packages/PIL/Image.py:1045: UserWarning: Palette images with Transparency expressed in bytes should be converted to RGBA images\n",
            "  warnings.warn(\n"
          ]
        },
        {
          "output_type": "stream",
          "name": "stdout",
          "text": [
            "Epoch [1/25] completed.\n",
            "Train Loss: 0.6761 | Train Acc: 76.86%\n",
            "Val Loss: 0.4381 | Val Acc: 85.77%\n",
            "Precision: 86.21% | Recall: 85.41% | F1-score: 85.65%\n",
            "New best model saved at /content/drive/MyDrive/Waste Classification using Transfer Learning/Saved Models/MobileNet-V2/Model_MobileNetV2.pth!\n",
            "\n",
            "Epoch 2/25 started...\n"
          ]
        },
        {
          "output_type": "stream",
          "name": "stderr",
          "text": [
            "/usr/local/lib/python3.11/dist-packages/torch/utils/data/dataloader.py:624: UserWarning: This DataLoader will create 4 worker processes in total. Our suggested max number of worker in current system is 2, which is smaller than what this DataLoader is going to create. Please be aware that excessive worker creation might get DataLoader running slow or even freeze, lower the worker number to avoid potential slowness/freeze if necessary.\n",
            "  warnings.warn(\n",
            "/usr/local/lib/python3.11/dist-packages/PIL/Image.py:1045: UserWarning: Palette images with Transparency expressed in bytes should be converted to RGBA images\n",
            "  warnings.warn(\n"
          ]
        },
        {
          "output_type": "stream",
          "name": "stdout",
          "text": [
            "Batch 0/455: Loss = 0.3548\n",
            "Batch 10/455: Loss = 0.3899\n",
            "Batch 20/455: Loss = 0.2264\n",
            "Batch 30/455: Loss = 0.2990\n",
            "Batch 40/455: Loss = 0.3595\n",
            "Batch 50/455: Loss = 0.2603\n",
            "Batch 60/455: Loss = 0.4348\n",
            "Batch 70/455: Loss = 0.4465\n",
            "Batch 80/455: Loss = 0.5349\n",
            "Batch 90/455: Loss = 0.4958\n",
            "Batch 100/455: Loss = 0.4046\n"
          ]
        },
        {
          "output_type": "stream",
          "name": "stderr",
          "text": [
            "/usr/local/lib/python3.11/dist-packages/PIL/Image.py:1045: UserWarning: Palette images with Transparency expressed in bytes should be converted to RGBA images\n",
            "  warnings.warn(\n"
          ]
        },
        {
          "output_type": "stream",
          "name": "stdout",
          "text": [
            "Batch 110/455: Loss = 0.4342\n",
            "Skipping corrupted image: /content/drive/MyDrive/Waste Classification using Transfer Learning/Dataset/e-waste/e-waste 1719.jpg - cannot identify image file <_io.BufferedReader name='/content/drive/MyDrive/Waste Classification using Transfer Learning/Dataset/e-waste/e-waste 1719.jpg'>\n",
            "Skipping corrupted image: /content/drive/MyDrive/Waste Classification using Transfer Learning/Dataset/paper/paper 2273.jpg - cannot identify image file <_io.BufferedReader name='/content/drive/MyDrive/Waste Classification using Transfer Learning/Dataset/paper/paper 2273.jpg'>\n",
            "Batch 120/455: Loss = 0.1480\n",
            "Batch 130/455: Loss = 0.7829\n",
            "Batch 140/455: Loss = 0.3028\n",
            "Batch 150/455: Loss = 0.3762\n"
          ]
        },
        {
          "output_type": "stream",
          "name": "stderr",
          "text": [
            "/usr/local/lib/python3.11/dist-packages/PIL/Image.py:1045: UserWarning: Palette images with Transparency expressed in bytes should be converted to RGBA images\n",
            "  warnings.warn(\n"
          ]
        },
        {
          "output_type": "stream",
          "name": "stdout",
          "text": [
            "Batch 160/455: Loss = 0.3886\n"
          ]
        },
        {
          "output_type": "stream",
          "name": "stderr",
          "text": [
            "/usr/local/lib/python3.11/dist-packages/PIL/Image.py:1045: UserWarning: Palette images with Transparency expressed in bytes should be converted to RGBA images\n",
            "  warnings.warn(\n"
          ]
        },
        {
          "output_type": "stream",
          "name": "stdout",
          "text": [
            "Batch 170/455: Loss = 0.4666\n",
            "Batch 180/455: Loss = 0.3201\n",
            "Batch 190/455: Loss = 0.2060\n",
            "Batch 200/455: Loss = 0.3925\n",
            "Batch 210/455: Loss = 0.6002\n",
            "Batch 220/455: Loss = 0.4074\n",
            "Batch 230/455: Loss = 0.3084\n",
            "Batch 240/455: Loss = 0.4508\n",
            "Batch 250/455: Loss = 0.6105\n",
            "Batch 260/455: Loss = 0.3191\n",
            "Batch 270/455: Loss = 0.3570\n",
            "Batch 280/455: Loss = 0.3051\n",
            "Batch 290/455: Loss = 0.4338\n",
            "Batch 300/455: Loss = 0.5472\n",
            "Batch 310/455: Loss = 0.4144\n",
            "Batch 320/455: Loss = 0.2143\n",
            "Batch 330/455: Loss = 0.4936\n",
            "Batch 340/455: Loss = 0.4577\n",
            "Batch 350/455: Loss = 0.3932\n",
            "Batch 360/455: Loss = 0.4276\n",
            "Batch 370/455: Loss = 0.4993\n",
            "Batch 380/455: Loss = 0.3044\n",
            "Skipping corrupted image: /content/drive/MyDrive/Waste Classification using Transfer Learning/Dataset/cardboard/cardboard 1075.jpg - cannot identify image file <_io.BufferedReader name='/content/drive/MyDrive/Waste Classification using Transfer Learning/Dataset/cardboard/cardboard 1075.jpg'>\n",
            "Batch 390/455: Loss = 0.2553\n",
            "Batch 400/455: Loss = 0.3424\n",
            "Batch 410/455: Loss = 0.2933\n",
            "Batch 420/455: Loss = 0.3080\n",
            "Batch 430/455: Loss = 0.1539\n",
            "Batch 440/455: Loss = 0.2501\n",
            "Batch 450/455: Loss = 0.2964\n",
            "Training phase completed. Starting validation...\n"
          ]
        },
        {
          "output_type": "stream",
          "name": "stderr",
          "text": [
            "/usr/local/lib/python3.11/dist-packages/PIL/Image.py:1045: UserWarning: Palette images with Transparency expressed in bytes should be converted to RGBA images\n",
            "  warnings.warn(\n",
            "/usr/local/lib/python3.11/dist-packages/PIL/Image.py:1045: UserWarning: Palette images with Transparency expressed in bytes should be converted to RGBA images\n",
            "  warnings.warn(\n"
          ]
        },
        {
          "output_type": "stream",
          "name": "stdout",
          "text": [
            "Epoch [2/25] completed.\n",
            "Train Loss: 0.3988 | Train Acc: 86.21%\n",
            "Val Loss: 0.3598 | Val Acc: 87.74%\n",
            "Precision: 88.31% | Recall: 87.12% | F1-score: 87.49%\n",
            "New best model saved at /content/drive/MyDrive/Waste Classification using Transfer Learning/Saved Models/MobileNet-V2/Model_MobileNetV2.pth!\n",
            "\n",
            "Epoch 3/25 started...\n"
          ]
        },
        {
          "output_type": "stream",
          "name": "stderr",
          "text": [
            "/usr/local/lib/python3.11/dist-packages/torch/utils/data/dataloader.py:624: UserWarning: This DataLoader will create 4 worker processes in total. Our suggested max number of worker in current system is 2, which is smaller than what this DataLoader is going to create. Please be aware that excessive worker creation might get DataLoader running slow or even freeze, lower the worker number to avoid potential slowness/freeze if necessary.\n",
            "  warnings.warn(\n",
            "/usr/local/lib/python3.11/dist-packages/PIL/Image.py:1045: UserWarning: Palette images with Transparency expressed in bytes should be converted to RGBA images\n",
            "  warnings.warn(\n"
          ]
        },
        {
          "output_type": "stream",
          "name": "stdout",
          "text": [
            "Batch 0/455: Loss = 0.0780\n",
            "Batch 10/455: Loss = 0.2749\n",
            "Batch 20/455: Loss = 0.2558\n"
          ]
        },
        {
          "output_type": "stream",
          "name": "stderr",
          "text": [
            "/usr/local/lib/python3.11/dist-packages/PIL/Image.py:1045: UserWarning: Palette images with Transparency expressed in bytes should be converted to RGBA images\n",
            "  warnings.warn(\n"
          ]
        },
        {
          "output_type": "stream",
          "name": "stdout",
          "text": [
            "Batch 30/455: Loss = 0.4404\n",
            "Batch 40/455: Loss = 0.2127\n"
          ]
        },
        {
          "output_type": "stream",
          "name": "stderr",
          "text": [
            "/usr/local/lib/python3.11/dist-packages/PIL/Image.py:1045: UserWarning: Palette images with Transparency expressed in bytes should be converted to RGBA images\n",
            "  warnings.warn(\n"
          ]
        },
        {
          "output_type": "stream",
          "name": "stdout",
          "text": [
            "Batch 50/455: Loss = 0.1401\n",
            "Batch 60/455: Loss = 0.4811\n"
          ]
        },
        {
          "output_type": "stream",
          "name": "stderr",
          "text": [
            "/usr/local/lib/python3.11/dist-packages/PIL/Image.py:1045: UserWarning: Palette images with Transparency expressed in bytes should be converted to RGBA images\n",
            "  warnings.warn(\n"
          ]
        },
        {
          "output_type": "stream",
          "name": "stdout",
          "text": [
            "Batch 70/455: Loss = 0.0965\n",
            "Batch 80/455: Loss = 0.2296\n",
            "Batch 90/455: Loss = 0.3268\n",
            "Batch 100/455: Loss = 0.3732\n",
            "Batch 110/455: Loss = 0.1448\n",
            "Batch 120/455: Loss = 0.2187\n",
            "Batch 130/455: Loss = 0.3605\n",
            "Batch 140/455: Loss = 0.5549\n",
            "Batch 150/455: Loss = 0.1574\n",
            "Batch 160/455: Loss = 0.2309\n",
            "Batch 170/455: Loss = 0.3962\n",
            "Batch 180/455: Loss = 0.2107\n",
            "Batch 190/455: Loss = 0.2820\n",
            "Batch 200/455: Loss = 0.3204\n",
            "Skipping corrupted image: /content/drive/MyDrive/Waste Classification using Transfer Learning/Dataset/e-waste/e-waste 1719.jpg - cannot identify image file <_io.BufferedReader name='/content/drive/MyDrive/Waste Classification using Transfer Learning/Dataset/e-waste/e-waste 1719.jpg'>\n",
            "Batch 210/455: Loss = 0.2392\n",
            "Batch 220/455: Loss = 0.2634\n",
            "Batch 230/455: Loss = 0.2877\n",
            "Skipping corrupted image: /content/drive/MyDrive/Waste Classification using Transfer Learning/Dataset/cardboard/cardboard 1075.jpg - cannot identify image file <_io.BufferedReader name='/content/drive/MyDrive/Waste Classification using Transfer Learning/Dataset/cardboard/cardboard 1075.jpg'>\n",
            "Batch 240/455: Loss = 0.0879\n",
            "Batch 250/455: Loss = 0.3366\n",
            "Batch 260/455: Loss = 0.1536\n",
            "Batch 270/455: Loss = 0.5194\n",
            "Batch 280/455: Loss = 0.3324\n",
            "Batch 290/455: Loss = 0.2143\n",
            "Batch 300/455: Loss = 0.4596\n",
            "Batch 310/455: Loss = 0.2961\n",
            "Batch 320/455: Loss = 0.2402\n",
            "Batch 330/455: Loss = 0.3218\n",
            "Batch 340/455: Loss = 0.4951\n",
            "Batch 350/455: Loss = 0.1334\n",
            "Batch 360/455: Loss = 0.3492\n",
            "Batch 370/455: Loss = 0.4906\n",
            "Batch 380/455: Loss = 0.3876\n",
            "Skipping corrupted image: /content/drive/MyDrive/Waste Classification using Transfer Learning/Dataset/paper/paper 2273.jpg - cannot identify image file <_io.BufferedReader name='/content/drive/MyDrive/Waste Classification using Transfer Learning/Dataset/paper/paper 2273.jpg'>\n",
            "Batch 390/455: Loss = 0.0842\n",
            "Batch 400/455: Loss = 0.6862\n",
            "Batch 410/455: Loss = 0.4466\n",
            "Batch 420/455: Loss = 0.2105\n",
            "Batch 430/455: Loss = 0.1271\n",
            "Batch 440/455: Loss = 0.2392\n",
            "Batch 450/455: Loss = 0.2401\n",
            "Training phase completed. Starting validation...\n"
          ]
        },
        {
          "output_type": "stream",
          "name": "stderr",
          "text": [
            "/usr/local/lib/python3.11/dist-packages/PIL/Image.py:1045: UserWarning: Palette images with Transparency expressed in bytes should be converted to RGBA images\n",
            "  warnings.warn(\n",
            "/usr/local/lib/python3.11/dist-packages/PIL/Image.py:1045: UserWarning: Palette images with Transparency expressed in bytes should be converted to RGBA images\n",
            "  warnings.warn(\n"
          ]
        },
        {
          "output_type": "stream",
          "name": "stdout",
          "text": [
            "Epoch [3/25] completed.\n",
            "Train Loss: 0.3024 | Train Acc: 89.85%\n",
            "Val Loss: 0.3463 | Val Acc: 88.72%\n",
            "Precision: 88.92% | Recall: 88.35% | F1-score: 88.56%\n",
            "New best model saved at /content/drive/MyDrive/Waste Classification using Transfer Learning/Saved Models/MobileNet-V2/Model_MobileNetV2.pth!\n",
            "\n",
            "Epoch 4/25 started...\n"
          ]
        },
        {
          "output_type": "stream",
          "name": "stderr",
          "text": [
            "/usr/local/lib/python3.11/dist-packages/torch/utils/data/dataloader.py:624: UserWarning: This DataLoader will create 4 worker processes in total. Our suggested max number of worker in current system is 2, which is smaller than what this DataLoader is going to create. Please be aware that excessive worker creation might get DataLoader running slow or even freeze, lower the worker number to avoid potential slowness/freeze if necessary.\n",
            "  warnings.warn(\n"
          ]
        },
        {
          "output_type": "stream",
          "name": "stdout",
          "text": [
            "Batch 0/455: Loss = 0.2257\n",
            "Batch 10/455: Loss = 0.1925\n",
            "Batch 20/455: Loss = 0.1703\n"
          ]
        },
        {
          "output_type": "stream",
          "name": "stderr",
          "text": [
            "/usr/local/lib/python3.11/dist-packages/PIL/Image.py:1045: UserWarning: Palette images with Transparency expressed in bytes should be converted to RGBA images\n",
            "  warnings.warn(\n",
            "/usr/local/lib/python3.11/dist-packages/PIL/Image.py:1045: UserWarning: Palette images with Transparency expressed in bytes should be converted to RGBA images\n",
            "  warnings.warn(\n"
          ]
        },
        {
          "output_type": "stream",
          "name": "stdout",
          "text": [
            "Batch 30/455: Loss = 0.1583\n",
            "Batch 40/455: Loss = 0.3208\n",
            "Batch 50/455: Loss = 0.3113\n",
            "Batch 60/455: Loss = 0.0890\n",
            "Batch 70/455: Loss = 0.1496\n",
            "Batch 80/455: Loss = 0.1931\n"
          ]
        },
        {
          "output_type": "stream",
          "name": "stderr",
          "text": [
            "/usr/local/lib/python3.11/dist-packages/PIL/Image.py:1045: UserWarning: Palette images with Transparency expressed in bytes should be converted to RGBA images\n",
            "  warnings.warn(\n"
          ]
        },
        {
          "output_type": "stream",
          "name": "stdout",
          "text": [
            "Batch 90/455: Loss = 0.1964\n",
            "Batch 100/455: Loss = 0.2347\n",
            "Batch 110/455: Loss = 0.4415\n",
            "Batch 120/455: Loss = 0.3540\n",
            "Batch 130/455: Loss = 0.1453\n",
            "Batch 140/455: Loss = 0.1161\n"
          ]
        },
        {
          "output_type": "stream",
          "name": "stderr",
          "text": [
            "/usr/local/lib/python3.11/dist-packages/PIL/Image.py:1045: UserWarning: Palette images with Transparency expressed in bytes should be converted to RGBA images\n",
            "  warnings.warn(\n"
          ]
        },
        {
          "output_type": "stream",
          "name": "stdout",
          "text": [
            "Batch 150/455: Loss = 0.2151\n",
            "Batch 160/455: Loss = 0.2659\n",
            "Batch 170/455: Loss = 0.1585\n",
            "Batch 180/455: Loss = 0.0768\n",
            "Batch 190/455: Loss = 0.0911\n",
            "Batch 200/455: Loss = 0.1715\n",
            "Batch 210/455: Loss = 0.2277\n",
            "Skipping corrupted image: /content/drive/MyDrive/Waste Classification using Transfer Learning/Dataset/e-waste/e-waste 1719.jpg - cannot identify image file <_io.BufferedReader name='/content/drive/MyDrive/Waste Classification using Transfer Learning/Dataset/e-waste/e-waste 1719.jpg'>\n",
            "Batch 220/455: Loss = 0.1269\n",
            "Batch 230/455: Loss = 0.3321\n",
            "Batch 240/455: Loss = 0.1195\n",
            "Batch 250/455: Loss = 0.4288\n",
            "Skipping corrupted image: /content/drive/MyDrive/Waste Classification using Transfer Learning/Dataset/paper/paper 2273.jpg - cannot identify image file <_io.BufferedReader name='/content/drive/MyDrive/Waste Classification using Transfer Learning/Dataset/paper/paper 2273.jpg'>\n",
            "Batch 260/455: Loss = 0.2275\n",
            "Batch 270/455: Loss = 0.1100\n",
            "Batch 280/455: Loss = 0.1940\n",
            "Batch 290/455: Loss = 0.4090\n",
            "Batch 300/455: Loss = 0.1168\n",
            "Batch 310/455: Loss = 0.5737\n",
            "Batch 320/455: Loss = 0.2036\n",
            "Batch 330/455: Loss = 0.1519\n",
            "Batch 340/455: Loss = 0.0865\n",
            "Batch 350/455: Loss = 0.2273\n",
            "Batch 360/455: Loss = 0.3535\n",
            "Batch 370/455: Loss = 0.3359\n",
            "Batch 380/455: Loss = 0.3990\n",
            "Batch 390/455: Loss = 0.2304\n",
            "Batch 400/455: Loss = 0.2363\n",
            "Batch 410/455: Loss = 0.2248\n",
            "Batch 420/455: Loss = 0.1648\n",
            "Batch 430/455: Loss = 0.2661\n",
            "Skipping corrupted image: /content/drive/MyDrive/Waste Classification using Transfer Learning/Dataset/cardboard/cardboard 1075.jpg - cannot identify image file <_io.BufferedReader name='/content/drive/MyDrive/Waste Classification using Transfer Learning/Dataset/cardboard/cardboard 1075.jpg'>\n",
            "Batch 440/455: Loss = 0.2953\n",
            "Batch 450/455: Loss = 0.2499\n",
            "Training phase completed. Starting validation...\n"
          ]
        },
        {
          "output_type": "stream",
          "name": "stderr",
          "text": [
            "/usr/local/lib/python3.11/dist-packages/PIL/Image.py:1045: UserWarning: Palette images with Transparency expressed in bytes should be converted to RGBA images\n",
            "  warnings.warn(\n",
            "/usr/local/lib/python3.11/dist-packages/PIL/Image.py:1045: UserWarning: Palette images with Transparency expressed in bytes should be converted to RGBA images\n",
            "  warnings.warn(\n"
          ]
        },
        {
          "output_type": "stream",
          "name": "stdout",
          "text": [
            "Epoch [4/25] completed.\n",
            "Train Loss: 0.2405 | Train Acc: 91.75%\n",
            "Val Loss: 0.3488 | Val Acc: 89.71%\n",
            "Precision: 89.98% | Recall: 89.39% | F1-score: 89.63%\n",
            "New best model saved at /content/drive/MyDrive/Waste Classification using Transfer Learning/Saved Models/MobileNet-V2/Model_MobileNetV2.pth!\n",
            "\n",
            "Epoch 5/25 started...\n"
          ]
        },
        {
          "output_type": "stream",
          "name": "stderr",
          "text": [
            "/usr/local/lib/python3.11/dist-packages/torch/utils/data/dataloader.py:624: UserWarning: This DataLoader will create 4 worker processes in total. Our suggested max number of worker in current system is 2, which is smaller than what this DataLoader is going to create. Please be aware that excessive worker creation might get DataLoader running slow or even freeze, lower the worker number to avoid potential slowness/freeze if necessary.\n",
            "  warnings.warn(\n"
          ]
        },
        {
          "output_type": "stream",
          "name": "stdout",
          "text": [
            "Batch 0/455: Loss = 0.2424\n",
            "Batch 10/455: Loss = 0.0987\n"
          ]
        },
        {
          "output_type": "stream",
          "name": "stderr",
          "text": [
            "/usr/local/lib/python3.11/dist-packages/PIL/Image.py:1045: UserWarning: Palette images with Transparency expressed in bytes should be converted to RGBA images\n",
            "  warnings.warn(\n"
          ]
        },
        {
          "output_type": "stream",
          "name": "stdout",
          "text": [
            "Batch 20/455: Loss = 0.4067\n",
            "Batch 30/455: Loss = 0.1652\n"
          ]
        },
        {
          "output_type": "stream",
          "name": "stderr",
          "text": [
            "/usr/local/lib/python3.11/dist-packages/PIL/Image.py:1045: UserWarning: Palette images with Transparency expressed in bytes should be converted to RGBA images\n",
            "  warnings.warn(\n",
            "/usr/local/lib/python3.11/dist-packages/PIL/Image.py:1045: UserWarning: Palette images with Transparency expressed in bytes should be converted to RGBA images\n",
            "  warnings.warn(\n"
          ]
        },
        {
          "output_type": "stream",
          "name": "stdout",
          "text": [
            "Batch 40/455: Loss = 0.1867\n",
            "Batch 50/455: Loss = 0.3437\n",
            "Batch 60/455: Loss = 0.2060\n",
            "Batch 70/455: Loss = 0.0761\n",
            "Batch 80/455: Loss = 0.0769\n",
            "Batch 90/455: Loss = 0.0530\n",
            "Batch 100/455: Loss = 0.1655\n"
          ]
        },
        {
          "output_type": "stream",
          "name": "stderr",
          "text": [
            "/usr/local/lib/python3.11/dist-packages/PIL/Image.py:1045: UserWarning: Palette images with Transparency expressed in bytes should be converted to RGBA images\n",
            "  warnings.warn(\n"
          ]
        },
        {
          "output_type": "stream",
          "name": "stdout",
          "text": [
            "Batch 110/455: Loss = 0.3025\n",
            "Batch 120/455: Loss = 0.3123\n",
            "Batch 130/455: Loss = 0.1812\n",
            "Batch 140/455: Loss = 0.2550\n",
            "Batch 150/455: Loss = 0.1325\n",
            "Batch 160/455: Loss = 0.2336\n",
            "Skipping corrupted image: /content/drive/MyDrive/Waste Classification using Transfer Learning/Dataset/paper/paper 2273.jpg - cannot identify image file <_io.BufferedReader name='/content/drive/MyDrive/Waste Classification using Transfer Learning/Dataset/paper/paper 2273.jpg'>\n",
            "Batch 170/455: Loss = 0.1263\n",
            "Batch 180/455: Loss = 0.0570\n",
            "Batch 190/455: Loss = 0.1978\n",
            "Batch 200/455: Loss = 0.2054\n",
            "Batch 210/455: Loss = 0.0860\n",
            "Batch 220/455: Loss = 0.0519\n",
            "Batch 230/455: Loss = 0.5707\n",
            "Batch 240/455: Loss = 0.1753\n",
            "Skipping corrupted image: /content/drive/MyDrive/Waste Classification using Transfer Learning/Dataset/cardboard/cardboard 1075.jpg - cannot identify image file <_io.BufferedReader name='/content/drive/MyDrive/Waste Classification using Transfer Learning/Dataset/cardboard/cardboard 1075.jpg'>\n",
            "Batch 250/455: Loss = 0.0974\n",
            "Batch 260/455: Loss = 0.1266\n",
            "Batch 270/455: Loss = 0.2170\n",
            "Batch 280/455: Loss = 0.2409\n",
            "Batch 290/455: Loss = 0.1300\n",
            "Batch 300/455: Loss = 0.0988\n",
            "Batch 310/455: Loss = 0.0964\n",
            "Batch 320/455: Loss = 0.2053\n",
            "Batch 330/455: Loss = 0.1941\n",
            "Batch 340/455: Loss = 0.1602\n",
            "Batch 350/455: Loss = 0.3962\n",
            "Batch 360/455: Loss = 0.2754\n",
            "Batch 370/455: Loss = 0.3837\n",
            "Batch 380/455: Loss = 0.0802\n",
            "Skipping corrupted image: /content/drive/MyDrive/Waste Classification using Transfer Learning/Dataset/e-waste/e-waste 1719.jpg - cannot identify image file <_io.BufferedReader name='/content/drive/MyDrive/Waste Classification using Transfer Learning/Dataset/e-waste/e-waste 1719.jpg'>\n",
            "Batch 390/455: Loss = 0.2076\n",
            "Batch 400/455: Loss = 0.0741\n",
            "Batch 410/455: Loss = 0.1325\n",
            "Batch 420/455: Loss = 0.3672\n",
            "Batch 430/455: Loss = 0.2310\n",
            "Batch 440/455: Loss = 0.3734\n",
            "Batch 450/455: Loss = 0.2435\n",
            "Training phase completed. Starting validation...\n"
          ]
        },
        {
          "output_type": "stream",
          "name": "stderr",
          "text": [
            "/usr/local/lib/python3.11/dist-packages/PIL/Image.py:1045: UserWarning: Palette images with Transparency expressed in bytes should be converted to RGBA images\n",
            "  warnings.warn(\n",
            "/usr/local/lib/python3.11/dist-packages/PIL/Image.py:1045: UserWarning: Palette images with Transparency expressed in bytes should be converted to RGBA images\n",
            "  warnings.warn(\n"
          ]
        },
        {
          "output_type": "stream",
          "name": "stdout",
          "text": [
            "Epoch [5/25] completed.\n",
            "Train Loss: 0.1977 | Train Acc: 93.19%\n",
            "Val Loss: 0.3181 | Val Acc: 90.57%\n",
            "Precision: 90.58% | Recall: 90.31% | F1-score: 90.40%\n",
            "Checkpoint saved at /content/drive/MyDrive/Waste Classification using Transfer Learning/Saved Models/MobileNet-V2/checkpoint_epoch_5.pth!\n",
            "New best model saved at /content/drive/MyDrive/Waste Classification using Transfer Learning/Saved Models/MobileNet-V2/Model_MobileNetV2.pth!\n",
            "\n",
            "Epoch 6/25 started...\n"
          ]
        },
        {
          "output_type": "stream",
          "name": "stderr",
          "text": [
            "/usr/local/lib/python3.11/dist-packages/torch/utils/data/dataloader.py:624: UserWarning: This DataLoader will create 4 worker processes in total. Our suggested max number of worker in current system is 2, which is smaller than what this DataLoader is going to create. Please be aware that excessive worker creation might get DataLoader running slow or even freeze, lower the worker number to avoid potential slowness/freeze if necessary.\n",
            "  warnings.warn(\n"
          ]
        },
        {
          "output_type": "stream",
          "name": "stdout",
          "text": [
            "Batch 0/455: Loss = 0.2468\n",
            "Batch 10/455: Loss = 0.1485\n"
          ]
        },
        {
          "output_type": "stream",
          "name": "stderr",
          "text": [
            "/usr/local/lib/python3.11/dist-packages/PIL/Image.py:1045: UserWarning: Palette images with Transparency expressed in bytes should be converted to RGBA images\n",
            "  warnings.warn(\n",
            "/usr/local/lib/python3.11/dist-packages/PIL/Image.py:1045: UserWarning: Palette images with Transparency expressed in bytes should be converted to RGBA images\n",
            "  warnings.warn(\n"
          ]
        },
        {
          "output_type": "stream",
          "name": "stdout",
          "text": [
            "Batch 20/455: Loss = 0.0928\n",
            "Batch 30/455: Loss = 0.0680\n",
            "Batch 40/455: Loss = 0.1742\n",
            "Batch 50/455: Loss = 0.0454\n",
            "Batch 60/455: Loss = 0.4232\n"
          ]
        },
        {
          "output_type": "stream",
          "name": "stderr",
          "text": [
            "/usr/local/lib/python3.11/dist-packages/PIL/Image.py:1045: UserWarning: Palette images with Transparency expressed in bytes should be converted to RGBA images\n",
            "  warnings.warn(\n"
          ]
        },
        {
          "output_type": "stream",
          "name": "stdout",
          "text": [
            "Batch 70/455: Loss = 0.2521\n",
            "Batch 80/455: Loss = 0.2669\n",
            "Batch 90/455: Loss = 0.1405\n",
            "Skipping corrupted image: /content/drive/MyDrive/Waste Classification using Transfer Learning/Dataset/paper/paper 2273.jpg - cannot identify image file <_io.BufferedReader name='/content/drive/MyDrive/Waste Classification using Transfer Learning/Dataset/paper/paper 2273.jpg'>\n",
            "Batch 100/455: Loss = 0.1480\n",
            "Batch 110/455: Loss = 0.0731\n",
            "Batch 120/455: Loss = 0.0859\n",
            "Batch 130/455: Loss = 0.2353\n",
            "Batch 140/455: Loss = 0.1211\n",
            "Batch 150/455: Loss = 0.2148\n",
            "Batch 160/455: Loss = 0.1910\n",
            "Batch 170/455: Loss = 0.0819\n",
            "Skipping corrupted image: /content/drive/MyDrive/Waste Classification using Transfer Learning/Dataset/e-waste/e-waste 1719.jpg - cannot identify image file <_io.BufferedReader name='/content/drive/MyDrive/Waste Classification using Transfer Learning/Dataset/e-waste/e-waste 1719.jpg'>\n",
            "Batch 180/455: Loss = 0.2666\n",
            "Batch 190/455: Loss = 0.1323\n"
          ]
        },
        {
          "output_type": "stream",
          "name": "stderr",
          "text": [
            "/usr/local/lib/python3.11/dist-packages/PIL/Image.py:1045: UserWarning: Palette images with Transparency expressed in bytes should be converted to RGBA images\n",
            "  warnings.warn(\n"
          ]
        },
        {
          "output_type": "stream",
          "name": "stdout",
          "text": [
            "Batch 200/455: Loss = 0.1447\n",
            "Batch 210/455: Loss = 0.2066\n",
            "Batch 220/455: Loss = 0.1096\n",
            "Batch 230/455: Loss = 0.2532\n",
            "Batch 240/455: Loss = 0.2043\n",
            "Batch 250/455: Loss = 0.3218\n",
            "Batch 260/455: Loss = 0.1026\n",
            "Batch 270/455: Loss = 0.3510\n",
            "Batch 280/455: Loss = 0.2709\n",
            "Batch 290/455: Loss = 0.1235\n",
            "Batch 300/455: Loss = 0.3244\n",
            "Batch 310/455: Loss = 0.2339\n",
            "Batch 320/455: Loss = 0.1630\n",
            "Batch 330/455: Loss = 0.0831\n",
            "Batch 340/455: Loss = 0.1698\n",
            "Batch 350/455: Loss = 0.1382\n",
            "Batch 360/455: Loss = 0.1570\n",
            "Batch 370/455: Loss = 0.0664\n",
            "Batch 380/455: Loss = 0.0370\n",
            "Batch 390/455: Loss = 0.3016\n",
            "Batch 400/455: Loss = 0.1688\n",
            "Batch 410/455: Loss = 0.2202\n",
            "Batch 420/455: Loss = 0.1883\n",
            "Batch 430/455: Loss = 0.2078\n",
            "Batch 440/455: Loss = 0.1041\n",
            "Batch 450/455: Loss = 0.0777\n",
            "Skipping corrupted image: /content/drive/MyDrive/Waste Classification using Transfer Learning/Dataset/cardboard/cardboard 1075.jpg - cannot identify image file <_io.BufferedReader name='/content/drive/MyDrive/Waste Classification using Transfer Learning/Dataset/cardboard/cardboard 1075.jpg'>\n",
            "Training phase completed. Starting validation...\n"
          ]
        },
        {
          "output_type": "stream",
          "name": "stderr",
          "text": [
            "/usr/local/lib/python3.11/dist-packages/PIL/Image.py:1045: UserWarning: Palette images with Transparency expressed in bytes should be converted to RGBA images\n",
            "  warnings.warn(\n",
            "/usr/local/lib/python3.11/dist-packages/PIL/Image.py:1045: UserWarning: Palette images with Transparency expressed in bytes should be converted to RGBA images\n",
            "  warnings.warn(\n"
          ]
        },
        {
          "output_type": "stream",
          "name": "stdout",
          "text": [
            "Epoch [6/25] completed.\n",
            "Train Loss: 0.1663 | Train Acc: 94.45%\n",
            "Val Loss: 0.3439 | Val Acc: 89.46%\n",
            "Precision: 89.91% | Recall: 89.09% | F1-score: 89.38%\n",
            "\n",
            "Epoch 7/25 started...\n"
          ]
        },
        {
          "output_type": "stream",
          "name": "stderr",
          "text": [
            "/usr/local/lib/python3.11/dist-packages/torch/utils/data/dataloader.py:624: UserWarning: This DataLoader will create 4 worker processes in total. Our suggested max number of worker in current system is 2, which is smaller than what this DataLoader is going to create. Please be aware that excessive worker creation might get DataLoader running slow or even freeze, lower the worker number to avoid potential slowness/freeze if necessary.\n",
            "  warnings.warn(\n",
            "/usr/local/lib/python3.11/dist-packages/PIL/Image.py:1045: UserWarning: Palette images with Transparency expressed in bytes should be converted to RGBA images\n",
            "  warnings.warn(\n"
          ]
        },
        {
          "output_type": "stream",
          "name": "stdout",
          "text": [
            "Batch 0/455: Loss = 0.0721\n"
          ]
        },
        {
          "output_type": "stream",
          "name": "stderr",
          "text": [
            "/usr/local/lib/python3.11/dist-packages/PIL/Image.py:1045: UserWarning: Palette images with Transparency expressed in bytes should be converted to RGBA images\n",
            "  warnings.warn(\n"
          ]
        },
        {
          "output_type": "stream",
          "name": "stdout",
          "text": [
            "Skipping corrupted image: /content/drive/MyDrive/Waste Classification using Transfer Learning/Dataset/cardboard/cardboard 1075.jpg - cannot identify image file <_io.BufferedReader name='/content/drive/MyDrive/Waste Classification using Transfer Learning/Dataset/cardboard/cardboard 1075.jpg'>\n",
            "Batch 10/455: Loss = 0.0633\n",
            "Batch 20/455: Loss = 0.2272\n",
            "Batch 30/455: Loss = 0.1124\n",
            "Batch 40/455: Loss = 0.1041\n",
            "Batch 50/455: Loss = 0.2550\n"
          ]
        },
        {
          "output_type": "stream",
          "name": "stderr",
          "text": [
            "/usr/local/lib/python3.11/dist-packages/PIL/Image.py:1045: UserWarning: Palette images with Transparency expressed in bytes should be converted to RGBA images\n",
            "  warnings.warn(\n"
          ]
        },
        {
          "output_type": "stream",
          "name": "stdout",
          "text": [
            "Batch 60/455: Loss = 0.1019\n",
            "Batch 70/455: Loss = 0.1438\n",
            "Batch 80/455: Loss = 0.1242\n",
            "Batch 90/455: Loss = 0.0521\n",
            "Batch 100/455: Loss = 0.0267\n",
            "Batch 110/455: Loss = 0.1379\n",
            "Batch 120/455: Loss = 0.1056\n",
            "Batch 130/455: Loss = 0.0372\n",
            "Batch 140/455: Loss = 0.1825\n",
            "Batch 150/455: Loss = 0.1334\n",
            "Batch 160/455: Loss = 0.1977\n",
            "Batch 170/455: Loss = 0.3480\n",
            "Batch 180/455: Loss = 0.1751\n",
            "Batch 190/455: Loss = 0.0979\n",
            "Batch 200/455: Loss = 0.1350\n",
            "Batch 210/455: Loss = 0.0358\n",
            "Batch 220/455: Loss = 0.1032\n",
            "Batch 230/455: Loss = 0.1306\n"
          ]
        },
        {
          "output_type": "stream",
          "name": "stderr",
          "text": [
            "/usr/local/lib/python3.11/dist-packages/PIL/Image.py:1045: UserWarning: Palette images with Transparency expressed in bytes should be converted to RGBA images\n",
            "  warnings.warn(\n"
          ]
        },
        {
          "output_type": "stream",
          "name": "stdout",
          "text": [
            "Skipping corrupted image: /content/drive/MyDrive/Waste Classification using Transfer Learning/Dataset/e-waste/e-waste 1719.jpg - cannot identify image file <_io.BufferedReader name='/content/drive/MyDrive/Waste Classification using Transfer Learning/Dataset/e-waste/e-waste 1719.jpg'>\n",
            "Batch 240/455: Loss = 0.1053\n",
            "Batch 250/455: Loss = 0.1048\n",
            "Batch 260/455: Loss = 0.1728\n",
            "Batch 270/455: Loss = 0.1897\n",
            "Batch 280/455: Loss = 0.1143\n",
            "Batch 290/455: Loss = 0.0294\n",
            "Batch 300/455: Loss = 0.2048\n",
            "Batch 310/455: Loss = 0.0466\n",
            "Batch 320/455: Loss = 0.1407\n",
            "Batch 330/455: Loss = 0.0740\n",
            "Batch 340/455: Loss = 0.2255\n",
            "Batch 350/455: Loss = 0.2848\n",
            "Batch 360/455: Loss = 0.2110\n",
            "Skipping corrupted image: /content/drive/MyDrive/Waste Classification using Transfer Learning/Dataset/paper/paper 2273.jpg - cannot identify image file <_io.BufferedReader name='/content/drive/MyDrive/Waste Classification using Transfer Learning/Dataset/paper/paper 2273.jpg'>\n",
            "Batch 370/455: Loss = 0.1081\n",
            "Batch 380/455: Loss = 0.1005\n",
            "Batch 390/455: Loss = 0.1519\n",
            "Batch 400/455: Loss = 0.1496\n",
            "Batch 410/455: Loss = 0.2788\n",
            "Batch 420/455: Loss = 0.1404\n",
            "Batch 430/455: Loss = 0.3596\n",
            "Batch 440/455: Loss = 0.0390\n",
            "Batch 450/455: Loss = 0.4224\n",
            "Training phase completed. Starting validation...\n"
          ]
        },
        {
          "output_type": "stream",
          "name": "stderr",
          "text": [
            "/usr/local/lib/python3.11/dist-packages/PIL/Image.py:1045: UserWarning: Palette images with Transparency expressed in bytes should be converted to RGBA images\n",
            "  warnings.warn(\n",
            "/usr/local/lib/python3.11/dist-packages/PIL/Image.py:1045: UserWarning: Palette images with Transparency expressed in bytes should be converted to RGBA images\n",
            "  warnings.warn(\n"
          ]
        },
        {
          "output_type": "stream",
          "name": "stdout",
          "text": [
            "Epoch [7/25] completed.\n",
            "Train Loss: 0.1453 | Train Acc: 94.96%\n",
            "Val Loss: 0.3539 | Val Acc: 89.77%\n",
            "Precision: 89.84% | Recall: 89.71% | F1-score: 89.72%\n",
            "\n",
            "Epoch 8/25 started...\n"
          ]
        },
        {
          "output_type": "stream",
          "name": "stderr",
          "text": [
            "/usr/local/lib/python3.11/dist-packages/torch/utils/data/dataloader.py:624: UserWarning: This DataLoader will create 4 worker processes in total. Our suggested max number of worker in current system is 2, which is smaller than what this DataLoader is going to create. Please be aware that excessive worker creation might get DataLoader running slow or even freeze, lower the worker number to avoid potential slowness/freeze if necessary.\n",
            "  warnings.warn(\n",
            "/usr/local/lib/python3.11/dist-packages/PIL/Image.py:1045: UserWarning: Palette images with Transparency expressed in bytes should be converted to RGBA images\n",
            "  warnings.warn(\n"
          ]
        },
        {
          "output_type": "stream",
          "name": "stdout",
          "text": [
            "Skipping corrupted image: /content/drive/MyDrive/Waste Classification using Transfer Learning/Dataset/paper/paper 2273.jpg - cannot identify image file <_io.BufferedReader name='/content/drive/MyDrive/Waste Classification using Transfer Learning/Dataset/paper/paper 2273.jpg'>\n",
            "Batch 0/455: Loss = 0.3819\n",
            "Batch 10/455: Loss = 0.1712\n"
          ]
        },
        {
          "output_type": "stream",
          "name": "stderr",
          "text": [
            "/usr/local/lib/python3.11/dist-packages/PIL/Image.py:1045: UserWarning: Palette images with Transparency expressed in bytes should be converted to RGBA images\n",
            "  warnings.warn(\n"
          ]
        },
        {
          "output_type": "stream",
          "name": "stdout",
          "text": [
            "Batch 20/455: Loss = 0.2544\n",
            "Batch 30/455: Loss = 0.0653\n",
            "Batch 40/455: Loss = 0.1605\n",
            "Batch 50/455: Loss = 0.0291\n",
            "Batch 60/455: Loss = 0.1265\n",
            "Batch 70/455: Loss = 0.0591\n",
            "Batch 80/455: Loss = 0.1063\n"
          ]
        },
        {
          "output_type": "stream",
          "name": "stderr",
          "text": [
            "/usr/local/lib/python3.11/dist-packages/PIL/Image.py:1045: UserWarning: Palette images with Transparency expressed in bytes should be converted to RGBA images\n",
            "  warnings.warn(\n"
          ]
        },
        {
          "output_type": "stream",
          "name": "stdout",
          "text": [
            "Batch 90/455: Loss = 0.1495\n",
            "Skipping corrupted image: /content/drive/MyDrive/Waste Classification using Transfer Learning/Dataset/cardboard/cardboard 1075.jpg - cannot identify image file <_io.BufferedReader name='/content/drive/MyDrive/Waste Classification using Transfer Learning/Dataset/cardboard/cardboard 1075.jpg'>\n",
            "Batch 100/455: Loss = 0.2608\n",
            "Batch 110/455: Loss = 0.0158\n",
            "Batch 120/455: Loss = 0.0936\n",
            "Batch 130/455: Loss = 0.1748\n"
          ]
        },
        {
          "output_type": "stream",
          "name": "stderr",
          "text": [
            "/usr/local/lib/python3.11/dist-packages/PIL/Image.py:1045: UserWarning: Palette images with Transparency expressed in bytes should be converted to RGBA images\n",
            "  warnings.warn(\n"
          ]
        },
        {
          "output_type": "stream",
          "name": "stdout",
          "text": [
            "Batch 140/455: Loss = 0.1323\n",
            "Batch 150/455: Loss = 0.0465\n",
            "Batch 160/455: Loss = 0.0820\n",
            "Batch 170/455: Loss = 0.1013\n",
            "Batch 180/455: Loss = 0.1172\n",
            "Batch 190/455: Loss = 0.0615\n",
            "Batch 200/455: Loss = 0.0722\n",
            "Batch 210/455: Loss = 0.1428\n",
            "Batch 220/455: Loss = 0.2005\n",
            "Batch 230/455: Loss = 0.0347\n",
            "Batch 240/455: Loss = 0.1937\n",
            "Batch 250/455: Loss = 0.1178\n",
            "Skipping corrupted image: /content/drive/MyDrive/Waste Classification using Transfer Learning/Dataset/e-waste/e-waste 1719.jpg - cannot identify image file <_io.BufferedReader name='/content/drive/MyDrive/Waste Classification using Transfer Learning/Dataset/e-waste/e-waste 1719.jpg'>\n",
            "Batch 260/455: Loss = 0.0376\n",
            "Batch 270/455: Loss = 0.1111\n",
            "Batch 280/455: Loss = 0.0353\n",
            "Batch 290/455: Loss = 0.3265\n",
            "Batch 300/455: Loss = 0.2860\n",
            "Batch 310/455: Loss = 0.0532\n",
            "Batch 320/455: Loss = 0.2135\n",
            "Batch 330/455: Loss = 0.0811\n",
            "Batch 340/455: Loss = 0.0950\n",
            "Batch 350/455: Loss = 0.0684\n",
            "Batch 360/455: Loss = 0.0282\n",
            "Batch 370/455: Loss = 0.1265\n",
            "Batch 380/455: Loss = 0.0275\n",
            "Batch 390/455: Loss = 0.2277\n",
            "Batch 400/455: Loss = 0.1131\n",
            "Batch 410/455: Loss = 0.1064\n",
            "Batch 420/455: Loss = 0.0257\n",
            "Batch 430/455: Loss = 0.2487\n",
            "Batch 440/455: Loss = 0.1109\n",
            "Batch 450/455: Loss = 0.0693\n",
            "Training phase completed. Starting validation...\n"
          ]
        },
        {
          "output_type": "stream",
          "name": "stderr",
          "text": [
            "/usr/local/lib/python3.11/dist-packages/PIL/Image.py:1045: UserWarning: Palette images with Transparency expressed in bytes should be converted to RGBA images\n",
            "  warnings.warn(\n",
            "/usr/local/lib/python3.11/dist-packages/PIL/Image.py:1045: UserWarning: Palette images with Transparency expressed in bytes should be converted to RGBA images\n",
            "  warnings.warn(\n"
          ]
        },
        {
          "output_type": "stream",
          "name": "stdout",
          "text": [
            "Epoch [8/25] completed.\n",
            "Train Loss: 0.1343 | Train Acc: 95.37%\n",
            "Val Loss: 0.3499 | Val Acc: 90.88%\n",
            "Precision: 91.21% | Recall: 90.32% | F1-score: 90.64%\n",
            "New best model saved at /content/drive/MyDrive/Waste Classification using Transfer Learning/Saved Models/MobileNet-V2/Model_MobileNetV2.pth!\n",
            "\n",
            "Epoch 9/25 started...\n"
          ]
        },
        {
          "output_type": "stream",
          "name": "stderr",
          "text": [
            "/usr/local/lib/python3.11/dist-packages/torch/utils/data/dataloader.py:624: UserWarning: This DataLoader will create 4 worker processes in total. Our suggested max number of worker in current system is 2, which is smaller than what this DataLoader is going to create. Please be aware that excessive worker creation might get DataLoader running slow or even freeze, lower the worker number to avoid potential slowness/freeze if necessary.\n",
            "  warnings.warn(\n"
          ]
        },
        {
          "output_type": "stream",
          "name": "stdout",
          "text": [
            "Batch 0/455: Loss = 0.0471\n",
            "Batch 10/455: Loss = 0.1926\n",
            "Batch 20/455: Loss = 0.1574\n",
            "Batch 30/455: Loss = 0.0692\n",
            "Batch 40/455: Loss = 0.0750\n"
          ]
        },
        {
          "output_type": "stream",
          "name": "stderr",
          "text": [
            "/usr/local/lib/python3.11/dist-packages/PIL/Image.py:1045: UserWarning: Palette images with Transparency expressed in bytes should be converted to RGBA images\n",
            "  warnings.warn(\n"
          ]
        },
        {
          "output_type": "stream",
          "name": "stdout",
          "text": [
            "Batch 50/455: Loss = 0.0902\n"
          ]
        },
        {
          "output_type": "stream",
          "name": "stderr",
          "text": [
            "/usr/local/lib/python3.11/dist-packages/PIL/Image.py:1045: UserWarning: Palette images with Transparency expressed in bytes should be converted to RGBA images\n",
            "  warnings.warn(\n",
            "/usr/local/lib/python3.11/dist-packages/PIL/Image.py:1045: UserWarning: Palette images with Transparency expressed in bytes should be converted to RGBA images\n",
            "  warnings.warn(\n"
          ]
        },
        {
          "output_type": "stream",
          "name": "stdout",
          "text": [
            "Batch 60/455: Loss = 0.0541\n",
            "Batch 70/455: Loss = 0.2014\n",
            "Batch 80/455: Loss = 0.1580\n",
            "Batch 90/455: Loss = 0.1484\n",
            "Batch 100/455: Loss = 0.0698\n"
          ]
        },
        {
          "output_type": "stream",
          "name": "stderr",
          "text": [
            "/usr/local/lib/python3.11/dist-packages/PIL/Image.py:1045: UserWarning: Palette images with Transparency expressed in bytes should be converted to RGBA images\n",
            "  warnings.warn(\n"
          ]
        },
        {
          "output_type": "stream",
          "name": "stdout",
          "text": [
            "Batch 110/455: Loss = 0.0522\n",
            "Skipping corrupted image: /content/drive/MyDrive/Waste Classification using Transfer Learning/Dataset/cardboard/cardboard 1075.jpg - cannot identify image file <_io.BufferedReader name='/content/drive/MyDrive/Waste Classification using Transfer Learning/Dataset/cardboard/cardboard 1075.jpg'>\n",
            "Batch 120/455: Loss = 0.0212\n",
            "Batch 130/455: Loss = 0.0441\n",
            "Batch 140/455: Loss = 0.2145\n",
            "Batch 150/455: Loss = 0.0642\n",
            "Batch 160/455: Loss = 0.1009\n",
            "Skipping corrupted image: /content/drive/MyDrive/Waste Classification using Transfer Learning/Dataset/e-waste/e-waste 1719.jpg - cannot identify image file <_io.BufferedReader name='/content/drive/MyDrive/Waste Classification using Transfer Learning/Dataset/e-waste/e-waste 1719.jpg'>\n",
            "Batch 170/455: Loss = 0.0532\n",
            "Batch 180/455: Loss = 0.0543\n",
            "Batch 190/455: Loss = 0.0835\n",
            "Batch 200/455: Loss = 0.1619\n",
            "Batch 210/455: Loss = 0.0244\n",
            "Batch 220/455: Loss = 0.3137\n",
            "Batch 230/455: Loss = 0.0242\n",
            "Batch 240/455: Loss = 0.0411\n",
            "Batch 250/455: Loss = 0.2322\n",
            "Batch 260/455: Loss = 0.0763\n",
            "Batch 270/455: Loss = 0.2155\n",
            "Batch 280/455: Loss = 0.1189\n",
            "Skipping corrupted image: /content/drive/MyDrive/Waste Classification using Transfer Learning/Dataset/paper/paper 2273.jpg - cannot identify image file <_io.BufferedReader name='/content/drive/MyDrive/Waste Classification using Transfer Learning/Dataset/paper/paper 2273.jpg'>\n",
            "Batch 290/455: Loss = 0.0622\n",
            "Batch 300/455: Loss = 0.0460\n",
            "Batch 310/455: Loss = 0.3249\n",
            "Batch 320/455: Loss = 0.0272\n",
            "Batch 330/455: Loss = 0.2627\n",
            "Batch 340/455: Loss = 0.2193\n",
            "Batch 350/455: Loss = 0.1674\n",
            "Batch 360/455: Loss = 0.0899\n",
            "Batch 370/455: Loss = 0.1494\n",
            "Batch 380/455: Loss = 0.1056\n",
            "Batch 390/455: Loss = 0.1695\n",
            "Batch 400/455: Loss = 0.1615\n",
            "Batch 410/455: Loss = 0.0530\n",
            "Batch 420/455: Loss = 0.0836\n",
            "Batch 430/455: Loss = 0.1927\n",
            "Batch 440/455: Loss = 0.3401\n",
            "Batch 450/455: Loss = 0.0745\n",
            "Training phase completed. Starting validation...\n"
          ]
        },
        {
          "output_type": "stream",
          "name": "stderr",
          "text": [
            "/usr/local/lib/python3.11/dist-packages/PIL/Image.py:1045: UserWarning: Palette images with Transparency expressed in bytes should be converted to RGBA images\n",
            "  warnings.warn(\n",
            "/usr/local/lib/python3.11/dist-packages/PIL/Image.py:1045: UserWarning: Palette images with Transparency expressed in bytes should be converted to RGBA images\n",
            "  warnings.warn(\n"
          ]
        },
        {
          "output_type": "stream",
          "name": "stdout",
          "text": [
            "Epoch [9/25] completed.\n",
            "Train Loss: 0.1121 | Train Acc: 96.23%\n",
            "Val Loss: 0.3766 | Val Acc: 89.22%\n",
            "Precision: 89.38% | Recall: 89.03% | F1-score: 89.14%\n",
            "\n",
            "Epoch 10/25 started...\n"
          ]
        },
        {
          "output_type": "stream",
          "name": "stderr",
          "text": [
            "/usr/local/lib/python3.11/dist-packages/torch/utils/data/dataloader.py:624: UserWarning: This DataLoader will create 4 worker processes in total. Our suggested max number of worker in current system is 2, which is smaller than what this DataLoader is going to create. Please be aware that excessive worker creation might get DataLoader running slow or even freeze, lower the worker number to avoid potential slowness/freeze if necessary.\n",
            "  warnings.warn(\n"
          ]
        },
        {
          "output_type": "stream",
          "name": "stdout",
          "text": [
            "Skipping corrupted image: /content/drive/MyDrive/Waste Classification using Transfer Learning/Dataset/cardboard/cardboard 1075.jpg - cannot identify image file <_io.BufferedReader name='/content/drive/MyDrive/Waste Classification using Transfer Learning/Dataset/cardboard/cardboard 1075.jpg'>\n",
            "Batch 0/455: Loss = 0.0597\n",
            "Batch 10/455: Loss = 0.0662\n",
            "Batch 20/455: Loss = 0.0592\n",
            "Batch 30/455: Loss = 0.0155\n"
          ]
        },
        {
          "output_type": "stream",
          "name": "stderr",
          "text": [
            "/usr/local/lib/python3.11/dist-packages/PIL/Image.py:1045: UserWarning: Palette images with Transparency expressed in bytes should be converted to RGBA images\n",
            "  warnings.warn(\n"
          ]
        },
        {
          "output_type": "stream",
          "name": "stdout",
          "text": [
            "Skipping corrupted image: /content/drive/MyDrive/Waste Classification using Transfer Learning/Dataset/e-waste/e-waste 1719.jpg - cannot identify image file <_io.BufferedReader name='/content/drive/MyDrive/Waste Classification using Transfer Learning/Dataset/e-waste/e-waste 1719.jpg'>\n",
            "Batch 40/455: Loss = 0.0274\n",
            "Batch 50/455: Loss = 0.0299\n",
            "Batch 60/455: Loss = 0.0499\n"
          ]
        },
        {
          "output_type": "stream",
          "name": "stderr",
          "text": [
            "/usr/local/lib/python3.11/dist-packages/PIL/Image.py:1045: UserWarning: Palette images with Transparency expressed in bytes should be converted to RGBA images\n",
            "  warnings.warn(\n"
          ]
        },
        {
          "output_type": "stream",
          "name": "stdout",
          "text": [
            "Batch 70/455: Loss = 0.0447\n"
          ]
        },
        {
          "output_type": "stream",
          "name": "stderr",
          "text": [
            "/usr/local/lib/python3.11/dist-packages/PIL/Image.py:1045: UserWarning: Palette images with Transparency expressed in bytes should be converted to RGBA images\n",
            "  warnings.warn(\n"
          ]
        },
        {
          "output_type": "stream",
          "name": "stdout",
          "text": [
            "Batch 80/455: Loss = 0.1605\n",
            "Batch 90/455: Loss = 0.0227\n",
            "Batch 100/455: Loss = 0.1877\n",
            "Batch 110/455: Loss = 0.0165\n",
            "Batch 120/455: Loss = 0.0239\n",
            "Batch 130/455: Loss = 0.0281\n",
            "Batch 140/455: Loss = 0.1412\n",
            "Batch 150/455: Loss = 0.0676\n",
            "Batch 160/455: Loss = 0.0614\n",
            "Batch 170/455: Loss = 0.0947\n",
            "Batch 180/455: Loss = 0.0229\n",
            "Batch 190/455: Loss = 0.2091\n",
            "Batch 200/455: Loss = 0.0572\n",
            "Batch 210/455: Loss = 0.1328\n",
            "Batch 220/455: Loss = 0.0077\n",
            "Skipping corrupted image: /content/drive/MyDrive/Waste Classification using Transfer Learning/Dataset/paper/paper 2273.jpg - cannot identify image file <_io.BufferedReader name='/content/drive/MyDrive/Waste Classification using Transfer Learning/Dataset/paper/paper 2273.jpg'>\n",
            "Batch 230/455: Loss = 0.1089\n",
            "Batch 240/455: Loss = 0.0672\n",
            "Batch 250/455: Loss = 0.2187\n",
            "Batch 260/455: Loss = 0.3013\n",
            "Batch 270/455: Loss = 0.0604\n",
            "Batch 280/455: Loss = 0.0595\n",
            "Batch 290/455: Loss = 0.0733\n",
            "Batch 300/455: Loss = 0.1211\n",
            "Batch 310/455: Loss = 0.0215\n",
            "Batch 320/455: Loss = 0.1351\n",
            "Batch 330/455: Loss = 0.0796\n",
            "Batch 340/455: Loss = 0.0423\n",
            "Batch 350/455: Loss = 0.1487\n",
            "Batch 360/455: Loss = 0.0380\n"
          ]
        },
        {
          "output_type": "stream",
          "name": "stderr",
          "text": [
            "/usr/local/lib/python3.11/dist-packages/PIL/Image.py:1045: UserWarning: Palette images with Transparency expressed in bytes should be converted to RGBA images\n",
            "  warnings.warn(\n"
          ]
        },
        {
          "output_type": "stream",
          "name": "stdout",
          "text": [
            "Batch 370/455: Loss = 0.2037\n",
            "Batch 380/455: Loss = 0.0121\n",
            "Batch 390/455: Loss = 0.1884\n",
            "Batch 400/455: Loss = 0.0693\n",
            "Batch 410/455: Loss = 0.0603\n",
            "Batch 420/455: Loss = 0.0728\n",
            "Batch 430/455: Loss = 0.1208\n",
            "Batch 440/455: Loss = 0.0682\n",
            "Batch 450/455: Loss = 0.1196\n",
            "Training phase completed. Starting validation...\n"
          ]
        },
        {
          "output_type": "stream",
          "name": "stderr",
          "text": [
            "/usr/local/lib/python3.11/dist-packages/PIL/Image.py:1045: UserWarning: Palette images with Transparency expressed in bytes should be converted to RGBA images\n",
            "  warnings.warn(\n",
            "/usr/local/lib/python3.11/dist-packages/PIL/Image.py:1045: UserWarning: Palette images with Transparency expressed in bytes should be converted to RGBA images\n",
            "  warnings.warn(\n"
          ]
        },
        {
          "output_type": "stream",
          "name": "stdout",
          "text": [
            "Epoch [10/25] completed.\n",
            "Train Loss: 0.0921 | Train Acc: 96.93%\n",
            "Val Loss: 0.3307 | Val Acc: 91.13%\n",
            "Precision: 91.38% | Recall: 90.82% | F1-score: 91.03%\n",
            "Checkpoint saved at /content/drive/MyDrive/Waste Classification using Transfer Learning/Saved Models/MobileNet-V2/checkpoint_epoch_10.pth!\n",
            "New best model saved at /content/drive/MyDrive/Waste Classification using Transfer Learning/Saved Models/MobileNet-V2/Model_MobileNetV2.pth!\n",
            "\n",
            "Epoch 11/25 started...\n"
          ]
        },
        {
          "output_type": "stream",
          "name": "stderr",
          "text": [
            "/usr/local/lib/python3.11/dist-packages/torch/utils/data/dataloader.py:624: UserWarning: This DataLoader will create 4 worker processes in total. Our suggested max number of worker in current system is 2, which is smaller than what this DataLoader is going to create. Please be aware that excessive worker creation might get DataLoader running slow or even freeze, lower the worker number to avoid potential slowness/freeze if necessary.\n",
            "  warnings.warn(\n"
          ]
        },
        {
          "output_type": "stream",
          "name": "stdout",
          "text": [
            "Batch 0/455: Loss = 0.1493\n",
            "Batch 10/455: Loss = 0.0170\n",
            "Skipping corrupted image: /content/drive/MyDrive/Waste Classification using Transfer Learning/Dataset/cardboard/cardboard 1075.jpg - cannot identify image file <_io.BufferedReader name='/content/drive/MyDrive/Waste Classification using Transfer Learning/Dataset/cardboard/cardboard 1075.jpg'>\n"
          ]
        },
        {
          "output_type": "stream",
          "name": "stderr",
          "text": [
            "/usr/local/lib/python3.11/dist-packages/PIL/Image.py:1045: UserWarning: Palette images with Transparency expressed in bytes should be converted to RGBA images\n",
            "  warnings.warn(\n"
          ]
        },
        {
          "output_type": "stream",
          "name": "stdout",
          "text": [
            "Batch 20/455: Loss = 0.0577\n"
          ]
        },
        {
          "output_type": "stream",
          "name": "stderr",
          "text": [
            "/usr/local/lib/python3.11/dist-packages/PIL/Image.py:1045: UserWarning: Palette images with Transparency expressed in bytes should be converted to RGBA images\n",
            "  warnings.warn(\n"
          ]
        },
        {
          "output_type": "stream",
          "name": "stdout",
          "text": [
            "Batch 30/455: Loss = 0.1307\n",
            "Batch 40/455: Loss = 0.0159\n",
            "Batch 50/455: Loss = 0.0811\n"
          ]
        },
        {
          "output_type": "stream",
          "name": "stderr",
          "text": [
            "/usr/local/lib/python3.11/dist-packages/PIL/Image.py:1045: UserWarning: Palette images with Transparency expressed in bytes should be converted to RGBA images\n",
            "  warnings.warn(\n"
          ]
        },
        {
          "output_type": "stream",
          "name": "stdout",
          "text": [
            "Batch 60/455: Loss = 0.1250\n",
            "Batch 70/455: Loss = 0.1885\n",
            "Batch 80/455: Loss = 0.0166\n",
            "Skipping corrupted image: /content/drive/MyDrive/Waste Classification using Transfer Learning/Dataset/e-waste/e-waste 1719.jpg - cannot identify image file <_io.BufferedReader name='/content/drive/MyDrive/Waste Classification using Transfer Learning/Dataset/e-waste/e-waste 1719.jpg'>\n",
            "Batch 90/455: Loss = 0.0189\n",
            "Batch 100/455: Loss = 0.0607\n",
            "Batch 110/455: Loss = 0.1208\n",
            "Batch 120/455: Loss = 0.0326\n",
            "Batch 130/455: Loss = 0.0284\n",
            "Batch 140/455: Loss = 0.2231\n",
            "Batch 150/455: Loss = 0.1220\n",
            "Batch 160/455: Loss = 0.0681\n",
            "Batch 170/455: Loss = 0.1065\n",
            "Batch 180/455: Loss = 0.0462\n"
          ]
        },
        {
          "output_type": "stream",
          "name": "stderr",
          "text": [
            "/usr/local/lib/python3.11/dist-packages/PIL/Image.py:1045: UserWarning: Palette images with Transparency expressed in bytes should be converted to RGBA images\n",
            "  warnings.warn(\n"
          ]
        },
        {
          "output_type": "stream",
          "name": "stdout",
          "text": [
            "Batch 190/455: Loss = 0.1063\n",
            "Batch 200/455: Loss = 0.2244\n",
            "Batch 210/455: Loss = 0.0129\n",
            "Batch 220/455: Loss = 0.1322\n",
            "Batch 230/455: Loss = 0.0796\n",
            "Batch 240/455: Loss = 0.0912\n",
            "Skipping corrupted image: /content/drive/MyDrive/Waste Classification using Transfer Learning/Dataset/paper/paper 2273.jpg - cannot identify image file <_io.BufferedReader name='/content/drive/MyDrive/Waste Classification using Transfer Learning/Dataset/paper/paper 2273.jpg'>\n",
            "Batch 250/455: Loss = 0.2788\n",
            "Batch 260/455: Loss = 0.0886\n",
            "Batch 270/455: Loss = 0.1475\n",
            "Batch 280/455: Loss = 0.1072\n",
            "Batch 290/455: Loss = 0.3365\n",
            "Batch 300/455: Loss = 0.0120\n",
            "Batch 310/455: Loss = 0.1147\n",
            "Batch 320/455: Loss = 0.1044\n",
            "Batch 330/455: Loss = 0.0314\n",
            "Batch 340/455: Loss = 0.0106\n",
            "Batch 350/455: Loss = 0.0890\n",
            "Batch 360/455: Loss = 0.0388\n",
            "Batch 370/455: Loss = 0.0665\n",
            "Batch 380/455: Loss = 0.1361\n",
            "Batch 390/455: Loss = 0.0861\n",
            "Batch 400/455: Loss = 0.0134\n",
            "Batch 410/455: Loss = 0.2009\n",
            "Batch 420/455: Loss = 0.2147\n",
            "Batch 430/455: Loss = 0.0456\n",
            "Batch 440/455: Loss = 0.0498\n",
            "Batch 450/455: Loss = 0.0328\n",
            "Training phase completed. Starting validation...\n"
          ]
        },
        {
          "output_type": "stream",
          "name": "stderr",
          "text": [
            "/usr/local/lib/python3.11/dist-packages/PIL/Image.py:1045: UserWarning: Palette images with Transparency expressed in bytes should be converted to RGBA images\n",
            "  warnings.warn(\n",
            "/usr/local/lib/python3.11/dist-packages/PIL/Image.py:1045: UserWarning: Palette images with Transparency expressed in bytes should be converted to RGBA images\n",
            "  warnings.warn(\n"
          ]
        },
        {
          "output_type": "stream",
          "name": "stdout",
          "text": [
            "Epoch [11/25] completed.\n",
            "Train Loss: 0.1010 | Train Acc: 96.43%\n",
            "Val Loss: 0.3851 | Val Acc: 90.14%\n",
            "Precision: 90.31% | Recall: 89.88% | F1-score: 90.05%\n",
            "\n",
            "Epoch 12/25 started...\n"
          ]
        },
        {
          "output_type": "stream",
          "name": "stderr",
          "text": [
            "/usr/local/lib/python3.11/dist-packages/torch/utils/data/dataloader.py:624: UserWarning: This DataLoader will create 4 worker processes in total. Our suggested max number of worker in current system is 2, which is smaller than what this DataLoader is going to create. Please be aware that excessive worker creation might get DataLoader running slow or even freeze, lower the worker number to avoid potential slowness/freeze if necessary.\n",
            "  warnings.warn(\n",
            "/usr/local/lib/python3.11/dist-packages/PIL/Image.py:1045: UserWarning: Palette images with Transparency expressed in bytes should be converted to RGBA images\n",
            "  warnings.warn(\n"
          ]
        },
        {
          "output_type": "stream",
          "name": "stdout",
          "text": [
            "Batch 0/455: Loss = 0.2350\n",
            "Batch 10/455: Loss = 0.0776\n",
            "Batch 20/455: Loss = 0.2180\n",
            "Skipping corrupted image: /content/drive/MyDrive/Waste Classification using Transfer Learning/Dataset/e-waste/e-waste 1719.jpg - cannot identify image file <_io.BufferedReader name='/content/drive/MyDrive/Waste Classification using Transfer Learning/Dataset/e-waste/e-waste 1719.jpg'>\n",
            "Batch 30/455: Loss = 0.0659\n",
            "Batch 40/455: Loss = 0.0237\n",
            "Batch 50/455: Loss = 0.0402\n",
            "Batch 60/455: Loss = 0.0340\n"
          ]
        },
        {
          "output_type": "stream",
          "name": "stderr",
          "text": [
            "/usr/local/lib/python3.11/dist-packages/PIL/Image.py:1045: UserWarning: Palette images with Transparency expressed in bytes should be converted to RGBA images\n",
            "  warnings.warn(\n"
          ]
        },
        {
          "output_type": "stream",
          "name": "stdout",
          "text": [
            "Batch 70/455: Loss = 0.0464\n",
            "Batch 80/455: Loss = 0.0391\n"
          ]
        },
        {
          "output_type": "stream",
          "name": "stderr",
          "text": [
            "/usr/local/lib/python3.11/dist-packages/PIL/Image.py:1045: UserWarning: Palette images with Transparency expressed in bytes should be converted to RGBA images\n",
            "  warnings.warn(\n"
          ]
        },
        {
          "output_type": "stream",
          "name": "stdout",
          "text": [
            "Batch 90/455: Loss = 0.0692\n",
            "Batch 100/455: Loss = 0.0526\n",
            "Batch 110/455: Loss = 0.0221\n",
            "Batch 120/455: Loss = 0.1582\n",
            "Batch 130/455: Loss = 0.0167\n",
            "Batch 140/455: Loss = 0.0315\n",
            "Batch 150/455: Loss = 0.0187\n",
            "Batch 160/455: Loss = 0.1208\n",
            "Batch 170/455: Loss = 0.0766\n",
            "Batch 180/455: Loss = 0.0282\n",
            "Batch 190/455: Loss = 0.0650\n",
            "Batch 200/455: Loss = 0.0369\n",
            "Batch 210/455: Loss = 0.0207\n",
            "Batch 220/455: Loss = 0.0165\n",
            "Batch 230/455: Loss = 0.0701\n"
          ]
        },
        {
          "output_type": "stream",
          "name": "stderr",
          "text": [
            "/usr/local/lib/python3.11/dist-packages/PIL/Image.py:1045: UserWarning: Palette images with Transparency expressed in bytes should be converted to RGBA images\n",
            "  warnings.warn(\n"
          ]
        },
        {
          "output_type": "stream",
          "name": "stdout",
          "text": [
            "Batch 240/455: Loss = 0.0535\n",
            "Batch 250/455: Loss = 0.0092\n",
            "Batch 260/455: Loss = 0.1334\n",
            "Batch 270/455: Loss = 0.2221\n",
            "Batch 280/455: Loss = 0.0417\n",
            "Batch 290/455: Loss = 0.0312\n",
            "Batch 300/455: Loss = 0.1443\n",
            "Batch 310/455: Loss = 0.1126\n",
            "Batch 320/455: Loss = 0.3115\n",
            "Batch 330/455: Loss = 0.0665\n",
            "Batch 340/455: Loss = 0.0995\n",
            "Batch 350/455: Loss = 0.0601\n",
            "Batch 360/455: Loss = 0.0451\n",
            "Batch 370/455: Loss = 0.0280\n",
            "Skipping corrupted image: /content/drive/MyDrive/Waste Classification using Transfer Learning/Dataset/cardboard/cardboard 1075.jpg - cannot identify image file <_io.BufferedReader name='/content/drive/MyDrive/Waste Classification using Transfer Learning/Dataset/cardboard/cardboard 1075.jpg'>\n",
            "Batch 380/455: Loss = 0.0923\n",
            "Batch 390/455: Loss = 0.1242\n",
            "Batch 400/455: Loss = 0.1179\n",
            "Batch 410/455: Loss = 0.0248\n",
            "Batch 420/455: Loss = 0.0138\n",
            "Skipping corrupted image: /content/drive/MyDrive/Waste Classification using Transfer Learning/Dataset/paper/paper 2273.jpg - cannot identify image file <_io.BufferedReader name='/content/drive/MyDrive/Waste Classification using Transfer Learning/Dataset/paper/paper 2273.jpg'>\n",
            "Batch 430/455: Loss = 0.0703\n",
            "Batch 440/455: Loss = 0.2168\n",
            "Batch 450/455: Loss = 0.0182\n",
            "Training phase completed. Starting validation...\n"
          ]
        },
        {
          "output_type": "stream",
          "name": "stderr",
          "text": [
            "/usr/local/lib/python3.11/dist-packages/PIL/Image.py:1045: UserWarning: Palette images with Transparency expressed in bytes should be converted to RGBA images\n",
            "  warnings.warn(\n",
            "/usr/local/lib/python3.11/dist-packages/PIL/Image.py:1045: UserWarning: Palette images with Transparency expressed in bytes should be converted to RGBA images\n",
            "  warnings.warn(\n"
          ]
        },
        {
          "output_type": "stream",
          "name": "stdout",
          "text": [
            "Epoch [12/25] completed.\n",
            "Train Loss: 0.0918 | Train Acc: 96.82%\n",
            "Val Loss: 0.3733 | Val Acc: 90.76%\n",
            "Precision: 90.86% | Recall: 90.57% | F1-score: 90.65%\n",
            "\n",
            "Epoch 13/25 started...\n"
          ]
        },
        {
          "output_type": "stream",
          "name": "stderr",
          "text": [
            "/usr/local/lib/python3.11/dist-packages/torch/utils/data/dataloader.py:624: UserWarning: This DataLoader will create 4 worker processes in total. Our suggested max number of worker in current system is 2, which is smaller than what this DataLoader is going to create. Please be aware that excessive worker creation might get DataLoader running slow or even freeze, lower the worker number to avoid potential slowness/freeze if necessary.\n",
            "  warnings.warn(\n"
          ]
        },
        {
          "output_type": "stream",
          "name": "stdout",
          "text": [
            "Batch 0/455: Loss = 0.0567\n",
            "Batch 10/455: Loss = 0.0344\n",
            "Batch 20/455: Loss = 0.1314\n",
            "Batch 30/455: Loss = 0.0037\n"
          ]
        },
        {
          "output_type": "stream",
          "name": "stderr",
          "text": [
            "/usr/local/lib/python3.11/dist-packages/PIL/Image.py:1045: UserWarning: Palette images with Transparency expressed in bytes should be converted to RGBA images\n",
            "  warnings.warn(\n"
          ]
        },
        {
          "output_type": "stream",
          "name": "stdout",
          "text": [
            "Skipping corrupted image: /content/drive/MyDrive/Waste Classification using Transfer Learning/Dataset/paper/paper 2273.jpg - cannot identify image file <_io.BufferedReader name='/content/drive/MyDrive/Waste Classification using Transfer Learning/Dataset/paper/paper 2273.jpg'>\n",
            "Batch 40/455: Loss = 0.0232\n",
            "Batch 50/455: Loss = 0.0072\n"
          ]
        },
        {
          "output_type": "stream",
          "name": "stderr",
          "text": [
            "/usr/local/lib/python3.11/dist-packages/PIL/Image.py:1045: UserWarning: Palette images with Transparency expressed in bytes should be converted to RGBA images\n",
            "  warnings.warn(\n"
          ]
        },
        {
          "output_type": "stream",
          "name": "stdout",
          "text": [
            "Batch 60/455: Loss = 0.0752\n",
            "Batch 70/455: Loss = 0.0887\n",
            "Batch 80/455: Loss = 0.0963\n",
            "Batch 90/455: Loss = 0.0169\n"
          ]
        },
        {
          "output_type": "stream",
          "name": "stderr",
          "text": [
            "/usr/local/lib/python3.11/dist-packages/PIL/Image.py:1045: UserWarning: Palette images with Transparency expressed in bytes should be converted to RGBA images\n",
            "  warnings.warn(\n"
          ]
        },
        {
          "output_type": "stream",
          "name": "stdout",
          "text": [
            "Skipping corrupted image: /content/drive/MyDrive/Waste Classification using Transfer Learning/Dataset/cardboard/cardboard 1075.jpg - cannot identify image file <_io.BufferedReader name='/content/drive/MyDrive/Waste Classification using Transfer Learning/Dataset/cardboard/cardboard 1075.jpg'>\n",
            "Batch 100/455: Loss = 0.0156\n",
            "Batch 110/455: Loss = 0.1038\n",
            "Batch 120/455: Loss = 0.0076\n"
          ]
        },
        {
          "output_type": "stream",
          "name": "stderr",
          "text": [
            "/usr/local/lib/python3.11/dist-packages/PIL/Image.py:1045: UserWarning: Palette images with Transparency expressed in bytes should be converted to RGBA images\n",
            "  warnings.warn(\n"
          ]
        },
        {
          "output_type": "stream",
          "name": "stdout",
          "text": [
            "Batch 130/455: Loss = 0.0087\n",
            "Batch 140/455: Loss = 0.1372\n",
            "Batch 150/455: Loss = 0.1558\n",
            "Batch 160/455: Loss = 0.2442\n",
            "Skipping corrupted image: /content/drive/MyDrive/Waste Classification using Transfer Learning/Dataset/e-waste/e-waste 1719.jpg - cannot identify image file <_io.BufferedReader name='/content/drive/MyDrive/Waste Classification using Transfer Learning/Dataset/e-waste/e-waste 1719.jpg'>\n",
            "Batch 170/455: Loss = 0.0704\n",
            "Batch 180/455: Loss = 0.0548\n",
            "Batch 190/455: Loss = 0.0271\n",
            "Batch 200/455: Loss = 0.0957\n",
            "Batch 210/455: Loss = 0.0100\n",
            "Batch 220/455: Loss = 0.1887\n",
            "Batch 230/455: Loss = 0.0044\n",
            "Batch 240/455: Loss = 0.0327\n",
            "Batch 250/455: Loss = 0.1856\n",
            "Batch 260/455: Loss = 0.1687\n",
            "Batch 270/455: Loss = 0.0131\n",
            "Batch 280/455: Loss = 0.0333\n",
            "Batch 290/455: Loss = 0.0200\n",
            "Batch 300/455: Loss = 0.0560\n",
            "Batch 310/455: Loss = 0.0921\n",
            "Batch 320/455: Loss = 0.0545\n",
            "Batch 330/455: Loss = 0.0833\n",
            "Batch 340/455: Loss = 0.0667\n",
            "Batch 350/455: Loss = 0.1528\n",
            "Batch 360/455: Loss = 0.1158\n",
            "Batch 370/455: Loss = 0.1236\n",
            "Batch 380/455: Loss = 0.0411\n",
            "Batch 390/455: Loss = 0.0269\n",
            "Batch 400/455: Loss = 0.3025\n",
            "Batch 410/455: Loss = 0.0720\n",
            "Batch 420/455: Loss = 0.0351\n",
            "Batch 430/455: Loss = 0.0923\n",
            "Batch 440/455: Loss = 0.2292\n",
            "Batch 450/455: Loss = 0.1552\n",
            "Training phase completed. Starting validation...\n"
          ]
        },
        {
          "output_type": "stream",
          "name": "stderr",
          "text": [
            "/usr/local/lib/python3.11/dist-packages/PIL/Image.py:1045: UserWarning: Palette images with Transparency expressed in bytes should be converted to RGBA images\n",
            "  warnings.warn(\n",
            "/usr/local/lib/python3.11/dist-packages/PIL/Image.py:1045: UserWarning: Palette images with Transparency expressed in bytes should be converted to RGBA images\n",
            "  warnings.warn(\n"
          ]
        },
        {
          "output_type": "stream",
          "name": "stdout",
          "text": [
            "Epoch [13/25] completed.\n",
            "Train Loss: 0.0863 | Train Acc: 97.09%\n",
            "Val Loss: 0.4073 | Val Acc: 89.40%\n",
            "Precision: 89.58% | Recall: 89.07% | F1-score: 89.23%\n",
            "\n",
            "Epoch 14/25 started...\n"
          ]
        },
        {
          "output_type": "stream",
          "name": "stderr",
          "text": [
            "/usr/local/lib/python3.11/dist-packages/torch/utils/data/dataloader.py:624: UserWarning: This DataLoader will create 4 worker processes in total. Our suggested max number of worker in current system is 2, which is smaller than what this DataLoader is going to create. Please be aware that excessive worker creation might get DataLoader running slow or even freeze, lower the worker number to avoid potential slowness/freeze if necessary.\n",
            "  warnings.warn(\n"
          ]
        },
        {
          "output_type": "stream",
          "name": "stdout",
          "text": [
            "Batch 0/455: Loss = 0.1903\n",
            "Batch 10/455: Loss = 0.0924\n",
            "Batch 20/455: Loss = 0.1905\n",
            "Batch 30/455: Loss = 0.0298\n",
            "Batch 40/455: Loss = 0.0244\n"
          ]
        },
        {
          "output_type": "stream",
          "name": "stderr",
          "text": [
            "/usr/local/lib/python3.11/dist-packages/PIL/Image.py:1045: UserWarning: Palette images with Transparency expressed in bytes should be converted to RGBA images\n",
            "  warnings.warn(\n"
          ]
        },
        {
          "output_type": "stream",
          "name": "stdout",
          "text": [
            "Batch 50/455: Loss = 0.1828\n"
          ]
        },
        {
          "output_type": "stream",
          "name": "stderr",
          "text": [
            "/usr/local/lib/python3.11/dist-packages/PIL/Image.py:1045: UserWarning: Palette images with Transparency expressed in bytes should be converted to RGBA images\n",
            "  warnings.warn(\n"
          ]
        },
        {
          "output_type": "stream",
          "name": "stdout",
          "text": [
            "Batch 60/455: Loss = 0.0593\n",
            "Batch 70/455: Loss = 0.0508\n",
            "Batch 80/455: Loss = 0.0274\n",
            "Batch 90/455: Loss = 0.2001\n",
            "Batch 100/455: Loss = 0.0954\n",
            "Batch 110/455: Loss = 0.1870\n",
            "Batch 120/455: Loss = 0.0309\n"
          ]
        },
        {
          "output_type": "stream",
          "name": "stderr",
          "text": [
            "/usr/local/lib/python3.11/dist-packages/PIL/Image.py:1045: UserWarning: Palette images with Transparency expressed in bytes should be converted to RGBA images\n",
            "  warnings.warn(\n",
            "/usr/local/lib/python3.11/dist-packages/PIL/Image.py:1045: UserWarning: Palette images with Transparency expressed in bytes should be converted to RGBA images\n",
            "  warnings.warn(\n"
          ]
        },
        {
          "output_type": "stream",
          "name": "stdout",
          "text": [
            "Batch 130/455: Loss = 0.0322\n",
            "Batch 140/455: Loss = 0.0486\n",
            "Batch 150/455: Loss = 0.1023\n",
            "Batch 160/455: Loss = 0.2537\n",
            "Batch 170/455: Loss = 0.0260\n",
            "Batch 180/455: Loss = 0.0451\n",
            "Batch 190/455: Loss = 0.0657\n",
            "Skipping corrupted image: /content/drive/MyDrive/Waste Classification using Transfer Learning/Dataset/cardboard/cardboard 1075.jpg - cannot identify image file <_io.BufferedReader name='/content/drive/MyDrive/Waste Classification using Transfer Learning/Dataset/cardboard/cardboard 1075.jpg'>\n",
            "Batch 200/455: Loss = 0.0229\n",
            "Batch 210/455: Loss = 0.2931\n",
            "Batch 220/455: Loss = 0.0490\n",
            "Batch 230/455: Loss = 0.0192\n",
            "Batch 240/455: Loss = 0.0194\n",
            "Batch 250/455: Loss = 0.1092\n",
            "Batch 260/455: Loss = 0.0090\n",
            "Batch 270/455: Loss = 0.0305\n",
            "Batch 280/455: Loss = 0.0301\n",
            "Batch 290/455: Loss = 0.0228\n",
            "Batch 300/455: Loss = 0.1170\n",
            "Batch 310/455: Loss = 0.1692\n",
            "Batch 320/455: Loss = 0.1878\n",
            "Batch 330/455: Loss = 0.0612\n",
            "Batch 340/455: Loss = 0.1822\n",
            "Batch 350/455: Loss = 0.0844\n",
            "Batch 360/455: Loss = 0.0257\n",
            "Batch 370/455: Loss = 0.0257\n",
            "Skipping corrupted image: /content/drive/MyDrive/Waste Classification using Transfer Learning/Dataset/paper/paper 2273.jpg - cannot identify image file <_io.BufferedReader name='/content/drive/MyDrive/Waste Classification using Transfer Learning/Dataset/paper/paper 2273.jpg'>\n",
            "Batch 380/455: Loss = 0.1597\n",
            "Batch 390/455: Loss = 0.0575\n",
            "Batch 400/455: Loss = 0.1869\n",
            "Skipping corrupted image: /content/drive/MyDrive/Waste Classification using Transfer Learning/Dataset/e-waste/e-waste 1719.jpg - cannot identify image file <_io.BufferedReader name='/content/drive/MyDrive/Waste Classification using Transfer Learning/Dataset/e-waste/e-waste 1719.jpg'>\n",
            "Batch 410/455: Loss = 0.3191\n",
            "Batch 420/455: Loss = 0.0681\n",
            "Batch 430/455: Loss = 0.0524\n",
            "Batch 440/455: Loss = 0.0191\n",
            "Batch 450/455: Loss = 0.0686\n",
            "Training phase completed. Starting validation...\n"
          ]
        },
        {
          "output_type": "stream",
          "name": "stderr",
          "text": [
            "/usr/local/lib/python3.11/dist-packages/PIL/Image.py:1045: UserWarning: Palette images with Transparency expressed in bytes should be converted to RGBA images\n",
            "  warnings.warn(\n",
            "/usr/local/lib/python3.11/dist-packages/PIL/Image.py:1045: UserWarning: Palette images with Transparency expressed in bytes should be converted to RGBA images\n",
            "  warnings.warn(\n"
          ]
        },
        {
          "output_type": "stream",
          "name": "stdout",
          "text": [
            "Epoch [14/25] completed.\n",
            "Train Loss: 0.0828 | Train Acc: 97.20%\n",
            "Val Loss: 0.3649 | Val Acc: 91.13%\n",
            "Precision: 91.51% | Recall: 90.79% | F1-score: 91.07%\n",
            "\n",
            "Epoch 15/25 started...\n"
          ]
        },
        {
          "output_type": "stream",
          "name": "stderr",
          "text": [
            "/usr/local/lib/python3.11/dist-packages/torch/utils/data/dataloader.py:624: UserWarning: This DataLoader will create 4 worker processes in total. Our suggested max number of worker in current system is 2, which is smaller than what this DataLoader is going to create. Please be aware that excessive worker creation might get DataLoader running slow or even freeze, lower the worker number to avoid potential slowness/freeze if necessary.\n",
            "  warnings.warn(\n",
            "/usr/local/lib/python3.11/dist-packages/PIL/Image.py:1045: UserWarning: Palette images with Transparency expressed in bytes should be converted to RGBA images\n",
            "  warnings.warn(\n"
          ]
        },
        {
          "output_type": "stream",
          "name": "stdout",
          "text": [
            "Batch 0/455: Loss = 0.0051\n",
            "Skipping corrupted image: /content/drive/MyDrive/Waste Classification using Transfer Learning/Dataset/paper/paper 2273.jpg - cannot identify image file <_io.BufferedReader name='/content/drive/MyDrive/Waste Classification using Transfer Learning/Dataset/paper/paper 2273.jpg'>\n",
            "Batch 10/455: Loss = 0.0343\n"
          ]
        },
        {
          "output_type": "stream",
          "name": "stderr",
          "text": [
            "/usr/local/lib/python3.11/dist-packages/PIL/Image.py:1045: UserWarning: Palette images with Transparency expressed in bytes should be converted to RGBA images\n",
            "  warnings.warn(\n"
          ]
        },
        {
          "output_type": "stream",
          "name": "stdout",
          "text": [
            "Batch 20/455: Loss = 0.0422\n",
            "Batch 30/455: Loss = 0.0599\n",
            "Batch 40/455: Loss = 0.0892\n",
            "Skipping corrupted image: /content/drive/MyDrive/Waste Classification using Transfer Learning/Dataset/cardboard/cardboard 1075.jpg - cannot identify image file <_io.BufferedReader name='/content/drive/MyDrive/Waste Classification using Transfer Learning/Dataset/cardboard/cardboard 1075.jpg'>\n",
            "Batch 50/455: Loss = 0.0783\n",
            "Batch 60/455: Loss = 0.1561\n",
            "Batch 70/455: Loss = 0.0977\n",
            "Batch 80/455: Loss = 0.1440\n",
            "Batch 90/455: Loss = 0.0224\n",
            "Batch 100/455: Loss = 0.0476\n",
            "Batch 110/455: Loss = 0.1041\n",
            "Batch 120/455: Loss = 0.0198\n",
            "Batch 130/455: Loss = 0.0750\n",
            "Batch 140/455: Loss = 0.1665\n",
            "Batch 150/455: Loss = 0.0121\n"
          ]
        },
        {
          "output_type": "stream",
          "name": "stderr",
          "text": [
            "/usr/local/lib/python3.11/dist-packages/PIL/Image.py:1045: UserWarning: Palette images with Transparency expressed in bytes should be converted to RGBA images\n",
            "  warnings.warn(\n"
          ]
        },
        {
          "output_type": "stream",
          "name": "stdout",
          "text": [
            "Batch 160/455: Loss = 0.0439\n",
            "Batch 170/455: Loss = 0.0108\n",
            "Batch 180/455: Loss = 0.0100\n",
            "Batch 190/455: Loss = 0.1709\n",
            "Batch 200/455: Loss = 0.0145\n"
          ]
        },
        {
          "output_type": "stream",
          "name": "stderr",
          "text": [
            "/usr/local/lib/python3.11/dist-packages/PIL/Image.py:1045: UserWarning: Palette images with Transparency expressed in bytes should be converted to RGBA images\n",
            "  warnings.warn(\n"
          ]
        },
        {
          "output_type": "stream",
          "name": "stdout",
          "text": [
            "Batch 210/455: Loss = 0.1636\n",
            "Batch 220/455: Loss = 0.0223\n",
            "Batch 230/455: Loss = 0.0249\n",
            "Batch 240/455: Loss = 0.3261\n",
            "Batch 250/455: Loss = 0.0554\n",
            "Batch 260/455: Loss = 0.1316\n",
            "Batch 270/455: Loss = 0.0323\n",
            "Batch 280/455: Loss = 0.0922\n",
            "Batch 290/455: Loss = 0.1719\n",
            "Batch 300/455: Loss = 0.0274\n",
            "Batch 310/455: Loss = 0.0085\n",
            "Batch 320/455: Loss = 0.0520\n",
            "Skipping corrupted image: /content/drive/MyDrive/Waste Classification using Transfer Learning/Dataset/e-waste/e-waste 1719.jpg - cannot identify image file <_io.BufferedReader name='/content/drive/MyDrive/Waste Classification using Transfer Learning/Dataset/e-waste/e-waste 1719.jpg'>\n",
            "Batch 330/455: Loss = 0.0780\n",
            "Batch 340/455: Loss = 0.0369\n",
            "Batch 350/455: Loss = 0.0162\n",
            "Batch 360/455: Loss = 0.0400\n",
            "Batch 370/455: Loss = 0.1217\n",
            "Batch 380/455: Loss = 0.0520\n",
            "Batch 390/455: Loss = 0.0195\n",
            "Batch 400/455: Loss = 0.1455\n",
            "Batch 410/455: Loss = 0.0268\n",
            "Batch 420/455: Loss = 0.0135\n",
            "Batch 430/455: Loss = 0.2300\n",
            "Batch 440/455: Loss = 0.0225\n",
            "Batch 450/455: Loss = 0.0370\n",
            "Training phase completed. Starting validation...\n"
          ]
        },
        {
          "output_type": "stream",
          "name": "stderr",
          "text": [
            "/usr/local/lib/python3.11/dist-packages/PIL/Image.py:1045: UserWarning: Palette images with Transparency expressed in bytes should be converted to RGBA images\n",
            "  warnings.warn(\n",
            "/usr/local/lib/python3.11/dist-packages/PIL/Image.py:1045: UserWarning: Palette images with Transparency expressed in bytes should be converted to RGBA images\n",
            "  warnings.warn(\n"
          ]
        },
        {
          "output_type": "stream",
          "name": "stdout",
          "text": [
            "Epoch [15/25] completed.\n",
            "Train Loss: 0.0731 | Train Acc: 97.53%\n",
            "Val Loss: 0.4084 | Val Acc: 89.83%\n",
            "Precision: 90.34% | Recall: 89.50% | F1-score: 89.79%\n",
            "Checkpoint saved at /content/drive/MyDrive/Waste Classification using Transfer Learning/Saved Models/MobileNet-V2/checkpoint_epoch_15.pth!\n",
            "Early stopping at epoch 15 due to no improvement in validation loss or accuracy.\n",
            "Training complete!\n"
          ]
        }
      ]
    },
    {
      "cell_type": "code",
      "source": [
        "import torch\n",
        "# Define the folder path\n",
        "save_path = \"/content/drive/MyDrive/Waste Classification using Transfer Learning/Saved Models\"\n",
        "# os.makedirs(save_path, exist_ok=True)  # Create folder if it doesn't exist\n",
        "torch.save(model, os.path.join(save_path, \"Model_MobileNet-V2.pth\"))\n",
        "print(f\"Model saved successfully in {save_path}/Model_MobileNet-V2.pth\")"
      ],
      "metadata": {
        "colab": {
          "base_uri": "https://localhost:8080/",
          "height": 193
        },
        "id": "-FO-gOGmfCVr",
        "outputId": "8536861f-a0f4-4af9-fe10-86bb24302739"
      },
      "execution_count": null,
      "outputs": [
        {
          "output_type": "error",
          "ename": "NameError",
          "evalue": "name 'model' is not defined",
          "traceback": [
            "\u001b[0;31m---------------------------------------------------------------------------\u001b[0m",
            "\u001b[0;31mNameError\u001b[0m                                 Traceback (most recent call last)",
            "\u001b[0;32m<ipython-input-1-faea69aaf6a3>\u001b[0m in \u001b[0;36m<cell line: 0>\u001b[0;34m()\u001b[0m\n\u001b[1;32m      3\u001b[0m \u001b[0msave_path\u001b[0m \u001b[0;34m=\u001b[0m \u001b[0;34m\"/content/drive/MyDrive/Waste Classification using Transfer Learning/Saved Models\"\u001b[0m\u001b[0;34m\u001b[0m\u001b[0;34m\u001b[0m\u001b[0m\n\u001b[1;32m      4\u001b[0m \u001b[0;31m# os.makedirs(save_path, exist_ok=True)  # Create folder if it doesn't exist\u001b[0m\u001b[0;34m\u001b[0m\u001b[0;34m\u001b[0m\u001b[0m\n\u001b[0;32m----> 5\u001b[0;31m \u001b[0mtorch\u001b[0m\u001b[0;34m.\u001b[0m\u001b[0msave\u001b[0m\u001b[0;34m(\u001b[0m\u001b[0mmodel\u001b[0m\u001b[0;34m,\u001b[0m \u001b[0mos\u001b[0m\u001b[0;34m.\u001b[0m\u001b[0mpath\u001b[0m\u001b[0;34m.\u001b[0m\u001b[0mjoin\u001b[0m\u001b[0;34m(\u001b[0m\u001b[0msave_path\u001b[0m\u001b[0;34m,\u001b[0m \u001b[0;34m\"Model_MobileNet-V2.pth\"\u001b[0m\u001b[0;34m)\u001b[0m\u001b[0;34m)\u001b[0m\u001b[0;34m\u001b[0m\u001b[0;34m\u001b[0m\u001b[0m\n\u001b[0m\u001b[1;32m      6\u001b[0m \u001b[0mprint\u001b[0m\u001b[0;34m(\u001b[0m\u001b[0;34mf\"Model saved successfully in {save_path}/Model_MobileNet-V2.pth\"\u001b[0m\u001b[0;34m)\u001b[0m\u001b[0;34m\u001b[0m\u001b[0;34m\u001b[0m\u001b[0m\n",
            "\u001b[0;31mNameError\u001b[0m: name 'model' is not defined"
          ]
        }
      ]
    }
  ]
}