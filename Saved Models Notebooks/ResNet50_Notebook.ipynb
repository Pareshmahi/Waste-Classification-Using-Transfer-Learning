{
  "nbformat": 4,
  "nbformat_minor": 0,
  "metadata": {
    "colab": {
      "provenance": [],
      "gpuType": "T4"
    },
    "kernelspec": {
      "name": "python3",
      "display_name": "Python 3"
    },
    "language_info": {
      "name": "python"
    },
    "accelerator": "GPU"
  },
  "cells": [
    {
      "cell_type": "code",
      "execution_count": null,
      "metadata": {
        "colab": {
          "base_uri": "https://localhost:8080/"
        },
        "id": "PPH8BVT0Q9b9",
        "outputId": "920258ef-d7d0-42b8-d0ae-6fcd2f8d5b4a"
      },
      "outputs": [
        {
          "output_type": "stream",
          "name": "stdout",
          "text": [
            "Drive already mounted at /content/drive; to attempt to forcibly remount, call drive.mount(\"/content/drive\", force_remount=True).\n"
          ]
        }
      ],
      "source": [
        "from google.colab import drive\n",
        "drive.mount('/content/drive')"
      ]
    },
    {
      "cell_type": "code",
      "source": [
        "!pip install torch torchvision torchaudio\n",
        "!pip install tqdm matplotlib scikit-learn"
      ],
      "metadata": {
        "colab": {
          "base_uri": "https://localhost:8080/"
        },
        "id": "AQcus6fZSR4y",
        "outputId": "b66fe60f-c823-48e1-a91e-72c5ec4b3a24"
      },
      "execution_count": null,
      "outputs": [
        {
          "output_type": "stream",
          "name": "stdout",
          "text": [
            "Requirement already satisfied: torch in /usr/local/lib/python3.11/dist-packages (2.6.0+cu124)\n",
            "Requirement already satisfied: torchvision in /usr/local/lib/python3.11/dist-packages (0.21.0+cu124)\n",
            "Requirement already satisfied: torchaudio in /usr/local/lib/python3.11/dist-packages (2.6.0+cu124)\n",
            "Requirement already satisfied: filelock in /usr/local/lib/python3.11/dist-packages (from torch) (3.18.0)\n",
            "Requirement already satisfied: typing-extensions>=4.10.0 in /usr/local/lib/python3.11/dist-packages (from torch) (4.13.0)\n",
            "Requirement already satisfied: networkx in /usr/local/lib/python3.11/dist-packages (from torch) (3.4.2)\n",
            "Requirement already satisfied: jinja2 in /usr/local/lib/python3.11/dist-packages (from torch) (3.1.6)\n",
            "Requirement already satisfied: fsspec in /usr/local/lib/python3.11/dist-packages (from torch) (2025.3.0)\n",
            "Requirement already satisfied: nvidia-cuda-nvrtc-cu12==12.4.127 in /usr/local/lib/python3.11/dist-packages (from torch) (12.4.127)\n",
            "Requirement already satisfied: nvidia-cuda-runtime-cu12==12.4.127 in /usr/local/lib/python3.11/dist-packages (from torch) (12.4.127)\n",
            "Requirement already satisfied: nvidia-cuda-cupti-cu12==12.4.127 in /usr/local/lib/python3.11/dist-packages (from torch) (12.4.127)\n",
            "Requirement already satisfied: nvidia-cudnn-cu12==9.1.0.70 in /usr/local/lib/python3.11/dist-packages (from torch) (9.1.0.70)\n",
            "Requirement already satisfied: nvidia-cublas-cu12==12.4.5.8 in /usr/local/lib/python3.11/dist-packages (from torch) (12.4.5.8)\n",
            "Requirement already satisfied: nvidia-cufft-cu12==11.2.1.3 in /usr/local/lib/python3.11/dist-packages (from torch) (11.2.1.3)\n",
            "Requirement already satisfied: nvidia-curand-cu12==10.3.5.147 in /usr/local/lib/python3.11/dist-packages (from torch) (10.3.5.147)\n",
            "Requirement already satisfied: nvidia-cusolver-cu12==11.6.1.9 in /usr/local/lib/python3.11/dist-packages (from torch) (11.6.1.9)\n",
            "Requirement already satisfied: nvidia-cusparse-cu12==12.3.1.170 in /usr/local/lib/python3.11/dist-packages (from torch) (12.3.1.170)\n",
            "Requirement already satisfied: nvidia-cusparselt-cu12==0.6.2 in /usr/local/lib/python3.11/dist-packages (from torch) (0.6.2)\n",
            "Requirement already satisfied: nvidia-nccl-cu12==2.21.5 in /usr/local/lib/python3.11/dist-packages (from torch) (2.21.5)\n",
            "Requirement already satisfied: nvidia-nvtx-cu12==12.4.127 in /usr/local/lib/python3.11/dist-packages (from torch) (12.4.127)\n",
            "Requirement already satisfied: nvidia-nvjitlink-cu12==12.4.127 in /usr/local/lib/python3.11/dist-packages (from torch) (12.4.127)\n",
            "Requirement already satisfied: triton==3.2.0 in /usr/local/lib/python3.11/dist-packages (from torch) (3.2.0)\n",
            "Requirement already satisfied: sympy==1.13.1 in /usr/local/lib/python3.11/dist-packages (from torch) (1.13.1)\n",
            "Requirement already satisfied: mpmath<1.4,>=1.1.0 in /usr/local/lib/python3.11/dist-packages (from sympy==1.13.1->torch) (1.3.0)\n",
            "Requirement already satisfied: numpy in /usr/local/lib/python3.11/dist-packages (from torchvision) (2.0.2)\n",
            "Requirement already satisfied: pillow!=8.3.*,>=5.3.0 in /usr/local/lib/python3.11/dist-packages (from torchvision) (11.1.0)\n",
            "Requirement already satisfied: MarkupSafe>=2.0 in /usr/local/lib/python3.11/dist-packages (from jinja2->torch) (3.0.2)\n",
            "Requirement already satisfied: tqdm in /usr/local/lib/python3.11/dist-packages (4.67.1)\n",
            "Requirement already satisfied: matplotlib in /usr/local/lib/python3.11/dist-packages (3.10.0)\n",
            "Requirement already satisfied: scikit-learn in /usr/local/lib/python3.11/dist-packages (1.6.1)\n",
            "Requirement already satisfied: contourpy>=1.0.1 in /usr/local/lib/python3.11/dist-packages (from matplotlib) (1.3.1)\n",
            "Requirement already satisfied: cycler>=0.10 in /usr/local/lib/python3.11/dist-packages (from matplotlib) (0.12.1)\n",
            "Requirement already satisfied: fonttools>=4.22.0 in /usr/local/lib/python3.11/dist-packages (from matplotlib) (4.56.0)\n",
            "Requirement already satisfied: kiwisolver>=1.3.1 in /usr/local/lib/python3.11/dist-packages (from matplotlib) (1.4.8)\n",
            "Requirement already satisfied: numpy>=1.23 in /usr/local/lib/python3.11/dist-packages (from matplotlib) (2.0.2)\n",
            "Requirement already satisfied: packaging>=20.0 in /usr/local/lib/python3.11/dist-packages (from matplotlib) (24.2)\n",
            "Requirement already satisfied: pillow>=8 in /usr/local/lib/python3.11/dist-packages (from matplotlib) (11.1.0)\n",
            "Requirement already satisfied: pyparsing>=2.3.1 in /usr/local/lib/python3.11/dist-packages (from matplotlib) (3.2.3)\n",
            "Requirement already satisfied: python-dateutil>=2.7 in /usr/local/lib/python3.11/dist-packages (from matplotlib) (2.8.2)\n",
            "Requirement already satisfied: scipy>=1.6.0 in /usr/local/lib/python3.11/dist-packages (from scikit-learn) (1.14.1)\n",
            "Requirement already satisfied: joblib>=1.2.0 in /usr/local/lib/python3.11/dist-packages (from scikit-learn) (1.4.2)\n",
            "Requirement already satisfied: threadpoolctl>=3.1.0 in /usr/local/lib/python3.11/dist-packages (from scikit-learn) (3.6.0)\n",
            "Requirement already satisfied: six>=1.5 in /usr/local/lib/python3.11/dist-packages (from python-dateutil>=2.7->matplotlib) (1.17.0)\n"
          ]
        }
      ]
    },
    {
      "cell_type": "code",
      "source": [
        "import torch\n",
        "import torchvision\n",
        "import torch.nn as nn\n",
        "import torch.optim as optim\n",
        "import torchvision.transforms as transforms\n",
        "import torchvision.models as models\n",
        "import matplotlib.pyplot as plt\n",
        "import numpy as np\n",
        "import time\n",
        "import os\n",
        "from torch.utils.data import DataLoader, Dataset\n",
        "from torchvision.datasets import ImageFolder\n",
        "from sklearn.metrics import accuracy_score, precision_score, recall_score, f1_score\n",
        "from tqdm import tqdm\n",
        "from PIL import Image"
      ],
      "metadata": {
        "id": "8PujdC_ZSv7J"
      },
      "execution_count": null,
      "outputs": []
    },
    {
      "cell_type": "code",
      "source": [
        "# Check if CUDA (GPU support) is available\n",
        "if torch.cuda.is_available():\n",
        "    # Get the number of available GPUs\n",
        "    num_gpus = torch.cuda.device_count()\n",
        "    print(f\"Number of GPUs available: {num_gpus}\")\n",
        "\n",
        "    # Get the name of the current GPU\n",
        "    gpu_name = torch.cuda.get_device_name(torch.cuda.current_device())\n",
        "    print(f\"Current GPU: {gpu_name}\")\n",
        "\n",
        "    # Get GPU device properties\n",
        "    device = torch.device('cuda')\n",
        "    print(f\"Device type: {device.type}\")\n",
        "else:\n",
        "    print(\"CUDA is not available. PyTorch will run on the CPU.\")"
      ],
      "metadata": {
        "colab": {
          "base_uri": "https://localhost:8080/"
        },
        "id": "VB_vXA04TOyn",
        "outputId": "ed825f49-77fa-4d96-b0cd-82ba14e9e925"
      },
      "execution_count": null,
      "outputs": [
        {
          "output_type": "stream",
          "name": "stdout",
          "text": [
            "Number of GPUs available: 1\n",
            "Current GPU: Tesla T4\n",
            "Device type: cuda\n"
          ]
        }
      ]
    },
    {
      "cell_type": "code",
      "source": [
        "# Standard image size for CNNs\n",
        "image_size = 224\n",
        "\n",
        "# Custom dataset class to handle corrupt images\n",
        "class CustomImageFolder(ImageFolder):\n",
        "    def __getitem__(self, index):\n",
        "        try:\n",
        "            return super().__getitem__(index)\n",
        "        except Exception as e:\n",
        "            print(f\"Skipping corrupted image: {self.imgs[index][0]} - {e}\")\n",
        "            return self.__getitem__((index + 1) % len(self.imgs))  # Get next valid image\n",
        "\n",
        "# Optimized Transformations (SAME FOR ALL MODELS)\n",
        "train_transforms = transforms.Compose([\n",
        "    transforms.Resize((image_size, image_size)),\n",
        "    transforms.Lambda(lambda img: img.convert('RGB')),  # Ensures all images are RGB\n",
        "    transforms.RandomHorizontalFlip(p=0.5),  # Flip 50% of the time\n",
        "    transforms.RandomRotation(10),  # Rotate within ±10 degrees\n",
        "    transforms.RandomResizedCrop(image_size, scale=(0.8, 1.0)),  # Random cropping\n",
        "    transforms.ColorJitter(brightness=0.1, contrast=0.1, saturation=0.1, hue=0.05),  # Color variation\n",
        "    transforms.ToTensor(),\n",
        "    transforms.Normalize([0.485, 0.456, 0.406], [0.229, 0.224, 0.225])  # Standard normalization\n",
        "])\n",
        "\n",
        "val_transforms = transforms.Compose([\n",
        "    transforms.Resize((image_size, image_size)),\n",
        "    transforms.Lambda(lambda img: img.convert('RGB')),\n",
        "    transforms.ToTensor(),\n",
        "    transforms.Normalize([0.485, 0.456, 0.406], [0.229, 0.224, 0.225])\n",
        "])\n",
        "\n",
        "# Paths\n",
        "dataset_path = \"/content/drive/MyDrive/Waste Classification using Transfer Learning/Dataset\"\n",
        "validation_path = \"/content/drive/MyDrive/Waste Classification using Transfer Learning/Data Validation\"\n",
        "\n",
        "# Hyperparameters (Optimized for Performance)\n",
        "batch_size = 32  # Changed from 64 to 32\n",
        "num_workers = 4  # Parallel data loading\n",
        "\n",
        "# Load dataset with corrupt image handling\n",
        "train_dataset = CustomImageFolder(root=dataset_path, transform=train_transforms)\n",
        "val_dataset = CustomImageFolder(root=validation_path, transform=val_transforms)\n",
        "\n",
        "train_loader = DataLoader(train_dataset, batch_size=batch_size, shuffle=True, num_workers=num_workers)\n",
        "val_loader = DataLoader(val_dataset, batch_size=batch_size, shuffle=False, num_workers=num_workers)\n",
        "\n",
        "# Print class names to verify\n",
        "print(\"Classes:\", train_dataset.classes)\n",
        "\n",
        "# Function to check for corrupt images before training\n",
        "def check_corrupt_images(dataset_path):\n",
        "    print(\"Checking dataset for corrupt images...\")\n",
        "    for folder in os.listdir(dataset_path):\n",
        "        folder_path = os.path.join(dataset_path, folder)\n",
        "        if os.path.isdir(folder_path):\n",
        "            for file in os.listdir(folder_path):\n",
        "                file_path = os.path.join(folder_path, file)\n",
        "                try:\n",
        "                    with Image.open(file_path) as img:\n",
        "                        img.verify()  # Verify image integrity\n",
        "                except:\n",
        "                    print(f\"Corrupt or non-image file found: {file_path}\")\n",
        "\n",
        "# Run dataset check\n",
        "check_corrupt_images(dataset_path)\n",
        "check_corrupt_images(validation_path)\n",
        "\n",
        "print(\"Dataset loaded successfully!\")"
      ],
      "metadata": {
        "colab": {
          "base_uri": "https://localhost:8080/"
        },
        "id": "3TKp-8q4UN4Y",
        "outputId": "8e8fadb4-ef02-4a96-831e-26bb7efc8eb8"
      },
      "execution_count": null,
      "outputs": [
        {
          "output_type": "stream",
          "name": "stderr",
          "text": [
            "/usr/local/lib/python3.11/dist-packages/torch/utils/data/dataloader.py:624: UserWarning: This DataLoader will create 4 worker processes in total. Our suggested max number of worker in current system is 2, which is smaller than what this DataLoader is going to create. Please be aware that excessive worker creation might get DataLoader running slow or even freeze, lower the worker number to avoid potential slowness/freeze if necessary.\n",
            "  warnings.warn(\n"
          ]
        },
        {
          "output_type": "stream",
          "name": "stdout",
          "text": [
            "Classes: ['cardboard', 'e-waste', 'glass', 'medical', 'metal', 'paper', 'plastic']\n",
            "Checking dataset for corrupt images...\n",
            "Corrupt or non-image file found: /content/drive/MyDrive/Waste Classification using Transfer Learning/Dataset/paper/paper 2273.jpg\n",
            "Corrupt or non-image file found: /content/drive/MyDrive/Waste Classification using Transfer Learning/Dataset/cardboard/cardboard 1075.jpg\n",
            "Corrupt or non-image file found: /content/drive/MyDrive/Waste Classification using Transfer Learning/Dataset/e-waste/e-waste 1719.jpg\n",
            "Checking dataset for corrupt images...\n",
            "Dataset loaded successfully!\n"
          ]
        }
      ]
    },
    {
      "cell_type": "code",
      "source": [
        "def train_model(model, model_name, criterion, optimizer, train_loader, val_loader, device, num_epochs=25, patience=5, scheduler=None):\n",
        "    train_losses, val_losses, train_accs, val_accs = [], [], [], []\n",
        "    best_val_acc = 0  # Track best validation accuracy\n",
        "    best_val_loss = float('inf')  # Track best validation loss\n",
        "    patience_counter = 0\n",
        "\n",
        "    # Create directory for saving models\n",
        "    save_dir = os.path.join(\"/content/drive/MyDrive/Waste Classification using Transfer Learning/Saved Models\", model_name)\n",
        "    os.makedirs(save_dir, exist_ok=True)\n",
        "\n",
        "    print(\"Starting training...\")\n",
        "\n",
        "    for epoch in range(1, num_epochs + 1):\n",
        "        print(f\"\\nEpoch {epoch}/{num_epochs} started...\")\n",
        "        model.train()\n",
        "        running_loss, correct, total = 0.0, 0, 0\n",
        "\n",
        "        for batch_idx, (inputs, labels) in enumerate(train_loader):\n",
        "            inputs, labels = inputs.to(device), labels.to(device)\n",
        "            optimizer.zero_grad()\n",
        "\n",
        "            outputs = model(inputs)\n",
        "            loss = criterion(outputs, labels)\n",
        "            loss.backward()\n",
        "            optimizer.step()\n",
        "\n",
        "            running_loss += loss.item()\n",
        "            _, predicted = torch.max(outputs, 1)\n",
        "            total += labels.size(0)\n",
        "            correct += (predicted == labels).sum().item()\n",
        "\n",
        "            if batch_idx % 10 == 0:\n",
        "                print(f\"Batch {batch_idx}/{len(train_loader)}: Loss = {loss.item():.4f}\")\n",
        "\n",
        "        train_loss = running_loss / len(train_loader)\n",
        "        train_acc = (correct / total) * 100\n",
        "\n",
        "        print(\"Training phase completed. Starting validation...\")\n",
        "\n",
        "        # Validation Phase\n",
        "        model.eval()\n",
        "        val_loss, val_correct, val_total = 0.0, 0, 0\n",
        "        all_preds, all_labels = [], []\n",
        "\n",
        "        with torch.no_grad():\n",
        "            for batch_idx, (inputs, labels) in enumerate(val_loader):\n",
        "                inputs, labels = inputs.to(device), labels.to(device)\n",
        "                outputs = model(inputs)\n",
        "                loss = criterion(outputs, labels)\n",
        "\n",
        "                val_loss += loss.item()\n",
        "                _, predicted = torch.max(outputs, 1)\n",
        "                val_total += labels.size(0)\n",
        "                val_correct += (predicted == labels).sum().item()\n",
        "\n",
        "                all_preds.extend(predicted.cpu().numpy())\n",
        "                all_labels.extend(labels.cpu().numpy())\n",
        "\n",
        "        val_loss /= len(val_loader)\n",
        "        val_acc = (val_correct / val_total) * 100\n",
        "\n",
        "        # Compute Precision, Recall, and F1-score\n",
        "        precision = precision_score(all_labels, all_preds, average='macro') * 100\n",
        "        recall = recall_score(all_labels, all_preds, average='macro') * 100\n",
        "        f1 = f1_score(all_labels, all_preds, average='macro') * 100\n",
        "\n",
        "        # Store metrics\n",
        "        train_losses.append(train_loss)\n",
        "        val_losses.append(val_loss)\n",
        "        train_accs.append(train_acc)\n",
        "        val_accs.append(val_acc)\n",
        "\n",
        "        # Print Metrics for Each Epoch\n",
        "        print(f\"Epoch [{epoch}/{num_epochs}] completed.\")\n",
        "        print(f\"Train Loss: {train_loss:.4f} | Train Acc: {train_acc:.2f}%\")\n",
        "        print(f\"Val Loss: {val_loss:.4f} | Val Acc: {val_acc:.2f}%\")\n",
        "        print(f\"Precision: {precision:.2f}% | Recall: {recall:.2f}% | F1-score: {f1:.2f}%\")\n",
        "\n",
        "        # Save checkpoint every 5 epochs\n",
        "        if epoch % 5 == 0:\n",
        "            checkpoint_path = os.path.join(save_dir, f'checkpoint_epoch_{epoch}.pth')\n",
        "            checkpoint = {\n",
        "                'epoch': epoch,\n",
        "                'model_state_dict': model.state_dict(),\n",
        "                'optimizer_state_dict': optimizer.state_dict(),\n",
        "                'train_loss': train_loss,\n",
        "                'val_loss': val_loss,\n",
        "                'val_acc': val_acc\n",
        "            }\n",
        "            torch.save(checkpoint, checkpoint_path)\n",
        "            print(f\"Checkpoint saved at {checkpoint_path}!\")\n",
        "\n",
        "        # Save best model (based on validation accuracy or loss)\n",
        "        if val_loss < best_val_loss or val_acc > best_val_acc:\n",
        "            best_val_loss = min(best_val_loss, val_loss)\n",
        "            best_val_acc = max(best_val_acc, val_acc)\n",
        "            patience_counter = 0  # Reset patience counter\n",
        "\n",
        "            best_model_path = os.path.join(save_dir, 'Model_ResNet50.pth')\n",
        "            torch.save({\n",
        "                'epoch': epoch,\n",
        "                'model_state_dict': model.state_dict(),\n",
        "                'optimizer_state_dict': optimizer.state_dict(),\n",
        "                'train_loss': train_loss,\n",
        "                'val_loss': val_loss,\n",
        "                'val_acc': val_acc\n",
        "            }, best_model_path)\n",
        "\n",
        "            print(f\"New best model saved at {best_model_path}!\")\n",
        "        else:\n",
        "            patience_counter += 1  # Increment counter if no improvement\n",
        "\n",
        "        # Early Stopping Condition\n",
        "        if patience_counter >= patience:\n",
        "            print(f\"Early stopping at epoch {epoch} due to no improvement in validation loss or accuracy.\")\n",
        "            break\n",
        "\n",
        "    print(\"Training complete!\")\n",
        "    return train_losses, val_losses, train_accs, val_accs"
      ],
      "metadata": {
        "id": "qtg9Ou58UVGs"
      },
      "execution_count": null,
      "outputs": []
    },
    {
      "cell_type": "code",
      "source": [
        "import torch\n",
        "import torch.nn as nn\n",
        "import torch.optim as optim\n",
        "from torchvision.models import (\n",
        "    resnet50, ResNet50_Weights,\n",
        "    resnet34, ResNet34_Weights,\n",
        "    efficientnet_b0, EfficientNet_B0_Weights,\n",
        "    efficientnet_b3, EfficientNet_B3_Weights,\n",
        "    vgg16, VGG16_Weights,\n",
        "    densenet121, DenseNet121_Weights,\n",
        "    mobilenet_v2, MobileNet_V2_Weights,\n",
        "    inception_v3, Inception_V3_Weights\n",
        ")\n",
        "\n",
        "# Set device\n",
        "device = torch.device(\"cuda\" if torch.cuda.is_available() else \"cpu\")\n",
        "\n",
        "# Select the model\n",
        "selected_model_name = \"ResNet-50\"  # Change this to train other models\n",
        "\n",
        "# Define models\n",
        "models_list = {\n",
        "    \"ResNet-50\": resnet50(weights=ResNet50_Weights.IMAGENET1K_V1),\n",
        "    \"ResNet-34\": resnet34(weights=ResNet34_Weights.IMAGENET1K_V1),\n",
        "    \"EfficientNet-B0\": efficientnet_b0(weights=EfficientNet_B0_Weights.IMAGENET1K_V1),\n",
        "    \"EfficientNet-B3\": efficientnet_b3(weights=EfficientNet_B3_Weights.IMAGENET1K_V1),\n",
        "    \"VGG16\": vgg16(weights=VGG16_Weights.IMAGENET1K_V1),\n",
        "    \"DenseNet-121\": densenet121(weights=DenseNet121_Weights.IMAGENET1K_V1),\n",
        "    \"MobileNet-V2\": mobilenet_v2(weights=MobileNet_V2_Weights.IMAGENET1K_V1),\n",
        "    \"Inception-V3\": inception_v3(weights=Inception_V3_Weights.IMAGENET1K_V1)\n",
        "}\n",
        "\n",
        "# Get the selected model\n",
        "model = models_list[selected_model_name]\n",
        "print(f\"\\nTraining {selected_model_name}...\\n\")\n",
        "\n",
        "# Adjust the final layer for 7 classes based on the model type\n",
        "if \"resnet\" in selected_model_name.lower():\n",
        "    num_features = model.fc.in_features\n",
        "    model.fc = nn.Linear(num_features, 7)\n",
        "elif \"efficientnet\" in selected_model_name.lower():\n",
        "    num_features = model.classifier[1].in_features if hasattr(model.classifier, \"__getitem__\") else model.classifier.in_features\n",
        "    model.classifier = nn.Linear(num_features, 7)\n",
        "elif \"densenet\" in selected_model_name.lower():\n",
        "    num_features = model.classifier.in_features\n",
        "    model.classifier = nn.Linear(num_features, 7)\n",
        "elif \"vgg\" in selected_model_name.lower():\n",
        "    num_features = model.classifier[6].in_features\n",
        "    model.classifier[6] = nn.Linear(num_features, 7)\n",
        "elif \"mobilenet\" in selected_model_name.lower():\n",
        "    num_features = model.classifier[1].in_features if hasattr(model.classifier, \"__getitem__\") else model.classifier.in_features\n",
        "    model.classifier = nn.Linear(num_features, 7)\n",
        "elif \"inception\" in selected_model_name.lower():\n",
        "    num_features = model.fc.in_features\n",
        "    model.fc = nn.Linear(num_features, 7)\n",
        "    if model.aux_logits:  # Inception has an auxiliary classifier\n",
        "        num_features_aux = model.AuxLogits.fc.in_features\n",
        "        model.AuxLogits.fc = nn.Linear(num_features_aux, 7)\n",
        "\n",
        "# Move model to the device (CPU/GPU)\n",
        "model = model.to(device)\n",
        "model.train()  # Ensure the model is in training mode\n",
        "\n",
        "# Define Loss Function and Optimizer\n",
        "criterion = nn.CrossEntropyLoss()\n",
        "optimizer = optim.Adam(model.parameters(), lr=0.0001, weight_decay=1e-4)\n",
        "\n",
        "# Learning rate scheduler\n",
        "scheduler = optim.lr_scheduler.ReduceLROnPlateau(optimizer, mode='min', factor=0.1, patience=3, verbose=True)\n",
        "\n",
        "# Train the model\n",
        "train_losses, val_losses, train_accs, val_accs = train_model(\n",
        "    model=model,\n",
        "    model_name=selected_model_name,\n",
        "    criterion=criterion,\n",
        "    optimizer=optimizer,\n",
        "    train_loader=train_loader,\n",
        "    val_loader=val_loader,\n",
        "    device=device,\n",
        "    num_epochs=25,\n",
        "    patience=5,\n",
        "    scheduler=scheduler\n",
        ")"
      ],
      "metadata": {
        "colab": {
          "base_uri": "https://localhost:8080/"
        },
        "id": "ZBiHdRnAVDlU",
        "outputId": "312cc2f2-8e7f-4bd5-a080-d35f371d0f1c"
      },
      "execution_count": null,
      "outputs": [
        {
          "output_type": "stream",
          "name": "stdout",
          "text": [
            "\n",
            "Training ResNet-50...\n",
            "\n",
            "Starting training...\n",
            "\n",
            "Epoch 1/25 started...\n"
          ]
        },
        {
          "output_type": "stream",
          "name": "stderr",
          "text": [
            "/usr/local/lib/python3.11/dist-packages/torch/optim/lr_scheduler.py:62: UserWarning: The verbose parameter is deprecated. Please use get_last_lr() to access the learning rate.\n",
            "  warnings.warn(\n",
            "/usr/local/lib/python3.11/dist-packages/PIL/Image.py:1045: UserWarning: Palette images with Transparency expressed in bytes should be converted to RGBA images\n",
            "  warnings.warn(\n"
          ]
        },
        {
          "output_type": "stream",
          "name": "stdout",
          "text": [
            "Batch 0/455: Loss = 1.9728\n",
            "Batch 10/455: Loss = 1.5576\n",
            "Batch 20/455: Loss = 1.2632\n",
            "Batch 30/455: Loss = 1.0188\n"
          ]
        },
        {
          "output_type": "stream",
          "name": "stderr",
          "text": [
            "/usr/local/lib/python3.11/dist-packages/PIL/Image.py:1045: UserWarning: Palette images with Transparency expressed in bytes should be converted to RGBA images\n",
            "  warnings.warn(\n",
            "/usr/local/lib/python3.11/dist-packages/PIL/Image.py:1045: UserWarning: Palette images with Transparency expressed in bytes should be converted to RGBA images\n",
            "  warnings.warn(\n"
          ]
        },
        {
          "output_type": "stream",
          "name": "stdout",
          "text": [
            "Batch 40/455: Loss = 0.5478\n",
            "Batch 50/455: Loss = 0.7633\n",
            "Batch 60/455: Loss = 0.9456\n",
            "Batch 70/455: Loss = 0.7761\n",
            "Batch 80/455: Loss = 1.0692\n"
          ]
        },
        {
          "output_type": "stream",
          "name": "stderr",
          "text": [
            "/usr/local/lib/python3.11/dist-packages/PIL/Image.py:1045: UserWarning: Palette images with Transparency expressed in bytes should be converted to RGBA images\n",
            "  warnings.warn(\n"
          ]
        },
        {
          "output_type": "stream",
          "name": "stdout",
          "text": [
            "Batch 90/455: Loss = 0.4223\n",
            "Batch 100/455: Loss = 0.7422\n",
            "Batch 110/455: Loss = 0.7799\n",
            "Batch 120/455: Loss = 0.5919\n",
            "Batch 130/455: Loss = 0.7279\n",
            "Batch 140/455: Loss = 0.9883\n",
            "Batch 150/455: Loss = 0.6713\n",
            "Skipping corrupted image: /content/drive/MyDrive/Waste Classification using Transfer Learning/Dataset/cardboard/cardboard 1075.jpg - cannot identify image file <_io.BufferedReader name='/content/drive/MyDrive/Waste Classification using Transfer Learning/Dataset/cardboard/cardboard 1075.jpg'>\n",
            "Batch 160/455: Loss = 0.3607\n",
            "Batch 170/455: Loss = 0.8006\n",
            "Batch 180/455: Loss = 0.8015\n",
            "Batch 190/455: Loss = 0.8612\n",
            "Batch 200/455: Loss = 0.8674\n",
            "Batch 210/455: Loss = 0.2621\n",
            "Batch 220/455: Loss = 0.4090\n",
            "Batch 230/455: Loss = 0.5663\n",
            "Batch 240/455: Loss = 0.5556\n",
            "Batch 250/455: Loss = 0.4487\n",
            "Batch 260/455: Loss = 0.5624\n",
            "Batch 270/455: Loss = 0.2902\n",
            "Batch 280/455: Loss = 0.4561\n",
            "Batch 290/455: Loss = 0.2119\n",
            "Skipping corrupted image: /content/drive/MyDrive/Waste Classification using Transfer Learning/Dataset/e-waste/e-waste 1719.jpg - cannot identify image file <_io.BufferedReader name='/content/drive/MyDrive/Waste Classification using Transfer Learning/Dataset/e-waste/e-waste 1719.jpg'>\n",
            "Batch 300/455: Loss = 0.3486\n",
            "Batch 310/455: Loss = 0.5417\n",
            "Batch 320/455: Loss = 0.2942\n",
            "Batch 330/455: Loss = 0.5912\n",
            "Batch 340/455: Loss = 1.0885\n",
            "Batch 350/455: Loss = 0.6062\n",
            "Batch 360/455: Loss = 0.5122\n",
            "Batch 370/455: Loss = 0.4418\n",
            "Batch 380/455: Loss = 0.8054\n",
            "Batch 390/455: Loss = 0.4856\n",
            "Skipping corrupted image: /content/drive/MyDrive/Waste Classification using Transfer Learning/Dataset/paper/paper 2273.jpg - cannot identify image file <_io.BufferedReader name='/content/drive/MyDrive/Waste Classification using Transfer Learning/Dataset/paper/paper 2273.jpg'>\n",
            "Batch 400/455: Loss = 0.5090\n",
            "Batch 410/455: Loss = 0.7010\n",
            "Batch 420/455: Loss = 0.5296\n",
            "Batch 430/455: Loss = 0.2460\n",
            "Batch 440/455: Loss = 0.7917\n",
            "Batch 450/455: Loss = 0.6145\n",
            "Training phase completed. Starting validation...\n"
          ]
        },
        {
          "output_type": "stream",
          "name": "stderr",
          "text": [
            "/usr/local/lib/python3.11/dist-packages/PIL/Image.py:1045: UserWarning: Palette images with Transparency expressed in bytes should be converted to RGBA images\n",
            "  warnings.warn(\n",
            "/usr/local/lib/python3.11/dist-packages/PIL/Image.py:1045: UserWarning: Palette images with Transparency expressed in bytes should be converted to RGBA images\n",
            "  warnings.warn(\n"
          ]
        },
        {
          "output_type": "stream",
          "name": "stdout",
          "text": [
            "Epoch [1/25] completed.\n",
            "Train Loss: 0.6268 | Train Acc: 78.80%\n",
            "Val Loss: 0.4000 | Val Acc: 86.63%\n",
            "Precision: 87.05% | Recall: 86.61% | F1-score: 86.62%\n",
            "New best model saved at /content/drive/MyDrive/Waste Classification using Transfer Learning/Saved Models/ResNet-50/Model_ResNet50.pth!\n",
            "\n",
            "Epoch 2/25 started...\n"
          ]
        },
        {
          "output_type": "stream",
          "name": "stderr",
          "text": [
            "/usr/local/lib/python3.11/dist-packages/torch/utils/data/dataloader.py:624: UserWarning: This DataLoader will create 4 worker processes in total. Our suggested max number of worker in current system is 2, which is smaller than what this DataLoader is going to create. Please be aware that excessive worker creation might get DataLoader running slow or even freeze, lower the worker number to avoid potential slowness/freeze if necessary.\n",
            "  warnings.warn(\n",
            "/usr/local/lib/python3.11/dist-packages/PIL/Image.py:1045: UserWarning: Palette images with Transparency expressed in bytes should be converted to RGBA images\n",
            "  warnings.warn(\n",
            "/usr/local/lib/python3.11/dist-packages/PIL/Image.py:1045: UserWarning: Palette images with Transparency expressed in bytes should be converted to RGBA images\n",
            "  warnings.warn(\n"
          ]
        },
        {
          "output_type": "stream",
          "name": "stdout",
          "text": [
            "Batch 0/455: Loss = 0.3732\n"
          ]
        },
        {
          "output_type": "stream",
          "name": "stderr",
          "text": [
            "/usr/local/lib/python3.11/dist-packages/PIL/Image.py:1045: UserWarning: Palette images with Transparency expressed in bytes should be converted to RGBA images\n",
            "  warnings.warn(\n"
          ]
        },
        {
          "output_type": "stream",
          "name": "stdout",
          "text": [
            "Batch 10/455: Loss = 0.4754\n",
            "Batch 20/455: Loss = 0.2949\n"
          ]
        },
        {
          "output_type": "stream",
          "name": "stderr",
          "text": [
            "/usr/local/lib/python3.11/dist-packages/PIL/Image.py:1045: UserWarning: Palette images with Transparency expressed in bytes should be converted to RGBA images\n",
            "  warnings.warn(\n"
          ]
        },
        {
          "output_type": "stream",
          "name": "stdout",
          "text": [
            "Batch 30/455: Loss = 0.2961\n",
            "Batch 40/455: Loss = 0.2934\n",
            "Batch 50/455: Loss = 0.5006\n",
            "Skipping corrupted image: /content/drive/MyDrive/Waste Classification using Transfer Learning/Dataset/paper/paper 2273.jpg - cannot identify image file <_io.BufferedReader name='/content/drive/MyDrive/Waste Classification using Transfer Learning/Dataset/paper/paper 2273.jpg'>\n",
            "Batch 60/455: Loss = 0.1892\n",
            "Batch 70/455: Loss = 0.3654\n",
            "Batch 80/455: Loss = 0.3156\n",
            "Batch 90/455: Loss = 0.3587\n",
            "Batch 100/455: Loss = 0.5411\n",
            "Batch 110/455: Loss = 0.2810\n",
            "Batch 120/455: Loss = 0.4922\n",
            "Batch 130/455: Loss = 0.2166\n",
            "Batch 140/455: Loss = 0.6485\n",
            "Batch 150/455: Loss = 0.4563\n",
            "Batch 160/455: Loss = 0.4403\n",
            "Batch 170/455: Loss = 0.4037\n",
            "Batch 180/455: Loss = 0.4326\n",
            "Batch 190/455: Loss = 0.1706\n",
            "Batch 200/455: Loss = 0.1624\n",
            "Batch 210/455: Loss = 0.1272\n",
            "Batch 220/455: Loss = 0.8004\n",
            "Batch 230/455: Loss = 0.3526\n",
            "Batch 240/455: Loss = 0.6188\n",
            "Batch 250/455: Loss = 0.2382\n",
            "Batch 260/455: Loss = 0.2464\n",
            "Batch 270/455: Loss = 0.4402\n",
            "Batch 280/455: Loss = 0.2619\n",
            "Batch 290/455: Loss = 0.2593\n",
            "Batch 300/455: Loss = 0.5798\n",
            "Batch 310/455: Loss = 0.2994\n",
            "Batch 320/455: Loss = 0.4374\n",
            "Skipping corrupted image: /content/drive/MyDrive/Waste Classification using Transfer Learning/Dataset/e-waste/e-waste 1719.jpg - cannot identify image file <_io.BufferedReader name='/content/drive/MyDrive/Waste Classification using Transfer Learning/Dataset/e-waste/e-waste 1719.jpg'>\n",
            "Batch 330/455: Loss = 0.2278\n",
            "Skipping corrupted image: /content/drive/MyDrive/Waste Classification using Transfer Learning/Dataset/cardboard/cardboard 1075.jpg - cannot identify image file <_io.BufferedReader name='/content/drive/MyDrive/Waste Classification using Transfer Learning/Dataset/cardboard/cardboard 1075.jpg'>\n",
            "Batch 340/455: Loss = 0.1966\n",
            "Batch 350/455: Loss = 0.4370\n",
            "Batch 360/455: Loss = 0.5748\n",
            "Batch 370/455: Loss = 0.3633\n",
            "Batch 380/455: Loss = 0.4642\n",
            "Batch 390/455: Loss = 0.8445\n",
            "Batch 400/455: Loss = 0.5785\n",
            "Batch 410/455: Loss = 0.1617\n",
            "Batch 420/455: Loss = 0.4551\n",
            "Batch 430/455: Loss = 0.3458\n",
            "Batch 440/455: Loss = 0.6835\n",
            "Batch 450/455: Loss = 0.2864\n",
            "Training phase completed. Starting validation...\n"
          ]
        },
        {
          "output_type": "stream",
          "name": "stderr",
          "text": [
            "/usr/local/lib/python3.11/dist-packages/PIL/Image.py:1045: UserWarning: Palette images with Transparency expressed in bytes should be converted to RGBA images\n",
            "  warnings.warn(\n",
            "/usr/local/lib/python3.11/dist-packages/PIL/Image.py:1045: UserWarning: Palette images with Transparency expressed in bytes should be converted to RGBA images\n",
            "  warnings.warn(\n"
          ]
        },
        {
          "output_type": "stream",
          "name": "stdout",
          "text": [
            "Epoch [2/25] completed.\n",
            "Train Loss: 0.3683 | Train Acc: 87.97%\n",
            "Val Loss: 0.3775 | Val Acc: 87.68%\n",
            "Precision: 87.50% | Recall: 87.80% | F1-score: 87.55%\n",
            "New best model saved at /content/drive/MyDrive/Waste Classification using Transfer Learning/Saved Models/ResNet-50/Model_ResNet50.pth!\n",
            "\n",
            "Epoch 3/25 started...\n"
          ]
        },
        {
          "output_type": "stream",
          "name": "stderr",
          "text": [
            "/usr/local/lib/python3.11/dist-packages/torch/utils/data/dataloader.py:624: UserWarning: This DataLoader will create 4 worker processes in total. Our suggested max number of worker in current system is 2, which is smaller than what this DataLoader is going to create. Please be aware that excessive worker creation might get DataLoader running slow or even freeze, lower the worker number to avoid potential slowness/freeze if necessary.\n",
            "  warnings.warn(\n"
          ]
        },
        {
          "output_type": "stream",
          "name": "stdout",
          "text": [
            "Batch 0/455: Loss = 0.1870\n",
            "Batch 10/455: Loss = 0.4827\n",
            "Batch 20/455: Loss = 0.2735\n",
            "Batch 30/455: Loss = 0.2556\n"
          ]
        },
        {
          "output_type": "stream",
          "name": "stderr",
          "text": [
            "/usr/local/lib/python3.11/dist-packages/PIL/Image.py:1045: UserWarning: Palette images with Transparency expressed in bytes should be converted to RGBA images\n",
            "  warnings.warn(\n"
          ]
        },
        {
          "output_type": "stream",
          "name": "stdout",
          "text": [
            "Batch 40/455: Loss = 0.2458\n"
          ]
        },
        {
          "output_type": "stream",
          "name": "stderr",
          "text": [
            "/usr/local/lib/python3.11/dist-packages/PIL/Image.py:1045: UserWarning: Palette images with Transparency expressed in bytes should be converted to RGBA images\n",
            "  warnings.warn(\n"
          ]
        },
        {
          "output_type": "stream",
          "name": "stdout",
          "text": [
            "Batch 50/455: Loss = 0.3719\n",
            "Batch 60/455: Loss = 0.1214\n"
          ]
        },
        {
          "output_type": "stream",
          "name": "stderr",
          "text": [
            "/usr/local/lib/python3.11/dist-packages/PIL/Image.py:1045: UserWarning: Palette images with Transparency expressed in bytes should be converted to RGBA images\n",
            "  warnings.warn(\n",
            "/usr/local/lib/python3.11/dist-packages/PIL/Image.py:1045: UserWarning: Palette images with Transparency expressed in bytes should be converted to RGBA images\n",
            "  warnings.warn(\n"
          ]
        },
        {
          "output_type": "stream",
          "name": "stdout",
          "text": [
            "Batch 70/455: Loss = 0.4031\n",
            "Batch 80/455: Loss = 0.4301\n",
            "Batch 90/455: Loss = 0.4361\n",
            "Batch 100/455: Loss = 0.1860\n",
            "Batch 110/455: Loss = 0.2489\n",
            "Batch 120/455: Loss = 0.0571\n",
            "Batch 130/455: Loss = 0.2702\n",
            "Batch 140/455: Loss = 0.2478\n",
            "Batch 150/455: Loss = 0.1298\n",
            "Skipping corrupted image: /content/drive/MyDrive/Waste Classification using Transfer Learning/Dataset/e-waste/e-waste 1719.jpg - cannot identify image file <_io.BufferedReader name='/content/drive/MyDrive/Waste Classification using Transfer Learning/Dataset/e-waste/e-waste 1719.jpg'>\n",
            "Batch 160/455: Loss = 0.5016\n",
            "Batch 170/455: Loss = 0.3398\n",
            "Batch 180/455: Loss = 0.1055\n",
            "Batch 190/455: Loss = 0.4933\n",
            "Batch 200/455: Loss = 0.1118\n",
            "Batch 210/455: Loss = 0.1875\n",
            "Batch 220/455: Loss = 0.1431\n",
            "Skipping corrupted image: /content/drive/MyDrive/Waste Classification using Transfer Learning/Dataset/cardboard/cardboard 1075.jpg - cannot identify image file <_io.BufferedReader name='/content/drive/MyDrive/Waste Classification using Transfer Learning/Dataset/cardboard/cardboard 1075.jpg'>\n",
            "Batch 230/455: Loss = 0.2435\n",
            "Batch 240/455: Loss = 0.1810\n",
            "Batch 250/455: Loss = 0.2981\n",
            "Batch 260/455: Loss = 0.1632\n",
            "Batch 270/455: Loss = 0.1971\n",
            "Batch 280/455: Loss = 0.1450\n",
            "Batch 290/455: Loss = 0.1339\n",
            "Batch 300/455: Loss = 0.0404\n",
            "Batch 310/455: Loss = 0.1819\n",
            "Batch 320/455: Loss = 0.2029\n",
            "Batch 330/455: Loss = 0.2859\n",
            "Batch 340/455: Loss = 0.1457\n",
            "Batch 350/455: Loss = 0.4957\n",
            "Batch 360/455: Loss = 0.0912\n",
            "Batch 370/455: Loss = 0.1017\n",
            "Batch 380/455: Loss = 0.3649\n",
            "Batch 390/455: Loss = 0.1280\n",
            "Batch 400/455: Loss = 0.2553\n",
            "Batch 410/455: Loss = 0.4696\n",
            "Batch 420/455: Loss = 0.2298\n",
            "Skipping corrupted image: /content/drive/MyDrive/Waste Classification using Transfer Learning/Dataset/paper/paper 2273.jpg - cannot identify image file <_io.BufferedReader name='/content/drive/MyDrive/Waste Classification using Transfer Learning/Dataset/paper/paper 2273.jpg'>\n",
            "Batch 430/455: Loss = 0.1934\n",
            "Batch 440/455: Loss = 0.1865\n",
            "Batch 450/455: Loss = 0.2617\n",
            "Training phase completed. Starting validation...\n"
          ]
        },
        {
          "output_type": "stream",
          "name": "stderr",
          "text": [
            "/usr/local/lib/python3.11/dist-packages/PIL/Image.py:1045: UserWarning: Palette images with Transparency expressed in bytes should be converted to RGBA images\n",
            "  warnings.warn(\n",
            "/usr/local/lib/python3.11/dist-packages/PIL/Image.py:1045: UserWarning: Palette images with Transparency expressed in bytes should be converted to RGBA images\n",
            "  warnings.warn(\n"
          ]
        },
        {
          "output_type": "stream",
          "name": "stdout",
          "text": [
            "Epoch [3/25] completed.\n",
            "Train Loss: 0.2799 | Train Acc: 90.52%\n",
            "Val Loss: 0.3584 | Val Acc: 89.22%\n",
            "Precision: 89.51% | Recall: 89.18% | F1-score: 89.28%\n",
            "New best model saved at /content/drive/MyDrive/Waste Classification using Transfer Learning/Saved Models/ResNet-50/Model_ResNet50.pth!\n",
            "\n",
            "Epoch 4/25 started...\n"
          ]
        },
        {
          "output_type": "stream",
          "name": "stderr",
          "text": [
            "/usr/local/lib/python3.11/dist-packages/torch/utils/data/dataloader.py:624: UserWarning: This DataLoader will create 4 worker processes in total. Our suggested max number of worker in current system is 2, which is smaller than what this DataLoader is going to create. Please be aware that excessive worker creation might get DataLoader running slow or even freeze, lower the worker number to avoid potential slowness/freeze if necessary.\n",
            "  warnings.warn(\n"
          ]
        },
        {
          "output_type": "stream",
          "name": "stdout",
          "text": [
            "Batch 0/455: Loss = 0.0752\n"
          ]
        },
        {
          "output_type": "stream",
          "name": "stderr",
          "text": [
            "/usr/local/lib/python3.11/dist-packages/PIL/Image.py:1045: UserWarning: Palette images with Transparency expressed in bytes should be converted to RGBA images\n",
            "  warnings.warn(\n"
          ]
        },
        {
          "output_type": "stream",
          "name": "stdout",
          "text": [
            "Batch 10/455: Loss = 0.1387\n",
            "Batch 20/455: Loss = 0.1423\n",
            "Batch 30/455: Loss = 0.1467\n",
            "Batch 40/455: Loss = 0.2248\n",
            "Batch 50/455: Loss = 0.1656\n",
            "Batch 60/455: Loss = 0.1824\n"
          ]
        },
        {
          "output_type": "stream",
          "name": "stderr",
          "text": [
            "/usr/local/lib/python3.11/dist-packages/PIL/Image.py:1045: UserWarning: Palette images with Transparency expressed in bytes should be converted to RGBA images\n",
            "  warnings.warn(\n"
          ]
        },
        {
          "output_type": "stream",
          "name": "stdout",
          "text": [
            "Batch 70/455: Loss = 0.0919\n",
            "Batch 80/455: Loss = 0.0967\n",
            "Batch 90/455: Loss = 0.2521\n",
            "Batch 100/455: Loss = 0.4966\n",
            "Batch 110/455: Loss = 0.1378\n",
            "Batch 120/455: Loss = 0.2194\n",
            "Batch 130/455: Loss = 0.2206\n",
            "Batch 140/455: Loss = 0.1058\n",
            "Batch 150/455: Loss = 0.2210\n",
            "Batch 160/455: Loss = 0.0524\n"
          ]
        },
        {
          "output_type": "stream",
          "name": "stderr",
          "text": [
            "/usr/local/lib/python3.11/dist-packages/PIL/Image.py:1045: UserWarning: Palette images with Transparency expressed in bytes should be converted to RGBA images\n",
            "  warnings.warn(\n"
          ]
        },
        {
          "output_type": "stream",
          "name": "stdout",
          "text": [
            "Batch 170/455: Loss = 0.1962\n",
            "Batch 180/455: Loss = 0.6237\n",
            "Batch 190/455: Loss = 0.8482\n",
            "Batch 200/455: Loss = 0.2873\n",
            "Batch 210/455: Loss = 0.2024\n",
            "Batch 220/455: Loss = 0.8109\n"
          ]
        },
        {
          "output_type": "stream",
          "name": "stderr",
          "text": [
            "/usr/local/lib/python3.11/dist-packages/PIL/Image.py:1045: UserWarning: Palette images with Transparency expressed in bytes should be converted to RGBA images\n",
            "  warnings.warn(\n"
          ]
        },
        {
          "output_type": "stream",
          "name": "stdout",
          "text": [
            "Batch 230/455: Loss = 0.3653\n",
            "Batch 240/455: Loss = 0.3672\n",
            "Batch 250/455: Loss = 0.2832\n",
            "Batch 260/455: Loss = 0.0428\n",
            "Batch 270/455: Loss = 0.2217\n",
            "Batch 280/455: Loss = 0.1656\n",
            "Batch 290/455: Loss = 0.1920\n",
            "Batch 300/455: Loss = 0.0540\n",
            "Batch 310/455: Loss = 0.1013\n",
            "Batch 320/455: Loss = 0.1277\n",
            "Skipping corrupted image: /content/drive/MyDrive/Waste Classification using Transfer Learning/Dataset/e-waste/e-waste 1719.jpg - cannot identify image file <_io.BufferedReader name='/content/drive/MyDrive/Waste Classification using Transfer Learning/Dataset/e-waste/e-waste 1719.jpg'>\n",
            "Batch 330/455: Loss = 0.1240\n",
            "Batch 340/455: Loss = 0.5098\n",
            "Skipping corrupted image: /content/drive/MyDrive/Waste Classification using Transfer Learning/Dataset/paper/paper 2273.jpg - cannot identify image file <_io.BufferedReader name='/content/drive/MyDrive/Waste Classification using Transfer Learning/Dataset/paper/paper 2273.jpg'>\n",
            "Batch 350/455: Loss = 0.3674\n",
            "Skipping corrupted image: /content/drive/MyDrive/Waste Classification using Transfer Learning/Dataset/cardboard/cardboard 1075.jpg - cannot identify image file <_io.BufferedReader name='/content/drive/MyDrive/Waste Classification using Transfer Learning/Dataset/cardboard/cardboard 1075.jpg'>\n",
            "Batch 360/455: Loss = 0.3239\n",
            "Batch 370/455: Loss = 0.1506\n",
            "Batch 380/455: Loss = 0.1091\n",
            "Batch 390/455: Loss = 0.1365\n",
            "Batch 400/455: Loss = 0.3259\n",
            "Batch 410/455: Loss = 0.4754\n",
            "Batch 420/455: Loss = 0.1035\n",
            "Batch 430/455: Loss = 0.3530\n",
            "Batch 440/455: Loss = 0.2540\n",
            "Batch 450/455: Loss = 0.3868\n",
            "Training phase completed. Starting validation...\n"
          ]
        },
        {
          "output_type": "stream",
          "name": "stderr",
          "text": [
            "/usr/local/lib/python3.11/dist-packages/PIL/Image.py:1045: UserWarning: Palette images with Transparency expressed in bytes should be converted to RGBA images\n",
            "  warnings.warn(\n",
            "/usr/local/lib/python3.11/dist-packages/PIL/Image.py:1045: UserWarning: Palette images with Transparency expressed in bytes should be converted to RGBA images\n",
            "  warnings.warn(\n"
          ]
        },
        {
          "output_type": "stream",
          "name": "stdout",
          "text": [
            "Epoch [4/25] completed.\n",
            "Train Loss: 0.2322 | Train Acc: 92.20%\n",
            "Val Loss: 0.3825 | Val Acc: 88.97%\n",
            "Precision: 89.51% | Recall: 88.54% | F1-score: 88.82%\n",
            "\n",
            "Epoch 5/25 started...\n"
          ]
        },
        {
          "output_type": "stream",
          "name": "stderr",
          "text": [
            "/usr/local/lib/python3.11/dist-packages/torch/utils/data/dataloader.py:624: UserWarning: This DataLoader will create 4 worker processes in total. Our suggested max number of worker in current system is 2, which is smaller than what this DataLoader is going to create. Please be aware that excessive worker creation might get DataLoader running slow or even freeze, lower the worker number to avoid potential slowness/freeze if necessary.\n",
            "  warnings.warn(\n",
            "/usr/local/lib/python3.11/dist-packages/PIL/Image.py:1045: UserWarning: Palette images with Transparency expressed in bytes should be converted to RGBA images\n",
            "  warnings.warn(\n"
          ]
        },
        {
          "output_type": "stream",
          "name": "stdout",
          "text": [
            "Batch 0/455: Loss = 0.1124\n",
            "Batch 10/455: Loss = 0.3058\n",
            "Batch 20/455: Loss = 0.0957\n"
          ]
        },
        {
          "output_type": "stream",
          "name": "stderr",
          "text": [
            "/usr/local/lib/python3.11/dist-packages/PIL/Image.py:1045: UserWarning: Palette images with Transparency expressed in bytes should be converted to RGBA images\n",
            "  warnings.warn(\n"
          ]
        },
        {
          "output_type": "stream",
          "name": "stdout",
          "text": [
            "Batch 30/455: Loss = 0.1346\n",
            "Batch 40/455: Loss = 0.0397\n",
            "Batch 50/455: Loss = 0.0461\n",
            "Skipping corrupted image: /content/drive/MyDrive/Waste Classification using Transfer Learning/Dataset/cardboard/cardboard 1075.jpg - cannot identify image file <_io.BufferedReader name='/content/drive/MyDrive/Waste Classification using Transfer Learning/Dataset/cardboard/cardboard 1075.jpg'>\n",
            "Batch 60/455: Loss = 0.2999\n",
            "Batch 70/455: Loss = 0.2902\n",
            "Batch 80/455: Loss = 0.1155\n",
            "Batch 90/455: Loss = 0.1730\n",
            "Batch 100/455: Loss = 0.0695\n",
            "Batch 110/455: Loss = 0.1575\n",
            "Batch 120/455: Loss = 0.0841\n",
            "Batch 130/455: Loss = 0.1055\n",
            "Batch 140/455: Loss = 0.0751\n",
            "Batch 150/455: Loss = 0.1895\n",
            "Batch 160/455: Loss = 0.1418\n"
          ]
        },
        {
          "output_type": "stream",
          "name": "stderr",
          "text": [
            "/usr/local/lib/python3.11/dist-packages/PIL/Image.py:1045: UserWarning: Palette images with Transparency expressed in bytes should be converted to RGBA images\n",
            "  warnings.warn(\n"
          ]
        },
        {
          "output_type": "stream",
          "name": "stdout",
          "text": [
            "Skipping corrupted image: /content/drive/MyDrive/Waste Classification using Transfer Learning/Dataset/paper/paper 2273.jpg - cannot identify image file <_io.BufferedReader name='/content/drive/MyDrive/Waste Classification using Transfer Learning/Dataset/paper/paper 2273.jpg'>\n",
            "Skipping corrupted image: /content/drive/MyDrive/Waste Classification using Transfer Learning/Dataset/e-waste/e-waste 1719.jpg - cannot identify image file <_io.BufferedReader name='/content/drive/MyDrive/Waste Classification using Transfer Learning/Dataset/e-waste/e-waste 1719.jpg'>\n",
            "Batch 170/455: Loss = 0.0574\n"
          ]
        },
        {
          "output_type": "stream",
          "name": "stderr",
          "text": [
            "/usr/local/lib/python3.11/dist-packages/PIL/Image.py:1045: UserWarning: Palette images with Transparency expressed in bytes should be converted to RGBA images\n",
            "  warnings.warn(\n"
          ]
        },
        {
          "output_type": "stream",
          "name": "stdout",
          "text": [
            "Batch 180/455: Loss = 0.1008\n",
            "Batch 190/455: Loss = 0.2846\n",
            "Batch 200/455: Loss = 0.1875\n",
            "Batch 210/455: Loss = 0.1133\n",
            "Batch 220/455: Loss = 0.0746\n",
            "Batch 230/455: Loss = 0.0463\n",
            "Batch 240/455: Loss = 0.1821\n",
            "Batch 250/455: Loss = 0.0474\n",
            "Batch 260/455: Loss = 0.1268\n",
            "Batch 270/455: Loss = 0.2180\n",
            "Batch 280/455: Loss = 0.4863\n",
            "Batch 290/455: Loss = 0.2871\n",
            "Batch 300/455: Loss = 0.2480\n",
            "Batch 310/455: Loss = 0.1413\n",
            "Batch 320/455: Loss = 0.2455\n",
            "Batch 330/455: Loss = 0.0802\n",
            "Batch 340/455: Loss = 0.1879\n",
            "Batch 350/455: Loss = 0.0538\n",
            "Batch 360/455: Loss = 0.4071\n",
            "Batch 370/455: Loss = 0.3078\n",
            "Batch 380/455: Loss = 0.0826\n",
            "Batch 390/455: Loss = 0.1495\n",
            "Batch 400/455: Loss = 0.3761\n",
            "Batch 410/455: Loss = 0.2196\n",
            "Batch 420/455: Loss = 0.1172\n",
            "Batch 430/455: Loss = 0.2382\n",
            "Batch 440/455: Loss = 0.4591\n",
            "Batch 450/455: Loss = 0.1694\n",
            "Training phase completed. Starting validation...\n"
          ]
        },
        {
          "output_type": "stream",
          "name": "stderr",
          "text": [
            "/usr/local/lib/python3.11/dist-packages/PIL/Image.py:1045: UserWarning: Palette images with Transparency expressed in bytes should be converted to RGBA images\n",
            "  warnings.warn(\n",
            "/usr/local/lib/python3.11/dist-packages/PIL/Image.py:1045: UserWarning: Palette images with Transparency expressed in bytes should be converted to RGBA images\n",
            "  warnings.warn(\n"
          ]
        },
        {
          "output_type": "stream",
          "name": "stdout",
          "text": [
            "Epoch [5/25] completed.\n",
            "Train Loss: 0.1942 | Train Acc: 93.53%\n",
            "Val Loss: 0.3559 | Val Acc: 89.71%\n",
            "Precision: 89.67% | Recall: 89.59% | F1-score: 89.54%\n",
            "Checkpoint saved at /content/drive/MyDrive/Waste Classification using Transfer Learning/Saved Models/ResNet-50/checkpoint_epoch_5.pth!\n",
            "New best model saved at /content/drive/MyDrive/Waste Classification using Transfer Learning/Saved Models/ResNet-50/Model_ResNet50.pth!\n",
            "\n",
            "Epoch 6/25 started...\n"
          ]
        },
        {
          "output_type": "stream",
          "name": "stderr",
          "text": [
            "/usr/local/lib/python3.11/dist-packages/torch/utils/data/dataloader.py:624: UserWarning: This DataLoader will create 4 worker processes in total. Our suggested max number of worker in current system is 2, which is smaller than what this DataLoader is going to create. Please be aware that excessive worker creation might get DataLoader running slow or even freeze, lower the worker number to avoid potential slowness/freeze if necessary.\n",
            "  warnings.warn(\n",
            "/usr/local/lib/python3.11/dist-packages/PIL/Image.py:1045: UserWarning: Palette images with Transparency expressed in bytes should be converted to RGBA images\n",
            "  warnings.warn(\n"
          ]
        },
        {
          "output_type": "stream",
          "name": "stdout",
          "text": [
            "Batch 0/455: Loss = 0.2688\n"
          ]
        },
        {
          "output_type": "stream",
          "name": "stderr",
          "text": [
            "/usr/local/lib/python3.11/dist-packages/PIL/Image.py:1045: UserWarning: Palette images with Transparency expressed in bytes should be converted to RGBA images\n",
            "  warnings.warn(\n"
          ]
        },
        {
          "output_type": "stream",
          "name": "stdout",
          "text": [
            "Batch 10/455: Loss = 0.0833\n",
            "Batch 20/455: Loss = 0.1523\n"
          ]
        },
        {
          "output_type": "stream",
          "name": "stderr",
          "text": [
            "/usr/local/lib/python3.11/dist-packages/PIL/Image.py:1045: UserWarning: Palette images with Transparency expressed in bytes should be converted to RGBA images\n",
            "  warnings.warn(\n"
          ]
        },
        {
          "output_type": "stream",
          "name": "stdout",
          "text": [
            "Batch 30/455: Loss = 0.0718\n",
            "Batch 40/455: Loss = 0.1841\n",
            "Batch 50/455: Loss = 0.0812\n",
            "Skipping corrupted image: /content/drive/MyDrive/Waste Classification using Transfer Learning/Dataset/paper/paper 2273.jpg - cannot identify image file <_io.BufferedReader name='/content/drive/MyDrive/Waste Classification using Transfer Learning/Dataset/paper/paper 2273.jpg'>\n",
            "Batch 60/455: Loss = 0.0917\n",
            "Batch 70/455: Loss = 0.0794\n",
            "Batch 80/455: Loss = 0.0659\n"
          ]
        },
        {
          "output_type": "stream",
          "name": "stderr",
          "text": [
            "/usr/local/lib/python3.11/dist-packages/PIL/Image.py:1045: UserWarning: Palette images with Transparency expressed in bytes should be converted to RGBA images\n",
            "  warnings.warn(\n"
          ]
        },
        {
          "output_type": "stream",
          "name": "stdout",
          "text": [
            "Batch 90/455: Loss = 0.1151\n",
            "Batch 100/455: Loss = 0.0757\n",
            "Batch 110/455: Loss = 0.0415\n",
            "Batch 120/455: Loss = 0.2269\n",
            "Batch 130/455: Loss = 0.1126\n",
            "Batch 140/455: Loss = 0.1226\n",
            "Batch 150/455: Loss = 0.1107\n",
            "Batch 160/455: Loss = 0.0849\n",
            "Batch 170/455: Loss = 0.1097\n",
            "Batch 180/455: Loss = 0.1418\n",
            "Batch 190/455: Loss = 0.2300\n",
            "Batch 200/455: Loss = 0.0561\n",
            "Batch 210/455: Loss = 0.0343\n",
            "Batch 220/455: Loss = 0.1614\n",
            "Batch 230/455: Loss = 0.0914\n",
            "Batch 240/455: Loss = 0.0732\n",
            "Batch 250/455: Loss = 0.0811\n",
            "Batch 260/455: Loss = 0.1359\n",
            "Batch 270/455: Loss = 0.1375\n",
            "Batch 280/455: Loss = 0.1834\n",
            "Batch 290/455: Loss = 0.0723\n",
            "Skipping corrupted image: /content/drive/MyDrive/Waste Classification using Transfer Learning/Dataset/e-waste/e-waste 1719.jpg - cannot identify image file <_io.BufferedReader name='/content/drive/MyDrive/Waste Classification using Transfer Learning/Dataset/e-waste/e-waste 1719.jpg'>\n",
            "Batch 300/455: Loss = 0.2178\n",
            "Batch 310/455: Loss = 0.0758\n",
            "Batch 320/455: Loss = 0.1578\n",
            "Batch 330/455: Loss = 0.1000\n",
            "Batch 340/455: Loss = 0.1329\n",
            "Batch 350/455: Loss = 0.0676\n",
            "Batch 360/455: Loss = 0.0858\n",
            "Batch 370/455: Loss = 0.1435\n",
            "Batch 380/455: Loss = 0.1300\n",
            "Batch 390/455: Loss = 0.2373\n",
            "Batch 400/455: Loss = 0.4625\n",
            "Batch 410/455: Loss = 0.1313\n",
            "Batch 420/455: Loss = 0.1828\n",
            "Skipping corrupted image: /content/drive/MyDrive/Waste Classification using Transfer Learning/Dataset/cardboard/cardboard 1075.jpg - cannot identify image file <_io.BufferedReader name='/content/drive/MyDrive/Waste Classification using Transfer Learning/Dataset/cardboard/cardboard 1075.jpg'>\n",
            "Batch 430/455: Loss = 0.2283\n",
            "Batch 440/455: Loss = 0.1904\n",
            "Batch 450/455: Loss = 0.1059\n",
            "Training phase completed. Starting validation...\n"
          ]
        },
        {
          "output_type": "stream",
          "name": "stderr",
          "text": [
            "/usr/local/lib/python3.11/dist-packages/PIL/Image.py:1045: UserWarning: Palette images with Transparency expressed in bytes should be converted to RGBA images\n",
            "  warnings.warn(\n",
            "/usr/local/lib/python3.11/dist-packages/PIL/Image.py:1045: UserWarning: Palette images with Transparency expressed in bytes should be converted to RGBA images\n",
            "  warnings.warn(\n"
          ]
        },
        {
          "output_type": "stream",
          "name": "stdout",
          "text": [
            "Epoch [6/25] completed.\n",
            "Train Loss: 0.1633 | Train Acc: 94.50%\n",
            "Val Loss: 0.3776 | Val Acc: 89.53%\n",
            "Precision: 90.10% | Recall: 89.03% | F1-score: 89.38%\n",
            "\n",
            "Epoch 7/25 started...\n"
          ]
        },
        {
          "output_type": "stream",
          "name": "stderr",
          "text": [
            "/usr/local/lib/python3.11/dist-packages/torch/utils/data/dataloader.py:624: UserWarning: This DataLoader will create 4 worker processes in total. Our suggested max number of worker in current system is 2, which is smaller than what this DataLoader is going to create. Please be aware that excessive worker creation might get DataLoader running slow or even freeze, lower the worker number to avoid potential slowness/freeze if necessary.\n",
            "  warnings.warn(\n"
          ]
        },
        {
          "output_type": "stream",
          "name": "stdout",
          "text": [
            "Batch 0/455: Loss = 0.1046\n"
          ]
        },
        {
          "output_type": "stream",
          "name": "stderr",
          "text": [
            "/usr/local/lib/python3.11/dist-packages/PIL/Image.py:1045: UserWarning: Palette images with Transparency expressed in bytes should be converted to RGBA images\n",
            "  warnings.warn(\n",
            "/usr/local/lib/python3.11/dist-packages/PIL/Image.py:1045: UserWarning: Palette images with Transparency expressed in bytes should be converted to RGBA images\n",
            "  warnings.warn(\n"
          ]
        },
        {
          "output_type": "stream",
          "name": "stdout",
          "text": [
            "Batch 10/455: Loss = 0.1446\n"
          ]
        },
        {
          "output_type": "stream",
          "name": "stderr",
          "text": [
            "/usr/local/lib/python3.11/dist-packages/PIL/Image.py:1045: UserWarning: Palette images with Transparency expressed in bytes should be converted to RGBA images\n",
            "  warnings.warn(\n"
          ]
        },
        {
          "output_type": "stream",
          "name": "stdout",
          "text": [
            "Batch 20/455: Loss = 0.1877\n",
            "Batch 30/455: Loss = 0.0363\n",
            "Batch 40/455: Loss = 0.0360\n"
          ]
        },
        {
          "output_type": "stream",
          "name": "stderr",
          "text": [
            "/usr/local/lib/python3.11/dist-packages/PIL/Image.py:1045: UserWarning: Palette images with Transparency expressed in bytes should be converted to RGBA images\n",
            "  warnings.warn(\n"
          ]
        },
        {
          "output_type": "stream",
          "name": "stdout",
          "text": [
            "Skipping corrupted image: /content/drive/MyDrive/Waste Classification using Transfer Learning/Dataset/paper/paper 2273.jpg - cannot identify image file <_io.BufferedReader name='/content/drive/MyDrive/Waste Classification using Transfer Learning/Dataset/paper/paper 2273.jpg'>\n",
            "Batch 50/455: Loss = 0.2463\n",
            "Batch 60/455: Loss = 0.0719\n",
            "Batch 70/455: Loss = 0.0533\n",
            "Batch 80/455: Loss = 0.1903\n",
            "Batch 90/455: Loss = 0.1899\n",
            "Batch 100/455: Loss = 0.0709\n",
            "Batch 110/455: Loss = 0.0622\n",
            "Batch 120/455: Loss = 0.0143\n",
            "Batch 130/455: Loss = 0.1837\n",
            "Batch 140/455: Loss = 0.0659\n",
            "Batch 150/455: Loss = 0.2753\n",
            "Batch 160/455: Loss = 0.1110\n",
            "Batch 170/455: Loss = 0.2347\n",
            "Batch 180/455: Loss = 0.0303\n",
            "Batch 190/455: Loss = 0.2695\n",
            "Batch 200/455: Loss = 0.1235\n",
            "Batch 210/455: Loss = 0.0610\n",
            "Batch 220/455: Loss = 0.2368\n",
            "Batch 230/455: Loss = 0.2890\n",
            "Batch 240/455: Loss = 0.2897\n",
            "Batch 250/455: Loss = 0.1539\n",
            "Batch 260/455: Loss = 0.2616\n",
            "Batch 270/455: Loss = 0.1649\n",
            "Batch 280/455: Loss = 0.1519\n",
            "Batch 290/455: Loss = 0.4648\n",
            "Batch 300/455: Loss = 0.1644\n",
            "Batch 310/455: Loss = 0.4512\n",
            "Batch 320/455: Loss = 0.1173\n",
            "Batch 330/455: Loss = 0.6978\n",
            "Batch 340/455: Loss = 0.0808\n",
            "Batch 350/455: Loss = 0.1756\n",
            "Batch 360/455: Loss = 0.1786\n",
            "Skipping corrupted image: /content/drive/MyDrive/Waste Classification using Transfer Learning/Dataset/cardboard/cardboard 1075.jpg - cannot identify image file <_io.BufferedReader name='/content/drive/MyDrive/Waste Classification using Transfer Learning/Dataset/cardboard/cardboard 1075.jpg'>\n",
            "Batch 370/455: Loss = 0.3179\n",
            "Batch 380/455: Loss = 0.0496\n",
            "Batch 390/455: Loss = 0.1623\n",
            "Batch 400/455: Loss = 0.0885\n",
            "Skipping corrupted image: /content/drive/MyDrive/Waste Classification using Transfer Learning/Dataset/e-waste/e-waste 1719.jpg - cannot identify image file <_io.BufferedReader name='/content/drive/MyDrive/Waste Classification using Transfer Learning/Dataset/e-waste/e-waste 1719.jpg'>\n",
            "Batch 410/455: Loss = 0.0763\n",
            "Batch 420/455: Loss = 0.2819\n",
            "Batch 430/455: Loss = 0.1995\n",
            "Batch 440/455: Loss = 0.3618\n",
            "Batch 450/455: Loss = 0.0814\n",
            "Training phase completed. Starting validation...\n"
          ]
        },
        {
          "output_type": "stream",
          "name": "stderr",
          "text": [
            "/usr/local/lib/python3.11/dist-packages/PIL/Image.py:1045: UserWarning: Palette images with Transparency expressed in bytes should be converted to RGBA images\n",
            "  warnings.warn(\n",
            "/usr/local/lib/python3.11/dist-packages/PIL/Image.py:1045: UserWarning: Palette images with Transparency expressed in bytes should be converted to RGBA images\n",
            "  warnings.warn(\n"
          ]
        },
        {
          "output_type": "stream",
          "name": "stdout",
          "text": [
            "Epoch [7/25] completed.\n",
            "Train Loss: 0.1648 | Train Acc: 94.33%\n",
            "Val Loss: 0.3403 | Val Acc: 90.39%\n",
            "Precision: 90.66% | Recall: 90.46% | F1-score: 90.44%\n",
            "New best model saved at /content/drive/MyDrive/Waste Classification using Transfer Learning/Saved Models/ResNet-50/Model_ResNet50.pth!\n",
            "\n",
            "Epoch 8/25 started...\n"
          ]
        },
        {
          "output_type": "stream",
          "name": "stderr",
          "text": [
            "/usr/local/lib/python3.11/dist-packages/torch/utils/data/dataloader.py:624: UserWarning: This DataLoader will create 4 worker processes in total. Our suggested max number of worker in current system is 2, which is smaller than what this DataLoader is going to create. Please be aware that excessive worker creation might get DataLoader running slow or even freeze, lower the worker number to avoid potential slowness/freeze if necessary.\n",
            "  warnings.warn(\n",
            "/usr/local/lib/python3.11/dist-packages/PIL/Image.py:1045: UserWarning: Palette images with Transparency expressed in bytes should be converted to RGBA images\n",
            "  warnings.warn(\n"
          ]
        },
        {
          "output_type": "stream",
          "name": "stdout",
          "text": [
            "Batch 0/455: Loss = 0.1974\n"
          ]
        },
        {
          "output_type": "stream",
          "name": "stderr",
          "text": [
            "/usr/local/lib/python3.11/dist-packages/PIL/Image.py:1045: UserWarning: Palette images with Transparency expressed in bytes should be converted to RGBA images\n",
            "  warnings.warn(\n"
          ]
        },
        {
          "output_type": "stream",
          "name": "stdout",
          "text": [
            "Batch 10/455: Loss = 0.0196\n"
          ]
        },
        {
          "output_type": "stream",
          "name": "stderr",
          "text": [
            "/usr/local/lib/python3.11/dist-packages/PIL/Image.py:1045: UserWarning: Palette images with Transparency expressed in bytes should be converted to RGBA images\n",
            "  warnings.warn(\n"
          ]
        },
        {
          "output_type": "stream",
          "name": "stdout",
          "text": [
            "Batch 20/455: Loss = 0.1959\n",
            "Batch 30/455: Loss = 0.0825\n",
            "Batch 40/455: Loss = 0.0894\n",
            "Batch 50/455: Loss = 0.0746\n",
            "Batch 60/455: Loss = 0.0987\n",
            "Batch 70/455: Loss = 0.1722\n",
            "Batch 80/455: Loss = 0.0922\n",
            "Batch 90/455: Loss = 0.0618\n",
            "Batch 100/455: Loss = 0.1528\n",
            "Batch 110/455: Loss = 0.0835\n",
            "Batch 120/455: Loss = 0.1674\n",
            "Batch 130/455: Loss = 0.0854\n"
          ]
        },
        {
          "output_type": "stream",
          "name": "stderr",
          "text": [
            "/usr/local/lib/python3.11/dist-packages/PIL/Image.py:1045: UserWarning: Palette images with Transparency expressed in bytes should be converted to RGBA images\n",
            "  warnings.warn(\n"
          ]
        },
        {
          "output_type": "stream",
          "name": "stdout",
          "text": [
            "Batch 140/455: Loss = 0.1102\n",
            "Batch 150/455: Loss = 0.0597\n",
            "Batch 160/455: Loss = 0.0445\n",
            "Batch 170/455: Loss = 0.0316\n",
            "Batch 180/455: Loss = 0.1762\n",
            "Batch 190/455: Loss = 0.1354\n",
            "Batch 200/455: Loss = 0.1261\n",
            "Batch 210/455: Loss = 0.2465\n",
            "Batch 220/455: Loss = 0.2494\n",
            "Batch 230/455: Loss = 0.0288\n",
            "Batch 240/455: Loss = 0.1724\n",
            "Batch 250/455: Loss = 0.1018\n",
            "Batch 260/455: Loss = 0.2269\n",
            "Batch 270/455: Loss = 0.1099\n",
            "Skipping corrupted image: /content/drive/MyDrive/Waste Classification using Transfer Learning/Dataset/cardboard/cardboard 1075.jpg - cannot identify image file <_io.BufferedReader name='/content/drive/MyDrive/Waste Classification using Transfer Learning/Dataset/cardboard/cardboard 1075.jpg'>\n",
            "Batch 280/455: Loss = 0.3711\n",
            "Batch 290/455: Loss = 0.1471\n",
            "Batch 300/455: Loss = 0.1611\n",
            "Batch 310/455: Loss = 0.1094\n",
            "Batch 320/455: Loss = 0.1413\n",
            "Batch 330/455: Loss = 0.1595\n",
            "Batch 340/455: Loss = 0.1899\n",
            "Batch 350/455: Loss = 0.1753\n",
            "Batch 360/455: Loss = 0.4047\n",
            "Skipping corrupted image: /content/drive/MyDrive/Waste Classification using Transfer Learning/Dataset/e-waste/e-waste 1719.jpg - cannot identify image file <_io.BufferedReader name='/content/drive/MyDrive/Waste Classification using Transfer Learning/Dataset/e-waste/e-waste 1719.jpg'>\n",
            "Batch 370/455: Loss = 0.1486\n",
            "Batch 380/455: Loss = 0.4651\n",
            "Batch 390/455: Loss = 0.4071\n",
            "Batch 400/455: Loss = 0.2196\n",
            "Skipping corrupted image: /content/drive/MyDrive/Waste Classification using Transfer Learning/Dataset/paper/paper 2273.jpg - cannot identify image file <_io.BufferedReader name='/content/drive/MyDrive/Waste Classification using Transfer Learning/Dataset/paper/paper 2273.jpg'>\n",
            "Batch 410/455: Loss = 0.3891\n",
            "Batch 420/455: Loss = 0.1162\n",
            "Batch 430/455: Loss = 0.2164\n",
            "Batch 440/455: Loss = 0.1566\n",
            "Batch 450/455: Loss = 0.0882\n",
            "Training phase completed. Starting validation...\n"
          ]
        },
        {
          "output_type": "stream",
          "name": "stderr",
          "text": [
            "/usr/local/lib/python3.11/dist-packages/PIL/Image.py:1045: UserWarning: Palette images with Transparency expressed in bytes should be converted to RGBA images\n",
            "  warnings.warn(\n",
            "/usr/local/lib/python3.11/dist-packages/PIL/Image.py:1045: UserWarning: Palette images with Transparency expressed in bytes should be converted to RGBA images\n",
            "  warnings.warn(\n"
          ]
        },
        {
          "output_type": "stream",
          "name": "stdout",
          "text": [
            "Epoch [8/25] completed.\n",
            "Train Loss: 0.1406 | Train Acc: 95.23%\n",
            "Val Loss: 0.3430 | Val Acc: 90.14%\n",
            "Precision: 90.32% | Recall: 90.03% | F1-score: 90.09%\n",
            "\n",
            "Epoch 9/25 started...\n"
          ]
        },
        {
          "output_type": "stream",
          "name": "stderr",
          "text": [
            "/usr/local/lib/python3.11/dist-packages/torch/utils/data/dataloader.py:624: UserWarning: This DataLoader will create 4 worker processes in total. Our suggested max number of worker in current system is 2, which is smaller than what this DataLoader is going to create. Please be aware that excessive worker creation might get DataLoader running slow or even freeze, lower the worker number to avoid potential slowness/freeze if necessary.\n",
            "  warnings.warn(\n"
          ]
        },
        {
          "output_type": "stream",
          "name": "stdout",
          "text": [
            "Batch 0/455: Loss = 0.0834\n",
            "Batch 10/455: Loss = 0.3059\n",
            "Batch 20/455: Loss = 0.1506\n",
            "Skipping corrupted image: /content/drive/MyDrive/Waste Classification using Transfer Learning/Dataset/paper/paper 2273.jpg - cannot identify image file <_io.BufferedReader name='/content/drive/MyDrive/Waste Classification using Transfer Learning/Dataset/paper/paper 2273.jpg'>\n",
            "Batch 30/455: Loss = 0.0581\n"
          ]
        },
        {
          "output_type": "stream",
          "name": "stderr",
          "text": [
            "/usr/local/lib/python3.11/dist-packages/PIL/Image.py:1045: UserWarning: Palette images with Transparency expressed in bytes should be converted to RGBA images\n",
            "  warnings.warn(\n"
          ]
        },
        {
          "output_type": "stream",
          "name": "stdout",
          "text": [
            "Batch 40/455: Loss = 0.0977\n"
          ]
        },
        {
          "output_type": "stream",
          "name": "stderr",
          "text": [
            "/usr/local/lib/python3.11/dist-packages/PIL/Image.py:1045: UserWarning: Palette images with Transparency expressed in bytes should be converted to RGBA images\n",
            "  warnings.warn(\n"
          ]
        },
        {
          "output_type": "stream",
          "name": "stdout",
          "text": [
            "Batch 50/455: Loss = 0.2847\n"
          ]
        },
        {
          "output_type": "stream",
          "name": "stderr",
          "text": [
            "/usr/local/lib/python3.11/dist-packages/PIL/Image.py:1045: UserWarning: Palette images with Transparency expressed in bytes should be converted to RGBA images\n",
            "  warnings.warn(\n"
          ]
        },
        {
          "output_type": "stream",
          "name": "stdout",
          "text": [
            "Batch 60/455: Loss = 0.1749\n",
            "Batch 70/455: Loss = 0.0587\n",
            "Batch 80/455: Loss = 0.0580\n",
            "Skipping corrupted image: /content/drive/MyDrive/Waste Classification using Transfer Learning/Dataset/cardboard/cardboard 1075.jpg - cannot identify image file <_io.BufferedReader name='/content/drive/MyDrive/Waste Classification using Transfer Learning/Dataset/cardboard/cardboard 1075.jpg'>\n",
            "Batch 90/455: Loss = 0.1903\n"
          ]
        },
        {
          "output_type": "stream",
          "name": "stderr",
          "text": [
            "/usr/local/lib/python3.11/dist-packages/PIL/Image.py:1045: UserWarning: Palette images with Transparency expressed in bytes should be converted to RGBA images\n",
            "  warnings.warn(\n"
          ]
        },
        {
          "output_type": "stream",
          "name": "stdout",
          "text": [
            "Batch 100/455: Loss = 0.0635\n",
            "Batch 110/455: Loss = 0.0552\n",
            "Batch 120/455: Loss = 0.1460\n",
            "Batch 130/455: Loss = 0.0751\n",
            "Batch 140/455: Loss = 0.2344\n",
            "Batch 150/455: Loss = 0.1054\n",
            "Batch 160/455: Loss = 0.1815\n",
            "Batch 170/455: Loss = 0.0241\n",
            "Batch 180/455: Loss = 0.1526\n",
            "Batch 190/455: Loss = 0.1791\n",
            "Batch 200/455: Loss = 0.1343\n",
            "Batch 210/455: Loss = 0.1135\n",
            "Batch 220/455: Loss = 0.0862\n",
            "Batch 230/455: Loss = 0.1376\n",
            "Batch 240/455: Loss = 0.0280\n",
            "Batch 250/455: Loss = 0.2958\n",
            "Batch 260/455: Loss = 0.1709\n",
            "Batch 270/455: Loss = 0.1021\n",
            "Batch 280/455: Loss = 0.1287\n",
            "Batch 290/455: Loss = 0.0684\n",
            "Batch 300/455: Loss = 0.0231\n",
            "Batch 310/455: Loss = 0.2899\n",
            "Batch 320/455: Loss = 0.1457\n",
            "Batch 330/455: Loss = 0.0500\n",
            "Batch 340/455: Loss = 0.1495\n",
            "Batch 350/455: Loss = 0.2455\n",
            "Batch 360/455: Loss = 0.0528\n",
            "Skipping corrupted image: /content/drive/MyDrive/Waste Classification using Transfer Learning/Dataset/e-waste/e-waste 1719.jpg - cannot identify image file <_io.BufferedReader name='/content/drive/MyDrive/Waste Classification using Transfer Learning/Dataset/e-waste/e-waste 1719.jpg'>\n",
            "Batch 370/455: Loss = 0.3010\n",
            "Batch 380/455: Loss = 0.1323\n",
            "Batch 390/455: Loss = 0.0780\n",
            "Batch 400/455: Loss = 0.0494\n",
            "Batch 410/455: Loss = 0.1380\n",
            "Batch 420/455: Loss = 0.1156\n",
            "Batch 430/455: Loss = 0.0223\n",
            "Batch 440/455: Loss = 0.2081\n",
            "Batch 450/455: Loss = 0.1588\n",
            "Training phase completed. Starting validation...\n"
          ]
        },
        {
          "output_type": "stream",
          "name": "stderr",
          "text": [
            "/usr/local/lib/python3.11/dist-packages/PIL/Image.py:1045: UserWarning: Palette images with Transparency expressed in bytes should be converted to RGBA images\n",
            "  warnings.warn(\n",
            "/usr/local/lib/python3.11/dist-packages/PIL/Image.py:1045: UserWarning: Palette images with Transparency expressed in bytes should be converted to RGBA images\n",
            "  warnings.warn(\n"
          ]
        },
        {
          "output_type": "stream",
          "name": "stdout",
          "text": [
            "Epoch [9/25] completed.\n",
            "Train Loss: 0.1290 | Train Acc: 95.56%\n",
            "Val Loss: 0.3705 | Val Acc: 90.33%\n",
            "Precision: 90.56% | Recall: 90.15% | F1-score: 90.23%\n",
            "\n",
            "Epoch 10/25 started...\n"
          ]
        },
        {
          "output_type": "stream",
          "name": "stderr",
          "text": [
            "/usr/local/lib/python3.11/dist-packages/torch/utils/data/dataloader.py:624: UserWarning: This DataLoader will create 4 worker processes in total. Our suggested max number of worker in current system is 2, which is smaller than what this DataLoader is going to create. Please be aware that excessive worker creation might get DataLoader running slow or even freeze, lower the worker number to avoid potential slowness/freeze if necessary.\n",
            "  warnings.warn(\n"
          ]
        },
        {
          "output_type": "stream",
          "name": "stdout",
          "text": [
            "Batch 0/455: Loss = 0.0530\n",
            "Batch 10/455: Loss = 0.0337\n",
            "Batch 20/455: Loss = 0.3211\n"
          ]
        },
        {
          "output_type": "stream",
          "name": "stderr",
          "text": [
            "/usr/local/lib/python3.11/dist-packages/PIL/Image.py:1045: UserWarning: Palette images with Transparency expressed in bytes should be converted to RGBA images\n",
            "  warnings.warn(\n"
          ]
        },
        {
          "output_type": "stream",
          "name": "stdout",
          "text": [
            "Batch 30/455: Loss = 0.0231\n",
            "Skipping corrupted image: /content/drive/MyDrive/Waste Classification using Transfer Learning/Dataset/e-waste/e-waste 1719.jpg - cannot identify image file <_io.BufferedReader name='/content/drive/MyDrive/Waste Classification using Transfer Learning/Dataset/e-waste/e-waste 1719.jpg'>\n"
          ]
        },
        {
          "output_type": "stream",
          "name": "stderr",
          "text": [
            "/usr/local/lib/python3.11/dist-packages/PIL/Image.py:1045: UserWarning: Palette images with Transparency expressed in bytes should be converted to RGBA images\n",
            "  warnings.warn(\n"
          ]
        },
        {
          "output_type": "stream",
          "name": "stdout",
          "text": [
            "Batch 40/455: Loss = 0.2180\n",
            "Batch 50/455: Loss = 0.1908\n",
            "Batch 60/455: Loss = 0.1952\n",
            "Batch 70/455: Loss = 0.2552\n",
            "Batch 80/455: Loss = 0.0249\n",
            "Batch 90/455: Loss = 0.0605\n"
          ]
        },
        {
          "output_type": "stream",
          "name": "stderr",
          "text": [
            "/usr/local/lib/python3.11/dist-packages/PIL/Image.py:1045: UserWarning: Palette images with Transparency expressed in bytes should be converted to RGBA images\n",
            "  warnings.warn(\n"
          ]
        },
        {
          "output_type": "stream",
          "name": "stdout",
          "text": [
            "Skipping corrupted image: /content/drive/MyDrive/Waste Classification using Transfer Learning/Dataset/cardboard/cardboard 1075.jpg - cannot identify image file <_io.BufferedReader name='/content/drive/MyDrive/Waste Classification using Transfer Learning/Dataset/cardboard/cardboard 1075.jpg'>\n",
            "Batch 100/455: Loss = 0.2979\n",
            "Batch 110/455: Loss = 0.0458\n",
            "Batch 120/455: Loss = 0.0522\n",
            "Batch 130/455: Loss = 0.1353\n",
            "Batch 140/455: Loss = 0.1088\n",
            "Batch 150/455: Loss = 0.1091\n",
            "Batch 160/455: Loss = 0.0963\n",
            "Batch 170/455: Loss = 0.1417\n",
            "Batch 180/455: Loss = 0.0191\n",
            "Batch 190/455: Loss = 0.1622\n",
            "Batch 200/455: Loss = 0.0876\n",
            "Batch 210/455: Loss = 0.0419\n",
            "Batch 220/455: Loss = 0.0795\n",
            "Batch 230/455: Loss = 0.0228\n",
            "Batch 240/455: Loss = 0.0394\n",
            "Batch 250/455: Loss = 0.1422\n",
            "Batch 260/455: Loss = 0.1504\n",
            "Batch 270/455: Loss = 0.0902\n",
            "Batch 280/455: Loss = 0.0455\n",
            "Batch 290/455: Loss = 0.1473\n",
            "Batch 300/455: Loss = 0.0792\n",
            "Batch 310/455: Loss = 0.0269\n",
            "Batch 320/455: Loss = 0.2248\n",
            "Batch 330/455: Loss = 0.0287\n",
            "Batch 340/455: Loss = 0.2069\n",
            "Batch 350/455: Loss = 0.3952\n",
            "Batch 360/455: Loss = 0.1129\n",
            "Batch 370/455: Loss = 0.0498\n",
            "Batch 380/455: Loss = 0.1418\n",
            "Batch 390/455: Loss = 0.0736\n",
            "Skipping corrupted image: /content/drive/MyDrive/Waste Classification using Transfer Learning/Dataset/paper/paper 2273.jpg - cannot identify image file <_io.BufferedReader name='/content/drive/MyDrive/Waste Classification using Transfer Learning/Dataset/paper/paper 2273.jpg'>\n",
            "Batch 400/455: Loss = 0.1179\n",
            "Batch 410/455: Loss = 0.0581\n"
          ]
        },
        {
          "output_type": "stream",
          "name": "stderr",
          "text": [
            "/usr/local/lib/python3.11/dist-packages/PIL/Image.py:1045: UserWarning: Palette images with Transparency expressed in bytes should be converted to RGBA images\n",
            "  warnings.warn(\n"
          ]
        },
        {
          "output_type": "stream",
          "name": "stdout",
          "text": [
            "Batch 420/455: Loss = 0.2660\n",
            "Batch 430/455: Loss = 0.1326\n",
            "Batch 440/455: Loss = 0.0847\n",
            "Batch 450/455: Loss = 0.0894\n",
            "Training phase completed. Starting validation...\n"
          ]
        },
        {
          "output_type": "stream",
          "name": "stderr",
          "text": [
            "/usr/local/lib/python3.11/dist-packages/PIL/Image.py:1045: UserWarning: Palette images with Transparency expressed in bytes should be converted to RGBA images\n",
            "  warnings.warn(\n",
            "/usr/local/lib/python3.11/dist-packages/PIL/Image.py:1045: UserWarning: Palette images with Transparency expressed in bytes should be converted to RGBA images\n",
            "  warnings.warn(\n"
          ]
        },
        {
          "output_type": "stream",
          "name": "stdout",
          "text": [
            "Epoch [10/25] completed.\n",
            "Train Loss: 0.1224 | Train Acc: 95.95%\n",
            "Val Loss: 0.4283 | Val Acc: 88.60%\n",
            "Precision: 88.84% | Recall: 88.48% | F1-score: 88.50%\n",
            "Checkpoint saved at /content/drive/MyDrive/Waste Classification using Transfer Learning/Saved Models/ResNet-50/checkpoint_epoch_10.pth!\n",
            "\n",
            "Epoch 11/25 started...\n"
          ]
        },
        {
          "output_type": "stream",
          "name": "stderr",
          "text": [
            "/usr/local/lib/python3.11/dist-packages/torch/utils/data/dataloader.py:624: UserWarning: This DataLoader will create 4 worker processes in total. Our suggested max number of worker in current system is 2, which is smaller than what this DataLoader is going to create. Please be aware that excessive worker creation might get DataLoader running slow or even freeze, lower the worker number to avoid potential slowness/freeze if necessary.\n",
            "  warnings.warn(\n",
            "/usr/local/lib/python3.11/dist-packages/PIL/Image.py:1045: UserWarning: Palette images with Transparency expressed in bytes should be converted to RGBA images\n",
            "  warnings.warn(\n"
          ]
        },
        {
          "output_type": "stream",
          "name": "stdout",
          "text": [
            "Batch 0/455: Loss = 0.0435\n",
            "Batch 10/455: Loss = 0.1020\n",
            "Batch 20/455: Loss = 0.0321\n",
            "Batch 30/455: Loss = 0.1033\n"
          ]
        },
        {
          "output_type": "stream",
          "name": "stderr",
          "text": [
            "/usr/local/lib/python3.11/dist-packages/PIL/Image.py:1045: UserWarning: Palette images with Transparency expressed in bytes should be converted to RGBA images\n",
            "  warnings.warn(\n"
          ]
        },
        {
          "output_type": "stream",
          "name": "stdout",
          "text": [
            "Batch 40/455: Loss = 0.0355\n",
            "Skipping corrupted image: /content/drive/MyDrive/Waste Classification using Transfer Learning/Dataset/cardboard/cardboard 1075.jpg - cannot identify image file <_io.BufferedReader name='/content/drive/MyDrive/Waste Classification using Transfer Learning/Dataset/cardboard/cardboard 1075.jpg'>\n",
            "Batch 50/455: Loss = 0.0526\n",
            "Batch 60/455: Loss = 0.1965\n",
            "Batch 70/455: Loss = 0.1081\n"
          ]
        },
        {
          "output_type": "stream",
          "name": "stderr",
          "text": [
            "/usr/local/lib/python3.11/dist-packages/PIL/Image.py:1045: UserWarning: Palette images with Transparency expressed in bytes should be converted to RGBA images\n",
            "  warnings.warn(\n"
          ]
        },
        {
          "output_type": "stream",
          "name": "stdout",
          "text": [
            "Batch 80/455: Loss = 0.1241\n"
          ]
        },
        {
          "output_type": "stream",
          "name": "stderr",
          "text": [
            "/usr/local/lib/python3.11/dist-packages/PIL/Image.py:1045: UserWarning: Palette images with Transparency expressed in bytes should be converted to RGBA images\n",
            "  warnings.warn(\n"
          ]
        },
        {
          "output_type": "stream",
          "name": "stdout",
          "text": [
            "Batch 90/455: Loss = 0.0921\n",
            "Batch 100/455: Loss = 0.1023\n",
            "Batch 110/455: Loss = 0.0695\n",
            "Batch 120/455: Loss = 0.2359\n",
            "Batch 130/455: Loss = 0.0904\n",
            "Batch 140/455: Loss = 0.0340\n",
            "Batch 150/455: Loss = 0.3829\n",
            "Batch 160/455: Loss = 0.0199\n",
            "Batch 170/455: Loss = 0.1558\n",
            "Batch 180/455: Loss = 0.3217\n",
            "Batch 190/455: Loss = 0.0263\n",
            "Batch 200/455: Loss = 0.0535\n",
            "Skipping corrupted image: /content/drive/MyDrive/Waste Classification using Transfer Learning/Dataset/paper/paper 2273.jpg - cannot identify image file <_io.BufferedReader name='/content/drive/MyDrive/Waste Classification using Transfer Learning/Dataset/paper/paper 2273.jpg'>\n",
            "Batch 210/455: Loss = 0.1245\n",
            "Batch 220/455: Loss = 0.0818\n",
            "Batch 230/455: Loss = 0.0373\n",
            "Batch 240/455: Loss = 0.0711\n",
            "Batch 250/455: Loss = 0.0686\n",
            "Batch 260/455: Loss = 0.1176\n",
            "Batch 270/455: Loss = 0.0172\n",
            "Batch 280/455: Loss = 0.0795\n",
            "Batch 290/455: Loss = 0.0146\n",
            "Batch 300/455: Loss = 0.0709\n",
            "Batch 310/455: Loss = 0.0980\n",
            "Batch 320/455: Loss = 0.0505\n",
            "Batch 330/455: Loss = 0.0749\n",
            "Batch 340/455: Loss = 0.3052\n",
            "Batch 350/455: Loss = 0.0372\n",
            "Batch 360/455: Loss = 0.0170\n",
            "Batch 370/455: Loss = 0.0165\n",
            "Batch 380/455: Loss = 0.1782\n",
            "Batch 390/455: Loss = 0.0372\n",
            "Batch 400/455: Loss = 0.0392\n",
            "Batch 410/455: Loss = 0.4573\n",
            "Batch 420/455: Loss = 0.1240\n",
            "Skipping corrupted image: /content/drive/MyDrive/Waste Classification using Transfer Learning/Dataset/e-waste/e-waste 1719.jpg - cannot identify image file <_io.BufferedReader name='/content/drive/MyDrive/Waste Classification using Transfer Learning/Dataset/e-waste/e-waste 1719.jpg'>\n",
            "Batch 430/455: Loss = 0.1158\n",
            "Batch 440/455: Loss = 0.1422\n",
            "Batch 450/455: Loss = 0.0689\n",
            "Training phase completed. Starting validation...\n"
          ]
        },
        {
          "output_type": "stream",
          "name": "stderr",
          "text": [
            "/usr/local/lib/python3.11/dist-packages/PIL/Image.py:1045: UserWarning: Palette images with Transparency expressed in bytes should be converted to RGBA images\n",
            "  warnings.warn(\n",
            "/usr/local/lib/python3.11/dist-packages/PIL/Image.py:1045: UserWarning: Palette images with Transparency expressed in bytes should be converted to RGBA images\n",
            "  warnings.warn(\n"
          ]
        },
        {
          "output_type": "stream",
          "name": "stdout",
          "text": [
            "Epoch [11/25] completed.\n",
            "Train Loss: 0.1114 | Train Acc: 96.21%\n",
            "Val Loss: 0.3446 | Val Acc: 90.82%\n",
            "Precision: 90.94% | Recall: 90.73% | F1-score: 90.79%\n",
            "New best model saved at /content/drive/MyDrive/Waste Classification using Transfer Learning/Saved Models/ResNet-50/Model_ResNet50.pth!\n",
            "\n",
            "Epoch 12/25 started...\n"
          ]
        },
        {
          "output_type": "stream",
          "name": "stderr",
          "text": [
            "/usr/local/lib/python3.11/dist-packages/torch/utils/data/dataloader.py:624: UserWarning: This DataLoader will create 4 worker processes in total. Our suggested max number of worker in current system is 2, which is smaller than what this DataLoader is going to create. Please be aware that excessive worker creation might get DataLoader running slow or even freeze, lower the worker number to avoid potential slowness/freeze if necessary.\n",
            "  warnings.warn(\n"
          ]
        },
        {
          "output_type": "stream",
          "name": "stdout",
          "text": [
            "Batch 0/455: Loss = 0.0282\n"
          ]
        },
        {
          "output_type": "stream",
          "name": "stderr",
          "text": [
            "/usr/local/lib/python3.11/dist-packages/PIL/Image.py:1045: UserWarning: Palette images with Transparency expressed in bytes should be converted to RGBA images\n",
            "  warnings.warn(\n"
          ]
        },
        {
          "output_type": "stream",
          "name": "stdout",
          "text": [
            "Batch 10/455: Loss = 0.1768\n",
            "Batch 20/455: Loss = 0.1927\n",
            "Batch 30/455: Loss = 0.0432\n",
            "Batch 40/455: Loss = 0.0959\n"
          ]
        },
        {
          "output_type": "stream",
          "name": "stderr",
          "text": [
            "/usr/local/lib/python3.11/dist-packages/PIL/Image.py:1045: UserWarning: Palette images with Transparency expressed in bytes should be converted to RGBA images\n",
            "  warnings.warn(\n"
          ]
        },
        {
          "output_type": "stream",
          "name": "stdout",
          "text": [
            "Batch 50/455: Loss = 0.0215\n",
            "Batch 60/455: Loss = 0.0736\n"
          ]
        },
        {
          "output_type": "stream",
          "name": "stderr",
          "text": [
            "/usr/local/lib/python3.11/dist-packages/PIL/Image.py:1045: UserWarning: Palette images with Transparency expressed in bytes should be converted to RGBA images\n",
            "  warnings.warn(\n"
          ]
        },
        {
          "output_type": "stream",
          "name": "stdout",
          "text": [
            "Batch 70/455: Loss = 0.0191\n",
            "Batch 80/455: Loss = 0.0752\n",
            "Batch 90/455: Loss = 0.0433\n",
            "Batch 100/455: Loss = 0.1476\n",
            "Batch 110/455: Loss = 0.0380\n"
          ]
        },
        {
          "output_type": "stream",
          "name": "stderr",
          "text": [
            "/usr/local/lib/python3.11/dist-packages/PIL/Image.py:1045: UserWarning: Palette images with Transparency expressed in bytes should be converted to RGBA images\n",
            "  warnings.warn(\n"
          ]
        },
        {
          "output_type": "stream",
          "name": "stdout",
          "text": [
            "Batch 120/455: Loss = 0.2935\n",
            "Batch 130/455: Loss = 0.0243\n",
            "Batch 140/455: Loss = 0.0223\n",
            "Batch 150/455: Loss = 0.0372\n",
            "Batch 160/455: Loss = 0.0616\n",
            "Batch 170/455: Loss = 0.0397\n",
            "Batch 180/455: Loss = 0.1522\n",
            "Batch 190/455: Loss = 0.0608\n",
            "Batch 200/455: Loss = 0.0383\n",
            "Batch 210/455: Loss = 0.1419\n",
            "Batch 220/455: Loss = 0.0395\n",
            "Batch 230/455: Loss = 0.1537\n",
            "Batch 240/455: Loss = 0.0781\n",
            "Batch 250/455: Loss = 0.2110\n",
            "Batch 260/455: Loss = 0.1747\n",
            "Skipping corrupted image: /content/drive/MyDrive/Waste Classification using Transfer Learning/Dataset/paper/paper 2273.jpg - cannot identify image file <_io.BufferedReader name='/content/drive/MyDrive/Waste Classification using Transfer Learning/Dataset/paper/paper 2273.jpg'>\n",
            "Batch 270/455: Loss = 0.0379\n",
            "Batch 280/455: Loss = 0.1647\n",
            "Batch 290/455: Loss = 0.0194\n",
            "Batch 300/455: Loss = 0.0145\n",
            "Batch 310/455: Loss = 0.2767\n",
            "Batch 320/455: Loss = 0.2333\n",
            "Batch 330/455: Loss = 0.1811\n",
            "Batch 340/455: Loss = 0.0104\n",
            "Batch 350/455: Loss = 0.0858\n",
            "Batch 360/455: Loss = 0.2831\n",
            "Batch 370/455: Loss = 0.0392\n",
            "Batch 380/455: Loss = 0.0947\n",
            "Batch 390/455: Loss = 0.1250\n",
            "Skipping corrupted image: /content/drive/MyDrive/Waste Classification using Transfer Learning/Dataset/e-waste/e-waste 1719.jpg - cannot identify image file <_io.BufferedReader name='/content/drive/MyDrive/Waste Classification using Transfer Learning/Dataset/e-waste/e-waste 1719.jpg'>\n",
            "Batch 400/455: Loss = 0.2860\n",
            "Batch 410/455: Loss = 0.5455\n",
            "Batch 420/455: Loss = 0.0605\n",
            "Skipping corrupted image: /content/drive/MyDrive/Waste Classification using Transfer Learning/Dataset/cardboard/cardboard 1075.jpg - cannot identify image file <_io.BufferedReader name='/content/drive/MyDrive/Waste Classification using Transfer Learning/Dataset/cardboard/cardboard 1075.jpg'>\n",
            "Batch 430/455: Loss = 0.2413\n",
            "Batch 440/455: Loss = 0.2783\n",
            "Batch 450/455: Loss = 0.0577\n",
            "Training phase completed. Starting validation...\n"
          ]
        },
        {
          "output_type": "stream",
          "name": "stderr",
          "text": [
            "/usr/local/lib/python3.11/dist-packages/PIL/Image.py:1045: UserWarning: Palette images with Transparency expressed in bytes should be converted to RGBA images\n",
            "  warnings.warn(\n",
            "/usr/local/lib/python3.11/dist-packages/PIL/Image.py:1045: UserWarning: Palette images with Transparency expressed in bytes should be converted to RGBA images\n",
            "  warnings.warn(\n"
          ]
        },
        {
          "output_type": "stream",
          "name": "stdout",
          "text": [
            "Epoch [12/25] completed.\n",
            "Train Loss: 0.1096 | Train Acc: 96.34%\n",
            "Val Loss: 0.3886 | Val Acc: 90.39%\n",
            "Precision: 91.08% | Recall: 90.13% | F1-score: 90.39%\n",
            "\n",
            "Epoch 13/25 started...\n"
          ]
        },
        {
          "output_type": "stream",
          "name": "stderr",
          "text": [
            "/usr/local/lib/python3.11/dist-packages/torch/utils/data/dataloader.py:624: UserWarning: This DataLoader will create 4 worker processes in total. Our suggested max number of worker in current system is 2, which is smaller than what this DataLoader is going to create. Please be aware that excessive worker creation might get DataLoader running slow or even freeze, lower the worker number to avoid potential slowness/freeze if necessary.\n",
            "  warnings.warn(\n"
          ]
        },
        {
          "output_type": "stream",
          "name": "stdout",
          "text": [
            "Batch 0/455: Loss = 0.2009\n",
            "Batch 10/455: Loss = 0.1043\n",
            "Batch 20/455: Loss = 0.1421\n",
            "Batch 30/455: Loss = 0.0485\n",
            "Batch 40/455: Loss = 0.0024\n",
            "Batch 50/455: Loss = 0.0702\n",
            "Batch 60/455: Loss = 0.0853\n"
          ]
        },
        {
          "output_type": "stream",
          "name": "stderr",
          "text": [
            "/usr/local/lib/python3.11/dist-packages/PIL/Image.py:1045: UserWarning: Palette images with Transparency expressed in bytes should be converted to RGBA images\n",
            "  warnings.warn(\n"
          ]
        },
        {
          "output_type": "stream",
          "name": "stdout",
          "text": [
            "Batch 70/455: Loss = 0.0302\n"
          ]
        },
        {
          "output_type": "stream",
          "name": "stderr",
          "text": [
            "/usr/local/lib/python3.11/dist-packages/PIL/Image.py:1045: UserWarning: Palette images with Transparency expressed in bytes should be converted to RGBA images\n",
            "  warnings.warn(\n"
          ]
        },
        {
          "output_type": "stream",
          "name": "stdout",
          "text": [
            "Batch 80/455: Loss = 0.1681\n"
          ]
        },
        {
          "output_type": "stream",
          "name": "stderr",
          "text": [
            "/usr/local/lib/python3.11/dist-packages/PIL/Image.py:1045: UserWarning: Palette images with Transparency expressed in bytes should be converted to RGBA images\n",
            "  warnings.warn(\n"
          ]
        },
        {
          "output_type": "stream",
          "name": "stdout",
          "text": [
            "Batch 90/455: Loss = 0.0390\n",
            "Batch 100/455: Loss = 0.0890\n",
            "Batch 110/455: Loss = 0.5387\n",
            "Skipping corrupted image: /content/drive/MyDrive/Waste Classification using Transfer Learning/Dataset/paper/paper 2273.jpg - cannot identify image file <_io.BufferedReader name='/content/drive/MyDrive/Waste Classification using Transfer Learning/Dataset/paper/paper 2273.jpg'>\n",
            "Batch 120/455: Loss = 0.0049\n",
            "Batch 130/455: Loss = 0.0914\n",
            "Batch 140/455: Loss = 0.0174\n"
          ]
        },
        {
          "output_type": "stream",
          "name": "stderr",
          "text": [
            "/usr/local/lib/python3.11/dist-packages/PIL/Image.py:1045: UserWarning: Palette images with Transparency expressed in bytes should be converted to RGBA images\n",
            "  warnings.warn(\n"
          ]
        },
        {
          "output_type": "stream",
          "name": "stdout",
          "text": [
            "Batch 150/455: Loss = 0.1231\n",
            "Batch 160/455: Loss = 0.1059\n",
            "Batch 170/455: Loss = 0.0379\n",
            "Batch 180/455: Loss = 0.1450\n",
            "Batch 190/455: Loss = 0.0253\n",
            "Batch 200/455: Loss = 0.0331\n",
            "Batch 210/455: Loss = 0.1037\n",
            "Batch 220/455: Loss = 0.1303\n",
            "Batch 230/455: Loss = 0.0169\n",
            "Batch 240/455: Loss = 0.3142\n",
            "Batch 250/455: Loss = 0.2103\n",
            "Batch 260/455: Loss = 0.0855\n",
            "Batch 270/455: Loss = 0.0095\n",
            "Batch 280/455: Loss = 0.1201\n",
            "Skipping corrupted image: /content/drive/MyDrive/Waste Classification using Transfer Learning/Dataset/cardboard/cardboard 1075.jpg - cannot identify image file <_io.BufferedReader name='/content/drive/MyDrive/Waste Classification using Transfer Learning/Dataset/cardboard/cardboard 1075.jpg'>\n",
            "Batch 290/455: Loss = 0.0892\n",
            "Batch 300/455: Loss = 0.0526\n",
            "Batch 310/455: Loss = 0.1214\n",
            "Batch 320/455: Loss = 0.0808\n",
            "Batch 330/455: Loss = 0.0267\n",
            "Batch 340/455: Loss = 0.0217\n",
            "Batch 350/455: Loss = 0.1122\n",
            "Batch 360/455: Loss = 0.0132\n",
            "Batch 370/455: Loss = 0.0724\n",
            "Batch 380/455: Loss = 0.0707\n",
            "Batch 390/455: Loss = 0.0235\n",
            "Batch 400/455: Loss = 0.2457\n",
            "Batch 410/455: Loss = 0.1120\n",
            "Batch 420/455: Loss = 0.0773\n",
            "Batch 430/455: Loss = 0.1545\n",
            "Skipping corrupted image: /content/drive/MyDrive/Waste Classification using Transfer Learning/Dataset/e-waste/e-waste 1719.jpg - cannot identify image file <_io.BufferedReader name='/content/drive/MyDrive/Waste Classification using Transfer Learning/Dataset/e-waste/e-waste 1719.jpg'>\n",
            "Batch 440/455: Loss = 0.0769\n",
            "Batch 450/455: Loss = 0.1118\n",
            "Training phase completed. Starting validation...\n"
          ]
        },
        {
          "output_type": "stream",
          "name": "stderr",
          "text": [
            "/usr/local/lib/python3.11/dist-packages/PIL/Image.py:1045: UserWarning: Palette images with Transparency expressed in bytes should be converted to RGBA images\n",
            "  warnings.warn(\n",
            "/usr/local/lib/python3.11/dist-packages/PIL/Image.py:1045: UserWarning: Palette images with Transparency expressed in bytes should be converted to RGBA images\n",
            "  warnings.warn(\n"
          ]
        },
        {
          "output_type": "stream",
          "name": "stdout",
          "text": [
            "Epoch [13/25] completed.\n",
            "Train Loss: 0.0930 | Train Acc: 96.75%\n",
            "Val Loss: 0.3704 | Val Acc: 90.39%\n",
            "Precision: 90.84% | Recall: 90.10% | F1-score: 90.36%\n",
            "\n",
            "Epoch 14/25 started...\n"
          ]
        },
        {
          "output_type": "stream",
          "name": "stderr",
          "text": [
            "/usr/local/lib/python3.11/dist-packages/torch/utils/data/dataloader.py:624: UserWarning: This DataLoader will create 4 worker processes in total. Our suggested max number of worker in current system is 2, which is smaller than what this DataLoader is going to create. Please be aware that excessive worker creation might get DataLoader running slow or even freeze, lower the worker number to avoid potential slowness/freeze if necessary.\n",
            "  warnings.warn(\n"
          ]
        },
        {
          "output_type": "stream",
          "name": "stdout",
          "text": [
            "Batch 0/455: Loss = 0.1472\n",
            "Skipping corrupted image: /content/drive/MyDrive/Waste Classification using Transfer Learning/Dataset/cardboard/cardboard 1075.jpg - cannot identify image file <_io.BufferedReader name='/content/drive/MyDrive/Waste Classification using Transfer Learning/Dataset/cardboard/cardboard 1075.jpg'>\n",
            "Batch 10/455: Loss = 0.0746\n",
            "Skipping corrupted image: /content/drive/MyDrive/Waste Classification using Transfer Learning/Dataset/e-waste/e-waste 1719.jpg - cannot identify image file <_io.BufferedReader name='/content/drive/MyDrive/Waste Classification using Transfer Learning/Dataset/e-waste/e-waste 1719.jpg'>\n",
            "Batch 20/455: Loss = 0.1064\n"
          ]
        },
        {
          "output_type": "stream",
          "name": "stderr",
          "text": [
            "/usr/local/lib/python3.11/dist-packages/PIL/Image.py:1045: UserWarning: Palette images with Transparency expressed in bytes should be converted to RGBA images\n",
            "  warnings.warn(\n"
          ]
        },
        {
          "output_type": "stream",
          "name": "stdout",
          "text": [
            "Batch 30/455: Loss = 0.0550\n",
            "Batch 40/455: Loss = 0.0059\n"
          ]
        },
        {
          "output_type": "stream",
          "name": "stderr",
          "text": [
            "/usr/local/lib/python3.11/dist-packages/PIL/Image.py:1045: UserWarning: Palette images with Transparency expressed in bytes should be converted to RGBA images\n",
            "  warnings.warn(\n"
          ]
        },
        {
          "output_type": "stream",
          "name": "stdout",
          "text": [
            "Batch 50/455: Loss = 0.0414\n",
            "Batch 60/455: Loss = 0.0389\n"
          ]
        },
        {
          "output_type": "stream",
          "name": "stderr",
          "text": [
            "/usr/local/lib/python3.11/dist-packages/PIL/Image.py:1045: UserWarning: Palette images with Transparency expressed in bytes should be converted to RGBA images\n",
            "  warnings.warn(\n"
          ]
        },
        {
          "output_type": "stream",
          "name": "stdout",
          "text": [
            "Batch 70/455: Loss = 0.0733\n",
            "Batch 80/455: Loss = 0.0379\n",
            "Batch 90/455: Loss = 0.0388\n",
            "Batch 100/455: Loss = 0.0338\n",
            "Skipping corrupted image: /content/drive/MyDrive/Waste Classification using Transfer Learning/Dataset/paper/paper 2273.jpg - cannot identify image file <_io.BufferedReader name='/content/drive/MyDrive/Waste Classification using Transfer Learning/Dataset/paper/paper 2273.jpg'>\n",
            "Batch 110/455: Loss = 0.1366\n",
            "Batch 120/455: Loss = 0.0469\n",
            "Batch 130/455: Loss = 0.0512\n",
            "Batch 140/455: Loss = 0.2124\n",
            "Batch 150/455: Loss = 0.1727\n",
            "Batch 160/455: Loss = 0.3079\n",
            "Batch 170/455: Loss = 0.0235\n",
            "Batch 180/455: Loss = 0.0745\n",
            "Batch 190/455: Loss = 0.2445\n",
            "Batch 200/455: Loss = 0.0484\n",
            "Batch 210/455: Loss = 0.0132\n",
            "Batch 220/455: Loss = 0.0258\n",
            "Batch 230/455: Loss = 0.0759\n"
          ]
        },
        {
          "output_type": "stream",
          "name": "stderr",
          "text": [
            "/usr/local/lib/python3.11/dist-packages/PIL/Image.py:1045: UserWarning: Palette images with Transparency expressed in bytes should be converted to RGBA images\n",
            "  warnings.warn(\n"
          ]
        },
        {
          "output_type": "stream",
          "name": "stdout",
          "text": [
            "Batch 240/455: Loss = 0.0358\n",
            "Batch 250/455: Loss = 0.0343\n",
            "Batch 260/455: Loss = 0.0095\n",
            "Batch 270/455: Loss = 0.2087\n",
            "Batch 280/455: Loss = 0.0166\n",
            "Batch 290/455: Loss = 0.0610\n",
            "Batch 300/455: Loss = 0.5383\n",
            "Batch 310/455: Loss = 0.1398\n",
            "Batch 320/455: Loss = 0.0984\n",
            "Batch 330/455: Loss = 0.1911\n",
            "Batch 340/455: Loss = 0.0427\n",
            "Batch 350/455: Loss = 0.0424\n",
            "Batch 360/455: Loss = 0.3366\n",
            "Batch 370/455: Loss = 0.0808\n",
            "Batch 380/455: Loss = 0.1363\n",
            "Batch 390/455: Loss = 0.2504\n",
            "Batch 400/455: Loss = 0.0205\n",
            "Batch 410/455: Loss = 0.0534\n",
            "Batch 420/455: Loss = 0.0709\n",
            "Batch 430/455: Loss = 0.1286\n",
            "Batch 440/455: Loss = 0.0538\n",
            "Batch 450/455: Loss = 0.1553\n",
            "Training phase completed. Starting validation...\n"
          ]
        },
        {
          "output_type": "stream",
          "name": "stderr",
          "text": [
            "/usr/local/lib/python3.11/dist-packages/PIL/Image.py:1045: UserWarning: Palette images with Transparency expressed in bytes should be converted to RGBA images\n",
            "  warnings.warn(\n",
            "/usr/local/lib/python3.11/dist-packages/PIL/Image.py:1045: UserWarning: Palette images with Transparency expressed in bytes should be converted to RGBA images\n",
            "  warnings.warn(\n"
          ]
        },
        {
          "output_type": "stream",
          "name": "stdout",
          "text": [
            "Epoch [14/25] completed.\n",
            "Train Loss: 0.1127 | Train Acc: 96.27%\n",
            "Val Loss: 0.4595 | Val Acc: 88.91%\n",
            "Precision: 89.97% | Recall: 88.33% | F1-score: 88.77%\n",
            "\n",
            "Epoch 15/25 started...\n"
          ]
        },
        {
          "output_type": "stream",
          "name": "stderr",
          "text": [
            "/usr/local/lib/python3.11/dist-packages/torch/utils/data/dataloader.py:624: UserWarning: This DataLoader will create 4 worker processes in total. Our suggested max number of worker in current system is 2, which is smaller than what this DataLoader is going to create. Please be aware that excessive worker creation might get DataLoader running slow or even freeze, lower the worker number to avoid potential slowness/freeze if necessary.\n",
            "  warnings.warn(\n"
          ]
        },
        {
          "output_type": "stream",
          "name": "stdout",
          "text": [
            "Batch 0/455: Loss = 0.0179\n",
            "Batch 10/455: Loss = 0.0297\n"
          ]
        },
        {
          "output_type": "stream",
          "name": "stderr",
          "text": [
            "/usr/local/lib/python3.11/dist-packages/PIL/Image.py:1045: UserWarning: Palette images with Transparency expressed in bytes should be converted to RGBA images\n",
            "  warnings.warn(\n"
          ]
        },
        {
          "output_type": "stream",
          "name": "stdout",
          "text": [
            "Batch 20/455: Loss = 0.0810\n",
            "Batch 30/455: Loss = 0.0838\n"
          ]
        },
        {
          "output_type": "stream",
          "name": "stderr",
          "text": [
            "/usr/local/lib/python3.11/dist-packages/PIL/Image.py:1045: UserWarning: Palette images with Transparency expressed in bytes should be converted to RGBA images\n",
            "  warnings.warn(\n"
          ]
        },
        {
          "output_type": "stream",
          "name": "stdout",
          "text": [
            "Batch 40/455: Loss = 0.0792\n"
          ]
        },
        {
          "output_type": "stream",
          "name": "stderr",
          "text": [
            "/usr/local/lib/python3.11/dist-packages/PIL/Image.py:1045: UserWarning: Palette images with Transparency expressed in bytes should be converted to RGBA images\n",
            "  warnings.warn(\n"
          ]
        },
        {
          "output_type": "stream",
          "name": "stdout",
          "text": [
            "Batch 50/455: Loss = 0.1559\n",
            "Skipping corrupted image: /content/drive/MyDrive/Waste Classification using Transfer Learning/Dataset/cardboard/cardboard 1075.jpg - cannot identify image file <_io.BufferedReader name='/content/drive/MyDrive/Waste Classification using Transfer Learning/Dataset/cardboard/cardboard 1075.jpg'>\n",
            "Batch 60/455: Loss = 0.0276\n",
            "Batch 70/455: Loss = 0.0321\n",
            "Batch 80/455: Loss = 0.1887\n",
            "Batch 90/455: Loss = 0.0892\n",
            "Batch 100/455: Loss = 0.0489\n",
            "Batch 110/455: Loss = 0.1079\n",
            "Batch 120/455: Loss = 0.0616\n",
            "Skipping corrupted image: /content/drive/MyDrive/Waste Classification using Transfer Learning/Dataset/e-waste/e-waste 1719.jpg - cannot identify image file <_io.BufferedReader name='/content/drive/MyDrive/Waste Classification using Transfer Learning/Dataset/e-waste/e-waste 1719.jpg'>\n",
            "Batch 130/455: Loss = 0.1012\n",
            "Batch 140/455: Loss = 0.1439\n",
            "Batch 150/455: Loss = 0.0790\n"
          ]
        },
        {
          "output_type": "stream",
          "name": "stderr",
          "text": [
            "/usr/local/lib/python3.11/dist-packages/PIL/Image.py:1045: UserWarning: Palette images with Transparency expressed in bytes should be converted to RGBA images\n",
            "  warnings.warn(\n"
          ]
        },
        {
          "output_type": "stream",
          "name": "stdout",
          "text": [
            "Batch 160/455: Loss = 0.0341\n",
            "Batch 170/455: Loss = 0.0743\n",
            "Batch 180/455: Loss = 0.0482\n",
            "Batch 190/455: Loss = 0.0309\n",
            "Batch 200/455: Loss = 0.0564\n",
            "Batch 210/455: Loss = 0.0233\n",
            "Batch 220/455: Loss = 0.0505\n",
            "Batch 230/455: Loss = 0.1802\n",
            "Batch 240/455: Loss = 0.0136\n",
            "Batch 250/455: Loss = 0.2146\n",
            "Batch 260/455: Loss = 0.0867\n",
            "Batch 270/455: Loss = 0.0731\n",
            "Batch 280/455: Loss = 0.0371\n",
            "Batch 290/455: Loss = 0.0393\n",
            "Batch 300/455: Loss = 0.0394\n",
            "Batch 310/455: Loss = 0.0880\n",
            "Skipping corrupted image: /content/drive/MyDrive/Waste Classification using Transfer Learning/Dataset/paper/paper 2273.jpg - cannot identify image file <_io.BufferedReader name='/content/drive/MyDrive/Waste Classification using Transfer Learning/Dataset/paper/paper 2273.jpg'>\n",
            "Batch 320/455: Loss = 0.0379\n",
            "Batch 330/455: Loss = 0.1088\n",
            "Batch 340/455: Loss = 0.2512\n",
            "Batch 350/455: Loss = 0.0131\n",
            "Batch 360/455: Loss = 0.0266\n",
            "Batch 370/455: Loss = 0.1267\n",
            "Batch 380/455: Loss = 0.0068\n",
            "Batch 390/455: Loss = 0.0228\n",
            "Batch 400/455: Loss = 0.0974\n",
            "Batch 410/455: Loss = 0.1080\n",
            "Batch 420/455: Loss = 0.0641\n",
            "Batch 430/455: Loss = 0.2649\n",
            "Batch 440/455: Loss = 0.2478\n",
            "Batch 450/455: Loss = 0.1671\n",
            "Training phase completed. Starting validation...\n"
          ]
        },
        {
          "output_type": "stream",
          "name": "stderr",
          "text": [
            "/usr/local/lib/python3.11/dist-packages/PIL/Image.py:1045: UserWarning: Palette images with Transparency expressed in bytes should be converted to RGBA images\n",
            "  warnings.warn(\n",
            "/usr/local/lib/python3.11/dist-packages/PIL/Image.py:1045: UserWarning: Palette images with Transparency expressed in bytes should be converted to RGBA images\n",
            "  warnings.warn(\n"
          ]
        },
        {
          "output_type": "stream",
          "name": "stdout",
          "text": [
            "Epoch [15/25] completed.\n",
            "Train Loss: 0.0949 | Train Acc: 96.76%\n",
            "Val Loss: 0.3957 | Val Acc: 89.90%\n",
            "Precision: 90.26% | Recall: 89.57% | F1-score: 89.75%\n",
            "Checkpoint saved at /content/drive/MyDrive/Waste Classification using Transfer Learning/Saved Models/ResNet-50/checkpoint_epoch_15.pth!\n",
            "\n",
            "Epoch 16/25 started...\n"
          ]
        },
        {
          "output_type": "stream",
          "name": "stderr",
          "text": [
            "/usr/local/lib/python3.11/dist-packages/torch/utils/data/dataloader.py:624: UserWarning: This DataLoader will create 4 worker processes in total. Our suggested max number of worker in current system is 2, which is smaller than what this DataLoader is going to create. Please be aware that excessive worker creation might get DataLoader running slow or even freeze, lower the worker number to avoid potential slowness/freeze if necessary.\n",
            "  warnings.warn(\n"
          ]
        },
        {
          "output_type": "stream",
          "name": "stdout",
          "text": [
            "Batch 0/455: Loss = 0.0538\n",
            "Batch 10/455: Loss = 0.0109\n"
          ]
        },
        {
          "output_type": "stream",
          "name": "stderr",
          "text": [
            "/usr/local/lib/python3.11/dist-packages/PIL/Image.py:1045: UserWarning: Palette images with Transparency expressed in bytes should be converted to RGBA images\n",
            "  warnings.warn(\n"
          ]
        },
        {
          "output_type": "stream",
          "name": "stdout",
          "text": [
            "Batch 20/455: Loss = 0.0140\n"
          ]
        },
        {
          "output_type": "stream",
          "name": "stderr",
          "text": [
            "/usr/local/lib/python3.11/dist-packages/PIL/Image.py:1045: UserWarning: Palette images with Transparency expressed in bytes should be converted to RGBA images\n",
            "  warnings.warn(\n"
          ]
        },
        {
          "output_type": "stream",
          "name": "stdout",
          "text": [
            "Batch 30/455: Loss = 0.0573\n"
          ]
        },
        {
          "output_type": "stream",
          "name": "stderr",
          "text": [
            "/usr/local/lib/python3.11/dist-packages/PIL/Image.py:1045: UserWarning: Palette images with Transparency expressed in bytes should be converted to RGBA images\n",
            "  warnings.warn(\n"
          ]
        },
        {
          "output_type": "stream",
          "name": "stdout",
          "text": [
            "Batch 40/455: Loss = 0.0146\n",
            "Batch 50/455: Loss = 0.0353\n",
            "Batch 60/455: Loss = 0.1195\n",
            "Batch 70/455: Loss = 0.0210\n",
            "Batch 80/455: Loss = 0.0448\n",
            "Batch 90/455: Loss = 0.0198\n",
            "Batch 100/455: Loss = 0.0525\n"
          ]
        },
        {
          "output_type": "stream",
          "name": "stderr",
          "text": [
            "/usr/local/lib/python3.11/dist-packages/PIL/Image.py:1045: UserWarning: Palette images with Transparency expressed in bytes should be converted to RGBA images\n",
            "  warnings.warn(\n"
          ]
        },
        {
          "output_type": "stream",
          "name": "stdout",
          "text": [
            "Batch 110/455: Loss = 0.2698\n",
            "Batch 120/455: Loss = 0.0090\n",
            "Skipping corrupted image: /content/drive/MyDrive/Waste Classification using Transfer Learning/Dataset/cardboard/cardboard 1075.jpg - cannot identify image file <_io.BufferedReader name='/content/drive/MyDrive/Waste Classification using Transfer Learning/Dataset/cardboard/cardboard 1075.jpg'>\n",
            "Batch 130/455: Loss = 0.0254\n",
            "Batch 140/455: Loss = 0.0389\n",
            "Batch 150/455: Loss = 0.0325\n",
            "Batch 160/455: Loss = 0.0261\n",
            "Batch 170/455: Loss = 0.0778\n",
            "Batch 180/455: Loss = 0.0342\n",
            "Skipping corrupted image: /content/drive/MyDrive/Waste Classification using Transfer Learning/Dataset/e-waste/e-waste 1719.jpg - cannot identify image file <_io.BufferedReader name='/content/drive/MyDrive/Waste Classification using Transfer Learning/Dataset/e-waste/e-waste 1719.jpg'>\n",
            "Batch 190/455: Loss = 0.0913\n",
            "Batch 200/455: Loss = 0.0690\n",
            "Batch 210/455: Loss = 0.0227\n",
            "Batch 220/455: Loss = 0.1477\n",
            "Batch 230/455: Loss = 0.0187\n",
            "Batch 240/455: Loss = 0.0635\n",
            "Batch 250/455: Loss = 0.0176\n",
            "Batch 260/455: Loss = 0.1573\n",
            "Batch 270/455: Loss = 0.0353\n",
            "Skipping corrupted image: /content/drive/MyDrive/Waste Classification using Transfer Learning/Dataset/paper/paper 2273.jpg - cannot identify image file <_io.BufferedReader name='/content/drive/MyDrive/Waste Classification using Transfer Learning/Dataset/paper/paper 2273.jpg'>\n",
            "Batch 280/455: Loss = 0.0819\n",
            "Batch 290/455: Loss = 0.0492\n",
            "Batch 300/455: Loss = 0.0139\n",
            "Batch 310/455: Loss = 0.0802\n",
            "Batch 320/455: Loss = 0.0625\n",
            "Batch 330/455: Loss = 0.1061\n",
            "Batch 340/455: Loss = 0.0270\n",
            "Batch 350/455: Loss = 0.2544\n",
            "Batch 360/455: Loss = 0.0360\n",
            "Batch 370/455: Loss = 0.0616\n",
            "Batch 380/455: Loss = 0.0597\n",
            "Batch 390/455: Loss = 0.0297\n",
            "Batch 400/455: Loss = 0.0209\n",
            "Batch 410/455: Loss = 0.3295\n",
            "Batch 420/455: Loss = 0.0068\n",
            "Batch 430/455: Loss = 0.0914\n",
            "Batch 440/455: Loss = 0.1772\n",
            "Batch 450/455: Loss = 0.0220\n",
            "Training phase completed. Starting validation...\n"
          ]
        },
        {
          "output_type": "stream",
          "name": "stderr",
          "text": [
            "/usr/local/lib/python3.11/dist-packages/PIL/Image.py:1045: UserWarning: Palette images with Transparency expressed in bytes should be converted to RGBA images\n",
            "  warnings.warn(\n",
            "/usr/local/lib/python3.11/dist-packages/PIL/Image.py:1045: UserWarning: Palette images with Transparency expressed in bytes should be converted to RGBA images\n",
            "  warnings.warn(\n"
          ]
        },
        {
          "output_type": "stream",
          "name": "stdout",
          "text": [
            "Epoch [16/25] completed.\n",
            "Train Loss: 0.0855 | Train Acc: 97.16%\n",
            "Val Loss: 0.4013 | Val Acc: 89.77%\n",
            "Precision: 89.97% | Recall: 89.57% | F1-score: 89.71%\n",
            "Early stopping at epoch 16 due to no improvement in validation loss or accuracy.\n",
            "Training complete!\n"
          ]
        }
      ]
    },
    {
      "cell_type": "code",
      "source": [
        "import torch\n",
        "# Define the folder path\n",
        "save_path = \"/content/drive/MyDrive/Waste Classification using Transfer Learning/Saved Models\"\n",
        "# os.makedirs(save_path, exist_ok=True)  # Create folder if it doesn't exist\n",
        "torch.save(model, os.path.join(save_path, \"Model_ResNet-50.pth\"))\n",
        "print(f\"Model saved successfully in {save_path}/Model_ResNet-50.pth\")"
      ],
      "metadata": {
        "colab": {
          "base_uri": "https://localhost:8080/"
        },
        "id": "-FO-gOGmfCVr",
        "outputId": "1e0b178d-c871-4cc4-c84d-586713e516d3"
      },
      "execution_count": null,
      "outputs": [
        {
          "output_type": "stream",
          "name": "stdout",
          "text": [
            "Model saved successfully in /content/drive/MyDrive/Waste Classification using Transfer Learning/Saved Models/Model_ResNet-50.pth\n"
          ]
        }
      ]
    }
  ]
}